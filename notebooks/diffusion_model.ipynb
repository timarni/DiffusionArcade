{
 "cells": [
  {
   "cell_type": "markdown",
   "metadata": {},
   "source": [
    "# Diffusion models"
   ]
  },
  {
   "cell_type": "code",
   "execution_count": 11,
   "metadata": {},
   "outputs": [
    {
     "name": "stdout",
     "output_type": "stream",
     "text": [
      "The autoreload extension is already loaded. To reload it, use:\n",
      "  %reload_ext autoreload\n"
     ]
    }
   ],
   "source": [
    "%load_ext autoreload\n",
    "%autoreload 2"
   ]
  },
  {
   "cell_type": "code",
   "execution_count": 12,
   "metadata": {},
   "outputs": [
    {
     "data": {
      "text/plain": [
       "PosixPath('/home/aorellan/DiffusionArcade')"
      ]
     },
     "execution_count": 12,
     "metadata": {},
     "output_type": "execute_result"
    }
   ],
   "source": [
    "import numpy as np\n",
    "import torch\n",
    "import torchvision\n",
    "import torch.nn.functional as F\n",
    "import sys\n",
    "\n",
    "from pathlib import Path\n",
    "from matplotlib import pyplot as plt\n",
    "from PIL import Image\n",
    "from datasets import load_dataset\n",
    "from torch.utils.data import DataLoader\n",
    "from torchvision import transforms\n",
    "from tqdm import tqdm\n",
    "\n",
    "project_root = Path().absolute().parent\n",
    "sys.path.append(str(project_root))\n",
    "project_root"
   ]
  },
  {
   "cell_type": "code",
   "execution_count": 13,
   "metadata": {},
   "outputs": [
    {
     "data": {
      "text/plain": [
       "device(type='cuda')"
      ]
     },
     "execution_count": 13,
     "metadata": {},
     "output_type": "execute_result"
    }
   ],
   "source": [
    "device = torch.device(\"cuda\" if torch.cuda.is_available() else \"cpu\")\n",
    "device"
   ]
  },
  {
   "cell_type": "code",
   "execution_count": 14,
   "metadata": {},
   "outputs": [],
   "source": [
    "from src.diffusion.model import login_huggingface\n",
    "\n",
    "login_huggingface()"
   ]
  },
  {
   "cell_type": "markdown",
   "metadata": {},
   "source": [
    "#### Utils to show images and make grids"
   ]
  },
  {
   "cell_type": "code",
   "execution_count": 15,
   "metadata": {},
   "outputs": [],
   "source": [
    "def show_images(x):\n",
    "    \"\"\"Given a batch of images x, make a grid and convert to PIL\"\"\"\n",
    "    x = x * 0.5 + 0.5  # Map from (-1, 1) back to (0, 1)\n",
    "    grid = torchvision.utils.make_grid(x)\n",
    "    grid_im = grid.detach().cpu().permute(1, 2, 0).clip(0, 1) * 255\n",
    "    grid_im = Image.fromarray(np.asarray(grid_im).astype(np.uint8))\n",
    "    return grid_im\n",
    "\n",
    "\n",
    "def make_grid(images, size=64):\n",
    "    \"\"\"Given a list of PIL images, stack them together into a line for easy viewing\"\"\"\n",
    "    output_im = Image.new(\"RGB\", (size * len(images), size))\n",
    "    for i, im in enumerate(images):\n",
    "        output_im.paste(im.resize((size, size)), (i * size, 0))\n",
    "    return output_im"
   ]
  },
  {
   "cell_type": "markdown",
   "metadata": {},
   "source": [
    "### Dataset"
   ]
  },
  {
   "cell_type": "code",
   "execution_count": 16,
   "metadata": {},
   "outputs": [
    {
     "data": {
      "application/vnd.jupyter.widget-view+json": {
       "model_id": "0139f96ae34f409b811d7b1be16dbee1",
       "version_major": 2,
       "version_minor": 0
      },
      "text/plain": [
       "Resolving data files:   0%|          | 0/1592 [00:00<?, ?it/s]"
      ]
     },
     "metadata": {},
     "output_type": "display_data"
    }
   ],
   "source": [
    "dataset = load_dataset(\n",
    "    \"imagefolder\",\n",
    "    data_dir=\"../screens/\",\n",
    "    split=\"train\"\n",
    ")"
   ]
  },
  {
   "cell_type": "code",
   "execution_count": 17,
   "metadata": {},
   "outputs": [
    {
     "data": {
      "text/plain": [
       "Dataset({\n",
       "    features: ['image'],\n",
       "    num_rows: 1592\n",
       "})"
      ]
     },
     "execution_count": 17,
     "metadata": {},
     "output_type": "execute_result"
    }
   ],
   "source": [
    "dataset"
   ]
  },
  {
   "cell_type": "code",
   "execution_count": 9,
   "metadata": {},
   "outputs": [],
   "source": [
    "split_datasets = dataset.train_test_split(test_size=0.2, seed=42)\n",
    "train_dataset = split_datasets[\"train\"]\n",
    "val_dataset   = split_datasets[\"test\"]"
   ]
  },
  {
   "cell_type": "code",
   "execution_count": 92,
   "metadata": {},
   "outputs": [],
   "source": [
    "image_size = 128\n",
    "batch_size = 64\n",
    "\n",
    "preprocess = transforms.Compose([\n",
    "    transforms.Resize((image_size, image_size)),   # Resize to square\n",
    "    transforms.Grayscale(num_output_channels=1),   # → single‐channel “L” image\n",
    "    transforms.ToTensor(),                         # → tensor in [0,1], shape = [1,H,W]\n",
    "    transforms.Normalize([0.5], [0.5]),            # → tensor in [−1,1]\n",
    "])\n",
    "\n",
    "\n",
    "def transform(examples):\n",
    "    imgs = [preprocess(img) for img in examples[\"image\"]]\n",
    "    return {\"image\": imgs}\n",
    "\n",
    "train_dataset.set_transform(transform)\n",
    "val_dataset.set_transform(transform)\n",
    "\n",
    "train_dataloader = DataLoader(\n",
    "    train_dataset, batch_size=batch_size, shuffle=True\n",
    ")\n",
    "val_dataloader = DataLoader(\n",
    "    val_dataset, batch_size=batch_size, shuffle=False\n",
    ")"
   ]
  },
  {
   "cell_type": "code",
   "execution_count": 93,
   "metadata": {},
   "outputs": [
    {
     "name": "stdout",
     "output_type": "stream",
     "text": [
      "X shape: torch.Size([8, 1, 128, 128])\n",
      "Batch of images in training dataset:\n"
     ]
    },
    {
     "data": {
      "image/jpeg": "[encoded data removed]",
      "image/png": "[encoded data removed]",
      "text/plain": [
       "<PIL.Image.Image image mode=RGB size=1024x128>"
      ]
     },
     "execution_count": 93,
     "metadata": {},
     "output_type": "execute_result"
    }
   ],
   "source": [
    "train_batch_images = next(iter(train_dataloader))[\"image\"].to(device)[:8]\n",
    "print(\"X shape:\", train_batch_images.shape)\n",
    "\n",
    "print('Batch of images in training dataset:')\n",
    "show_images(train_batch_images).resize((8 * 128, 128), resample=Image.NEAREST)"
   ]
  },
  {
   "cell_type": "code",
   "execution_count": 94,
   "metadata": {},
   "outputs": [
    {
     "name": "stdout",
     "output_type": "stream",
     "text": [
      "X shape: torch.Size([8, 1, 128, 128])\n",
      "Batch of images in validation dataset:\n"
     ]
    },
    {
     "data": {
      "image/jpeg": "[encoded data removed]",
      "image/png": "[encoded data removed]",
      "text/plain": [
       "<PIL.Image.Image image mode=RGB size=1024x128>"
      ]
     },
     "execution_count": 94,
     "metadata": {},
     "output_type": "execute_result"
    }
   ],
   "source": [
    "val_batch_images = next(iter(val_dataloader))[\"image\"].to(device)[:8]\n",
    "print(\"X shape:\", val_batch_images.shape)\n",
    "\n",
    "print('Batch of images in validation dataset:')\n",
    "show_images(val_batch_images).resize((8 * 128, 128), resample=Image.NEAREST)"
   ]
  },
  {
   "cell_type": "markdown",
   "metadata": {},
   "source": [
    "## Diffusion model"
   ]
  },
  {
   "cell_type": "markdown",
   "metadata": {},
   "source": [
    "#### Forward diffusion process"
   ]
  },
  {
   "cell_type": "code",
   "execution_count": 95,
   "metadata": {},
   "outputs": [],
   "source": [
    "from diffusers import DDIMScheduler # We can also use DDPM scheduler, but this is slower\n",
    "\n",
    "timesteps = 1000\n",
    "\n",
    "schedulers = {\n",
    "    \"cosine\": DDIMScheduler(\n",
    "        num_train_timesteps=timesteps,\n",
    "        beta_schedule=\"squaredcos_cap_v2\"\n",
    "    ),\n",
    "    \"linear\": DDIMScheduler(\n",
    "        num_train_timesteps=timesteps,\n",
    "        beta_schedule=\"linear\"\n",
    "    ),\n",
    "}"
   ]
  },
  {
   "cell_type": "markdown",
   "metadata": {},
   "source": [
    "The forward diffusion process progressively adds noise to the original image $\\mathbf{x}_0$ as timestep $t$ increases.\n",
    "\n",
    "The process is defined by the re-parameterization formula:\n",
    "\n",
    "$$\n",
    "q(\\mathbf{x}_t \\mid \\mathbf{x}_0)\n",
    "    = \\mathcal{N}\\!\\bigl(\n",
    "        \\mathbf{x}_t;\\,\n",
    "        \\sqrt{\\bar{\\alpha}_t}\\,\\mathbf{x}_0,\\,\n",
    "        (1 - \\bar{\\alpha}_t)\\,\\mathbf{I}\n",
    "      \\bigr)\n",
    "$$\n",
    "\n",
    "where:\n",
    "\n",
    "* $\\mathbf{x}_t$ — noisy image at timestep $t$  \n",
    "* $\\sqrt{\\bar{\\alpha}_t}$ — scales down the original image  \n",
    "* $1-\\bar{\\alpha}_t$ — variance of the added Gaussian noise"
   ]
  },
  {
   "cell_type": "code",
   "execution_count": 96,
   "metadata": {},
   "outputs": [
    {
     "data": {
      "image/png": "[encoded data removed]",
      "text/plain": [
       "<Figure size 1000x400 with 2 Axes>"
      ]
     },
     "metadata": {},
     "output_type": "display_data"
    }
   ],
   "source": [
    "fig, axes = plt.subplots(1, 2, figsize=(10, 4), sharey=True)\n",
    "\n",
    "for ax, (name, sched) in zip(axes, schedulers.items()):\n",
    "    alphas_cumprod = sched.alphas_cumprod.cpu()\n",
    "    \n",
    "    ax.plot(\n",
    "        alphas_cumprod ** 0.5,\n",
    "        label=r\"$\\sqrt{\\bar{\\alpha}_t}$\"\n",
    "    )\n",
    "    ax.plot(\n",
    "        (1 - alphas_cumprod) ** 0.5,\n",
    "        label=r\"$\\sqrt{1 - \\bar{\\alpha}_t}$\"\n",
    "    )\n",
    "    ax.set_title(f\"{name.capitalize()} variance schedule\", fontsize=14)\n",
    "    ax.set_xlabel(\"Image timestep\", fontsize=12)\n",
    "    ax.legend(fontsize=\"x-large\")\n",
    "    \n",
    "axes[0].set_ylabel(\"Variance of added Gaussian noise\", fontsize=12)\n",
    "\n",
    "plt.tight_layout()\n",
    "plt.show()"
   ]
  },
  {
   "cell_type": "markdown",
   "metadata": {},
   "source": [
    "The more time steps, the more noise is added to the original image $\\mathbf{x}_0$"
   ]
  },
  {
   "cell_type": "code",
   "execution_count": 97,
   "metadata": {},
   "outputs": [
    {
     "data": {
      "text/plain": [
       "tensor([  0, 142, 285, 428, 570, 713, 856, 999], device='cuda:0')"
      ]
     },
     "execution_count": 97,
     "metadata": {},
     "output_type": "execute_result"
    }
   ],
   "source": [
    "timesteps = torch.linspace(0, 999, 8).long().to(device)\n",
    "timesteps"
   ]
  },
  {
   "cell_type": "markdown",
   "metadata": {},
   "source": [
    "The following images demonstrate the progressive addition of noise to the original image $\\mathbf{x}_0$ across different timesteps. The sequence shows a gradual transition from minimal noise in the initial images to almost complete noise in the final image."
   ]
  },
  {
   "cell_type": "code",
   "execution_count": 98,
   "metadata": {},
   "outputs": [
    {
     "name": "stdout",
     "output_type": "stream",
     "text": [
      "Noisy X shape torch.Size([8, 1, 128, 128])\n"
     ]
    },
    {
     "data": {
      "image/jpeg": "[encoded data removed]",
      "image/png": "[encoded data removed]",
      "text/plain": [
       "<PIL.Image.Image image mode=RGB size=1024x128>"
      ]
     },
     "execution_count": 98,
     "metadata": {},
     "output_type": "execute_result"
    }
   ],
   "source": [
    "noise = torch.randn_like(train_batch_images) # same shape as xb: [Batch size, Channels, Height, Width]\n",
    "\n",
    "noisy_train_batch_images = schedulers[\"cosine\"].add_noise(train_batch_images, noise, timesteps)\n",
    "print(\"Noisy X shape\", train_batch_images.shape)\n",
    "show_images(noisy_train_batch_images).resize((8 * 128, 128), resample=Image.NEAREST)"
   ]
  },
  {
   "cell_type": "markdown",
   "metadata": {},
   "source": [
    "#### Training"
   ]
  },
  {
   "cell_type": "code",
   "execution_count": 18,
   "metadata": {},
   "outputs": [],
   "source": [
    "from src.diffusion.model import DiffusionModel, load_config"
   ]
  },
  {
   "cell_type": "code",
   "execution_count": 23,
   "metadata": {},
   "outputs": [],
   "source": [
    "config = load_config(\"../config.yaml\")\n",
    "\n",
    "device = torch.device(\"cuda\" if torch.cuda.is_available() else \"cpu\")\n",
    "\n",
    "image_size=config['training']['image_size']\n",
    "in_channels=config['training']['in_channels']\n",
    "out_channels=config['training']['out_channels']\n",
    "timesteps = config['training']['timesteps']\n",
    "beta_schedule=config['training']['beta_schedule']\n",
    "\n",
    "model = DiffusionModel(\n",
    "    image_size=image_size,\n",
    "    in_channels=in_channels,\n",
    "    out_channels=out_channels,\n",
    "    device=device,\n",
    "    timesteps=timesteps,\n",
    "    beta_schedule=beta_schedule,\n",
    ")"
   ]
  },
  {
   "cell_type": "code",
   "execution_count": 101,
   "metadata": {},
   "outputs": [
    {
     "data": {
      "text/html": [
       "Finishing previous runs because reinit is set to 'default'."
      ],
      "text/plain": [
       "<IPython.core.display.HTML object>"
      ]
     },
     "metadata": {},
     "output_type": "display_data"
    },
    {
     "data": {
      "text/html": [],
      "text/plain": [
       "<IPython.core.display.HTML object>"
      ]
     },
     "metadata": {},
     "output_type": "display_data"
    },
    {
     "data": {
      "text/html": [
       "<br>    <style><br>        .wandb-row {<br>            display: flex;<br>            flex-direction: row;<br>            flex-wrap: wrap;<br>            justify-content: flex-start;<br>            width: 100%;<br>        }<br>        .wandb-col {<br>            display: flex;<br>            flex-direction: column;<br>            flex-basis: 100%;<br>            flex: 1;<br>            padding: 10px;<br>        }<br>    </style><br><div class=\"wandb-row\"><div class=\"wandb-col\"><h3>Run history:</h3><br/><table class=\"wandb\"><tr><td>epoch</td><td>▁▁▁▂▂▂▂▃▃▃▃▄▄▄▄▅▅▅▅▆▆▆▆▇▇▇▇███</td></tr><tr><td>epoch/train_loss</td><td>█▂▂▁▁▁▁▁▁▁▁▁▁▁▁▁▁▁▁▁▁▁▁▁▁▁▁▁▁▁</td></tr><tr><td>epoch/val_loss</td><td>█▅▄▃▂▂▂▂▂▂▁▁▁▁▁▁▁▁▁▁▁▁▁▁▁▁▁▁▁▁</td></tr><tr><td>train/loss</td><td>██▇▅▅▃▃▃▃▃▃▂▃▂▂▁▁▁▁▁▁▁▁▂▁▂▂▁▁▁▁▁▁▁▁▁▁▁▂▁</td></tr></table><br/></div><div class=\"wandb-col\"><h3>Run summary:</h3><br/><table class=\"wandb\"><tr><td>epoch</td><td>30</td></tr><tr><td>epoch/train_loss</td><td>0.00161</td></tr><tr><td>epoch/val_loss</td><td>0.00187</td></tr><tr><td>train/loss</td><td>0.00114</td></tr></table><br/></div></div>"
      ],
      "text/plain": [
       "<IPython.core.display.HTML object>"
      ]
     },
     "metadata": {},
     "output_type": "display_data"
    },
    {
     "data": {
      "text/html": [
       " View run <strong style=\"color:#cdcd00\">diffusion-model</strong> at: <a href='https://wandb.ai/adriana-orellana-torrico/diffusion-arcade/runs/maapru7t' target=\"_blank\">https://wandb.ai/adriana-orellana-torrico/diffusion-arcade/runs/maapru7t</a><br> View project at: <a href='https://wandb.ai/adriana-orellana-torrico/diffusion-arcade' target=\"_blank\">https://wandb.ai/adriana-orellana-torrico/diffusion-arcade</a><br>Synced 5 W&B file(s), 0 media file(s), 0 artifact file(s) and 0 other file(s)"
      ],
      "text/plain": [
       "<IPython.core.display.HTML object>"
      ]
     },
     "metadata": {},
     "output_type": "display_data"
    },
    {
     "data": {
      "text/html": [
       "Find logs at: <code>./wandb/run-20250511_110844-maapru7t/logs</code>"
      ],
      "text/plain": [
       "<IPython.core.display.HTML object>"
      ]
     },
     "metadata": {},
     "output_type": "display_data"
    },
    {
     "data": {
      "text/html": [
       "Tracking run with wandb version 0.19.11"
      ],
      "text/plain": [
       "<IPython.core.display.HTML object>"
      ]
     },
     "metadata": {},
     "output_type": "display_data"
    },
    {
     "data": {
      "text/html": [
       "Run data is saved locally in <code>/home/aorellan/DiffusionArcade/notebooks/wandb/run-20250511_115754-u7g4zddj</code>"
      ],
      "text/plain": [
       "<IPython.core.display.HTML object>"
      ]
     },
     "metadata": {},
     "output_type": "display_data"
    },
    {
     "data": {
      "text/html": [
       "Syncing run <strong><a href='https://wandb.ai/adriana-orellana-torrico/diffusion-arcade/runs/u7g4zddj' target=\"_blank\">diffusion-model-ddpm</a></strong> to <a href='https://wandb.ai/adriana-orellana-torrico/diffusion-arcade' target=\"_blank\">Weights & Biases</a> (<a href='https://wandb.me/developer-guide' target=\"_blank\">docs</a>)<br>"
      ],
      "text/plain": [
       "<IPython.core.display.HTML object>"
      ]
     },
     "metadata": {},
     "output_type": "display_data"
    },
    {
     "data": {
      "text/html": [
       " View project at <a href='https://wandb.ai/adriana-orellana-torrico/diffusion-arcade' target=\"_blank\">https://wandb.ai/adriana-orellana-torrico/diffusion-arcade</a>"
      ],
      "text/plain": [
       "<IPython.core.display.HTML object>"
      ]
     },
     "metadata": {},
     "output_type": "display_data"
    },
    {
     "data": {
      "text/html": [
       " View run at <a href='https://wandb.ai/adriana-orellana-torrico/diffusion-arcade/runs/u7g4zddj' target=\"_blank\">https://wandb.ai/adriana-orellana-torrico/diffusion-arcade/runs/u7g4zddj</a>"
      ],
      "text/plain": [
       "<IPython.core.display.HTML object>"
      ]
     },
     "metadata": {},
     "output_type": "display_data"
    },
    {
     "name": "stderr",
     "output_type": "stream",
     "text": [
      "Epoch 1/30:   0%|                                                                                                                             | 0/20 [00:00<?, ?it/s]/home/aorellan/miniconda3/envs/diffusion_arcade/lib/python3.10/site-packages/diffusers/configuration_utils.py:141: FutureWarning: Accessing config attribute `num_train_timesteps` directly via 'DDPMScheduler' object attribute is deprecated. Please access 'num_train_timesteps' over 'DDPMScheduler's config object instead, e.g. 'scheduler.config.num_train_timesteps'.\n",
      "  deprecate(\"direct config name access\", \"1.0.0\", deprecation_message, standard_warn=False)\n",
      "Epoch 1/30: 100%|███████████████████████████████████████████████████████████████████████████████████████████████████████| 20/20 [00:26<00:00,  1.34s/it, loss=0.0292]\n"
     ]
    },
    {
     "name": "stdout",
     "output_type": "stream",
     "text": [
      "Epoch [1/30] Train Loss: 0.1618 Val Loss: 0.0320\n"
     ]
    },
    {
     "name": "stderr",
     "output_type": "stream",
     "text": [
      "Epoch 2/30: 100%|███████████████████████████████████████████████████████████████████████████████████████████████████████| 20/20 [00:26<00:00,  1.34s/it, loss=0.0191]\n"
     ]
    },
    {
     "name": "stdout",
     "output_type": "stream",
     "text": [
      "Epoch [2/30] Train Loss: 0.0244 Val Loss: 0.0205\n"
     ]
    },
    {
     "name": "stderr",
     "output_type": "stream",
     "text": [
      "Epoch 3/30: 100%|███████████████████████████████████████████████████████████████████████████████████████████████████████| 20/20 [00:26<00:00,  1.34s/it, loss=0.0158]\n"
     ]
    },
    {
     "name": "stdout",
     "output_type": "stream",
     "text": [
      "Epoch [3/30] Train Loss: 0.0161 Val Loss: 0.0131\n"
     ]
    },
    {
     "name": "stderr",
     "output_type": "stream",
     "text": [
      "Epoch 4/30: 100%|███████████████████████████████████████████████████████████████████████████████████████████████████████| 20/20 [00:26<00:00,  1.34s/it, loss=0.0105]\n"
     ]
    },
    {
     "name": "stdout",
     "output_type": "stream",
     "text": [
      "Epoch [4/30] Train Loss: 0.0121 Val Loss: 0.0104\n"
     ]
    },
    {
     "name": "stderr",
     "output_type": "stream",
     "text": [
      "Epoch 5/30: 100%|██████████████████████████████████████████████████████████████████████████████████████████████████████| 20/20 [00:26<00:00,  1.34s/it, loss=0.00804]\n"
     ]
    },
    {
     "name": "stdout",
     "output_type": "stream",
     "text": [
      "Epoch [5/30] Train Loss: 0.0101 Val Loss: 0.0103\n"
     ]
    },
    {
     "name": "stderr",
     "output_type": "stream",
     "text": [
      "Epoch 6/30: 100%|████████████████████████████████████████████████████████████████████████████████████████████████████████| 20/20 [00:26<00:00,  1.34s/it, loss=0.011]\n"
     ]
    },
    {
     "name": "stdout",
     "output_type": "stream",
     "text": [
      "Epoch [6/30] Train Loss: 0.0084 Val Loss: 0.0066\n"
     ]
    },
    {
     "name": "stderr",
     "output_type": "stream",
     "text": [
      "Epoch 7/30: 100%|███████████████████████████████████████████████████████████████████████████████████████████████████████| 20/20 [00:26<00:00,  1.34s/it, loss=0.0057]\n"
     ]
    },
    {
     "name": "stdout",
     "output_type": "stream",
     "text": [
      "Epoch [7/30] Train Loss: 0.0065 Val Loss: 0.0058\n"
     ]
    },
    {
     "name": "stderr",
     "output_type": "stream",
     "text": [
      "Epoch 8/30: 100%|██████████████████████████████████████████████████████████████████████████████████████████████████████| 20/20 [00:26<00:00,  1.34s/it, loss=0.00627]\n"
     ]
    },
    {
     "name": "stdout",
     "output_type": "stream",
     "text": [
      "Epoch [8/30] Train Loss: 0.0064 Val Loss: 0.0070\n"
     ]
    },
    {
     "name": "stderr",
     "output_type": "stream",
     "text": [
      "Epoch 9/30: 100%|██████████████████████████████████████████████████████████████████████████████████████████████████████| 20/20 [00:26<00:00,  1.34s/it, loss=0.00483]\n"
     ]
    },
    {
     "name": "stdout",
     "output_type": "stream",
     "text": [
      "Epoch [9/30] Train Loss: 0.0056 Val Loss: 0.0043\n"
     ]
    },
    {
     "name": "stderr",
     "output_type": "stream",
     "text": [
      "Epoch 10/30: 100%|█████████████████████████████████████████████████████████████████████████████████████████████████████| 20/20 [00:26<00:00,  1.34s/it, loss=0.00374]\n"
     ]
    },
    {
     "name": "stdout",
     "output_type": "stream",
     "text": [
      "Epoch [10/30] Train Loss: 0.0041 Val Loss: 0.0035\n"
     ]
    },
    {
     "name": "stderr",
     "output_type": "stream",
     "text": [
      "Epoch 11/30: 100%|█████████████████████████████████████████████████████████████████████████████████████████████████████| 20/20 [00:26<00:00,  1.34s/it, loss=0.00377]\n"
     ]
    },
    {
     "name": "stdout",
     "output_type": "stream",
     "text": [
      "Epoch [11/30] Train Loss: 0.0034 Val Loss: 0.0030\n"
     ]
    },
    {
     "name": "stderr",
     "output_type": "stream",
     "text": [
      "Epoch 12/30: 100%|█████████████████████████████████████████████████████████████████████████████████████████████████████| 20/20 [00:26<00:00,  1.34s/it, loss=0.00326]\n"
     ]
    },
    {
     "name": "stdout",
     "output_type": "stream",
     "text": [
      "Epoch [12/30] Train Loss: 0.0037 Val Loss: 0.0035\n"
     ]
    },
    {
     "name": "stderr",
     "output_type": "stream",
     "text": [
      "Epoch 13/30: 100%|█████████████████████████████████████████████████████████████████████████████████████████████████████| 20/20 [00:26<00:00,  1.34s/it, loss=0.00261]\n"
     ]
    },
    {
     "name": "stdout",
     "output_type": "stream",
     "text": [
      "Epoch [13/30] Train Loss: 0.0033 Val Loss: 0.0034\n"
     ]
    },
    {
     "name": "stderr",
     "output_type": "stream",
     "text": [
      "Epoch 14/30: 100%|█████████████████████████████████████████████████████████████████████████████████████████████████████| 20/20 [00:26<00:00,  1.33s/it, loss=0.00234]\n"
     ]
    },
    {
     "name": "stdout",
     "output_type": "stream",
     "text": [
      "Epoch [14/30] Train Loss: 0.0031 Val Loss: 0.0032\n"
     ]
    },
    {
     "name": "stderr",
     "output_type": "stream",
     "text": [
      "Epoch 15/30: 100%|█████████████████████████████████████████████████████████████████████████████████████████████████████| 20/20 [00:26<00:00,  1.34s/it, loss=0.00211]\n"
     ]
    },
    {
     "name": "stdout",
     "output_type": "stream",
     "text": [
      "Epoch [15/30] Train Loss: 0.0028 Val Loss: 0.0027\n"
     ]
    },
    {
     "name": "stderr",
     "output_type": "stream",
     "text": [
      "Epoch 16/30: 100%|█████████████████████████████████████████████████████████████████████████████████████████████████████| 20/20 [00:26<00:00,  1.34s/it, loss=0.00188]\n"
     ]
    },
    {
     "name": "stdout",
     "output_type": "stream",
     "text": [
      "Epoch [16/30] Train Loss: 0.0024 Val Loss: 0.0025\n"
     ]
    },
    {
     "name": "stderr",
     "output_type": "stream",
     "text": [
      "Epoch 17/30: 100%|█████████████████████████████████████████████████████████████████████████████████████████████████████| 20/20 [00:26<00:00,  1.34s/it, loss=0.00206]\n"
     ]
    },
    {
     "name": "stdout",
     "output_type": "stream",
     "text": [
      "Epoch [17/30] Train Loss: 0.0022 Val Loss: 0.0021\n"
     ]
    },
    {
     "name": "stderr",
     "output_type": "stream",
     "text": [
      "Epoch 18/30: 100%|█████████████████████████████████████████████████████████████████████████████████████████████████████| 20/20 [00:26<00:00,  1.34s/it, loss=0.00184]\n"
     ]
    },
    {
     "name": "stdout",
     "output_type": "stream",
     "text": [
      "Epoch [18/30] Train Loss: 0.0020 Val Loss: 0.0022\n"
     ]
    },
    {
     "name": "stderr",
     "output_type": "stream",
     "text": [
      "Epoch 19/30: 100%|█████████████████████████████████████████████████████████████████████████████████████████████████████| 20/20 [00:26<00:00,  1.34s/it, loss=0.00207]\n"
     ]
    },
    {
     "name": "stdout",
     "output_type": "stream",
     "text": [
      "Epoch [19/30] Train Loss: 0.0021 Val Loss: 0.0023\n"
     ]
    },
    {
     "name": "stderr",
     "output_type": "stream",
     "text": [
      "Epoch 20/30: 100%|█████████████████████████████████████████████████████████████████████████████████████████████████████| 20/20 [00:26<00:00,  1.34s/it, loss=0.00286]\n"
     ]
    },
    {
     "name": "stdout",
     "output_type": "stream",
     "text": [
      "Epoch [20/30] Train Loss: 0.0026 Val Loss: 0.0026\n"
     ]
    },
    {
     "name": "stderr",
     "output_type": "stream",
     "text": [
      "Epoch 21/30: 100%|█████████████████████████████████████████████████████████████████████████████████████████████████████| 20/20 [00:26<00:00,  1.34s/it, loss=0.00205]\n"
     ]
    },
    {
     "name": "stdout",
     "output_type": "stream",
     "text": [
      "Epoch [21/30] Train Loss: 0.0025 Val Loss: 0.0028\n"
     ]
    },
    {
     "name": "stderr",
     "output_type": "stream",
     "text": [
      "Epoch 22/30: 100%|█████████████████████████████████████████████████████████████████████████████████████████████████████| 20/20 [00:26<00:00,  1.34s/it, loss=0.00197]\n"
     ]
    },
    {
     "name": "stdout",
     "output_type": "stream",
     "text": [
      "Epoch [22/30] Train Loss: 0.0020 Val Loss: 0.0017\n"
     ]
    },
    {
     "name": "stderr",
     "output_type": "stream",
     "text": [
      "Epoch 23/30: 100%|█████████████████████████████████████████████████████████████████████████████████████████████████████| 20/20 [00:26<00:00,  1.34s/it, loss=0.00166]\n"
     ]
    },
    {
     "name": "stdout",
     "output_type": "stream",
     "text": [
      "Epoch [23/30] Train Loss: 0.0018 Val Loss: 0.0019\n"
     ]
    },
    {
     "name": "stderr",
     "output_type": "stream",
     "text": [
      "Epoch 24/30: 100%|█████████████████████████████████████████████████████████████████████████████████████████████████████| 20/20 [00:26<00:00,  1.34s/it, loss=0.00177]\n"
     ]
    },
    {
     "name": "stdout",
     "output_type": "stream",
     "text": [
      "Epoch [24/30] Train Loss: 0.0016 Val Loss: 0.0021\n"
     ]
    },
    {
     "name": "stderr",
     "output_type": "stream",
     "text": [
      "Epoch 25/30: 100%|█████████████████████████████████████████████████████████████████████████████████████████████████████| 20/20 [00:26<00:00,  1.34s/it, loss=0.00162]\n"
     ]
    },
    {
     "name": "stdout",
     "output_type": "stream",
     "text": [
      "Epoch [25/30] Train Loss: 0.0016 Val Loss: 0.0018\n"
     ]
    },
    {
     "name": "stderr",
     "output_type": "stream",
     "text": [
      "Epoch 26/30: 100%|█████████████████████████████████████████████████████████████████████████████████████████████████████| 20/20 [00:26<00:00,  1.34s/it, loss=0.00178]\n"
     ]
    },
    {
     "name": "stdout",
     "output_type": "stream",
     "text": [
      "Epoch [26/30] Train Loss: 0.0017 Val Loss: 0.0014\n"
     ]
    },
    {
     "name": "stderr",
     "output_type": "stream",
     "text": [
      "Epoch 27/30: 100%|█████████████████████████████████████████████████████████████████████████████████████████████████████| 20/20 [00:26<00:00,  1.34s/it, loss=0.00117]\n"
     ]
    },
    {
     "name": "stdout",
     "output_type": "stream",
     "text": [
      "Epoch [27/30] Train Loss: 0.0017 Val Loss: 0.0017\n"
     ]
    },
    {
     "name": "stderr",
     "output_type": "stream",
     "text": [
      "Epoch 28/30: 100%|█████████████████████████████████████████████████████████████████████████████████████████████████████| 20/20 [00:26<00:00,  1.34s/it, loss=0.00235]\n"
     ]
    },
    {
     "name": "stdout",
     "output_type": "stream",
     "text": [
      "Epoch [28/30] Train Loss: 0.0017 Val Loss: 0.0014\n"
     ]
    },
    {
     "name": "stderr",
     "output_type": "stream",
     "text": [
      "Epoch 29/30: 100%|█████████████████████████████████████████████████████████████████████████████████████████████████████| 20/20 [00:26<00:00,  1.34s/it, loss=0.00128]\n"
     ]
    },
    {
     "name": "stdout",
     "output_type": "stream",
     "text": [
      "Epoch [29/30] Train Loss: 0.0016 Val Loss: 0.0015\n"
     ]
    },
    {
     "name": "stderr",
     "output_type": "stream",
     "text": [
      "Epoch 30/30: 100%|█████████████████████████████████████████████████████████████████████████████████████████████████████| 20/20 [00:26<00:00,  1.34s/it, loss=0.00147]\n"
     ]
    },
    {
     "name": "stdout",
     "output_type": "stream",
     "text": [
      "Epoch [30/30] Train Loss: 0.0017 Val Loss: 0.0020\n"
     ]
    }
   ],
   "source": [
    "epochs = config[\"training\"][\"epochs\"]\n",
    "lr = config[\"training\"][\"learning_rate\"]\n",
    "wandb_cfg = {\n",
    "    \"project\": config[\"wandb\"][\"project\"],\n",
    "    \"entity\": config[\"wandb\"][\"entity\"],\n",
    "    \"name\": config[\"wandb\"][\"run_name\"],\n",
    "    \"config\": config\n",
    "}\n",
    "\n",
    "train_losses, val_losses = model.train(\n",
    "    train_dataloader=train_dataloader,\n",
    "    val_dataloader=val_dataloader,\n",
    "    epochs=epochs,\n",
    "    lr=lr,\n",
    "    wandb_config=wandb_cfg,\n",
    ")"
   ]
  },
  {
   "cell_type": "code",
   "execution_count": 102,
   "metadata": {},
   "outputs": [
    {
     "data": {
      "image/png": "[encoded data removed]",
      "text/plain": [
       "<Figure size 600x400 with 1 Axes>"
      ]
     },
     "metadata": {},
     "output_type": "display_data"
    }
   ],
   "source": [
    "fig, ax = plt.subplots(figsize=(6, 4))\n",
    "fig.suptitle(\"Diffusion Model Training & Validation Loss\")\n",
    "\n",
    "ax.plot(train_losses, label=\"Train Loss\")\n",
    "ax.plot(val_losses, label=\"Val Loss\")\n",
    "\n",
    "ax.set_xlabel(\"Epoch\")\n",
    "ax.set_ylabel(\"Loss\")\n",
    "ax.legend()\n",
    "\n",
    "plt.show()"
   ]
  },
  {
   "cell_type": "markdown",
   "metadata": {},
   "source": [
    "#### Generation"
   ]
  },
  {
   "cell_type": "code",
   "execution_count": 105,
   "metadata": {},
   "outputs": [
    {
     "data": {
      "image/jpeg": "[encoded data removed]",
      "image/png": "[encoded data removed]",
      "text/plain": [
       "<PIL.Image.Image image mode=RGB size=1042x132>"
      ]
     },
     "execution_count": 105,
     "metadata": {},
     "output_type": "execute_result"
    }
   ],
   "source": [
    "n_images = 8\n",
    "n_channels = 1\n",
    "num_inference_steps = 1000\n",
    "\n",
    "sample = model.generate(n_images, n_channels, num_inference_steps)\n",
    "\n",
    "show_images(sample)"
   ]
  },
  {
   "cell_type": "markdown",
   "metadata": {},
   "source": [
    "### Latent representations"
   ]
  },
  {
   "cell_type": "code",
   "execution_count": 123,
   "metadata": {},
   "outputs": [
    {
     "data": {
      "application/vnd.jupyter.widget-view+json": {
       "model_id": "69ecd68ecd1b4439ac4aa907e6748e5e",
       "version_major": 2,
       "version_minor": 0
      },
      "text/plain": [
       "Resolving data files:   0%|          | 0/1592 [00:00<?, ?it/s]"
      ]
     },
     "metadata": {},
     "output_type": "display_data"
    }
   ],
   "source": [
    "config = load_config(\"../config.yaml\")\n",
    "\n",
    "device = torch.device(\"cuda\" if torch.cuda.is_available() else \"cpu\")\n",
    "image_size=config['training']['image_size']\n",
    "\n",
    "dataset = load_dataset(\n",
    "    \"imagefolder\",\n",
    "    data_dir=\"../screens/\",\n",
    "    split=\"train\"\n",
    ")"
   ]
  },
  {
   "cell_type": "markdown",
   "metadata": {},
   "source": [
    "#### 1. Testing VAE"
   ]
  },
  {
   "cell_type": "code",
   "execution_count": 20,
   "metadata": {},
   "outputs": [],
   "source": [
    "from diffusers import AutoencoderKL\n",
    "\n",
    "vae = AutoencoderKL.from_pretrained(\"stabilityai/sd-vae-ft-mse\").eval().to(device)\n",
    "# Keep frozen\n",
    "vae.requires_grad_(False)\n",
    "SCALE = vae.config.scaling_factor"
   ]
  },
  {
   "cell_type": "code",
   "execution_count": 21,
   "metadata": {},
   "outputs": [],
   "source": [
    "split_datasets = dataset.train_test_split(test_size=0.2, seed=42)\n",
    "train_dataset = split_datasets[\"train\"]\n",
    "val_dataset   = split_datasets[\"test\"]"
   ]
  },
  {
   "cell_type": "code",
   "execution_count": 24,
   "metadata": {},
   "outputs": [],
   "source": [
    "batch_size = 64\n",
    "\n",
    "preprocess = transforms.Compose([\n",
    "    transforms.Resize((image_size, image_size)),   # Resize to square\n",
    "    transforms.ToTensor(),                         # → tensor in [0,1], shape = [1,H,W]\n",
    "    transforms.Normalize([0.5], [0.5]),            # → tensor in [−1,1]\n",
    "])\n",
    "\n",
    "\n",
    "def encode_batch(examples):\n",
    "    # convert every image to RGB just to be compatible with VAE format\n",
    "    imgs = [preprocess(img.convert(\"RGB\")) for img in examples[\"image\"]]\n",
    "    \n",
    "    # stack into [B, 1, H, W] and move to device\n",
    "    batch = torch.stack(imgs, dim=0).to(device)\n",
    "    print('Before compressing images:', batch.shape)\n",
    "    \n",
    "    # encode and sample latents under no_grad\n",
    "    with torch.no_grad():\n",
    "        latents = vae.encode(batch).latent_dist.sample() * SCALE\n",
    "\n",
    "    return {\"latents\": latents.cpu()}\n",
    "\n",
    "train_dataset.set_transform(encode_batch)\n",
    "val_dataset.set_transform(encode_batch)\n",
    "\n",
    "train_dataloader = DataLoader(\n",
    "    train_dataset, batch_size=batch_size, shuffle=True\n",
    ")\n",
    "val_dataloader = DataLoader(\n",
    "    val_dataset, batch_size=batch_size, shuffle=False\n",
    ")"
   ]
  },
  {
   "cell_type": "code",
   "execution_count": 25,
   "metadata": {},
   "outputs": [
    {
     "name": "stdout",
     "output_type": "stream",
     "text": [
      "Before compressing images: torch.Size([64, 3, 128, 128])\n",
      "Encoded images -> latents shape: torch.Size([64, 4, 16, 16])\n"
     ]
    }
   ],
   "source": [
    "for batch in train_dataloader:\n",
    "    print('Encoded images -> latents shape:', batch['latents'].shape)\n",
    "    break"
   ]
  },
  {
   "cell_type": "code",
   "execution_count": 26,
   "metadata": {},
   "outputs": [
    {
     "name": "stdout",
     "output_type": "stream",
     "text": [
      "Before compressing images: torch.Size([64, 3, 128, 128])\n",
      "Encoded images -> latents shape: torch.Size([64, 4, 16, 16])\n",
      "Decoded images: torch.Size([64, 3, 128, 128])\n"
     ]
    },
    {
     "data": {
      "image/jpeg": "[encoded data removed]",
      "image/png": "[encoded data removed]",
      "text/plain": [
       "<PIL.Image.Image image mode=RGB size=1042x132>"
      ]
     },
     "execution_count": 26,
     "metadata": {},
     "output_type": "execute_result"
    }
   ],
   "source": [
    "def decode_latents_to_tensor(latents, vae, scale=SCALE, device=device):\n",
    "    print('Encoded images -> latents shape:', latents.shape)\n",
    "    \n",
    "    lat = latents.to(device) / scale\n",
    "    with torch.no_grad():\n",
    "        dec = vae.decode(lat).sample       # -> [B, 3, H, W], roughly [-1,1]\n",
    "        print('Decoded images:', dec.shape)\n",
    "    return dec.cpu()\n",
    "\n",
    "batch = next(iter(train_dataloader))\n",
    "latents = batch[\"latents\"]               # shape [B, C, h, w]\n",
    "\n",
    "decoded_tensor = decode_latents_to_tensor(latents, vae)[:8]\n",
    "\n",
    "show_images(decoded_tensor)"
   ]
  },
  {
   "cell_type": "markdown",
   "metadata": {},
   "source": [
    "### 2. Using VAE in the diffusion model"
   ]
  },
  {
   "cell_type": "code",
   "execution_count": 27,
   "metadata": {},
   "outputs": [],
   "source": [
    "from src.diffusion.model_with_latents import LatentDiffusionModel, login_huggingface\n",
    "\n",
    "config = load_config(\"../config.yaml\")\n",
    "\n",
    "login_huggingface()\n",
    "\n",
    "vae = AutoencoderKL.from_pretrained(\"stabilityai/sd-vae-ft-mse\")"
   ]
  },
  {
   "cell_type": "code",
   "execution_count": 28,
   "metadata": {},
   "outputs": [],
   "source": [
    "model = LatentDiffusionModel(vae=vae)"
   ]
  },
  {
   "cell_type": "code",
   "execution_count": 29,
   "metadata": {},
   "outputs": [
    {
     "name": "stderr",
     "output_type": "stream",
     "text": [
      "\u001b[34m\u001b[1mwandb\u001b[0m: Currently logged in as: \u001b[33madriana-orellana-torrico\u001b[0m to \u001b[32mhttps://api.wandb.ai\u001b[0m. Use \u001b[1m`wandb login --relogin`\u001b[0m to force relogin\n"
     ]
    },
    {
     "data": {
      "text/html": [
       "Tracking run with wandb version 0.19.11"
      ],
      "text/plain": [
       "<IPython.core.display.HTML object>"
      ]
     },
     "metadata": {},
     "output_type": "display_data"
    },
    {
     "data": {
      "text/html": [
       "Run data is saved locally in <code>/home/aorellan/DiffusionArcade/notebooks/wandb/run-20250511_134513-i715dm3n</code>"
      ],
      "text/plain": [
       "<IPython.core.display.HTML object>"
      ]
     },
     "metadata": {},
     "output_type": "display_data"
    },
    {
     "data": {
      "text/html": [
       "Syncing run <strong><a href='https://wandb.ai/adriana-orellana-torrico/diffusion-arcade/runs/i715dm3n' target=\"_blank\">diffusion-model-with_latents</a></strong> to <a href='https://wandb.ai/adriana-orellana-torrico/diffusion-arcade' target=\"_blank\">Weights & Biases</a> (<a href='https://wandb.me/developer-guide' target=\"_blank\">docs</a>)<br>"
      ],
      "text/plain": [
       "<IPython.core.display.HTML object>"
      ]
     },
     "metadata": {},
     "output_type": "display_data"
    },
    {
     "data": {
      "text/html": [
       " View project at <a href='https://wandb.ai/adriana-orellana-torrico/diffusion-arcade' target=\"_blank\">https://wandb.ai/adriana-orellana-torrico/diffusion-arcade</a>"
      ],
      "text/plain": [
       "<IPython.core.display.HTML object>"
      ]
     },
     "metadata": {},
     "output_type": "display_data"
    },
    {
     "data": {
      "text/html": [
       " View run at <a href='https://wandb.ai/adriana-orellana-torrico/diffusion-arcade/runs/i715dm3n' target=\"_blank\">https://wandb.ai/adriana-orellana-torrico/diffusion-arcade/runs/i715dm3n</a>"
      ],
      "text/plain": [
       "<IPython.core.display.HTML object>"
      ]
     },
     "metadata": {},
     "output_type": "display_data"
    },
    {
     "name": "stderr",
     "output_type": "stream",
     "text": [
      "Epoch 1/30:   0%|                                                                                                                             | 0/20 [00:00<?, ?it/s]"
     ]
    },
    {
     "name": "stdout",
     "output_type": "stream",
     "text": [
      "Before compressing images: torch.Size([64, 3, 128, 128])\n"
     ]
    },
    {
     "name": "stderr",
     "output_type": "stream",
     "text": [
      "/home/aorellan/miniconda3/envs/diffusion_arcade/lib/python3.10/site-packages/diffusers/configuration_utils.py:141: FutureWarning: Accessing config attribute `num_train_timesteps` directly via 'DDPMScheduler' object attribute is deprecated. Please access 'num_train_timesteps' over 'DDPMScheduler's config object instead, e.g. 'scheduler.config.num_train_timesteps'.\n",
      "  deprecate(\"direct config name access\", \"1.0.0\", deprecation_message, standard_warn=False)\n",
      "Epoch 1/30:   5%|█████▎                                                                                                     | 1/20 [00:00<00:09,  2.09it/s, loss=1.1]"
     ]
    },
    {
     "name": "stdout",
     "output_type": "stream",
     "text": [
      "Before compressing images: torch.Size([64, 3, 128, 128])\n"
     ]
    },
    {
     "name": "stderr",
     "output_type": "stream",
     "text": [
      "Epoch 1/30:  10%|██████████▌                                                                                              | 2/20 [00:00<00:07,  2.57it/s, loss=0.953]"
     ]
    },
    {
     "name": "stdout",
     "output_type": "stream",
     "text": [
      "Before compressing images: torch.Size([64, 3, 128, 128])\n"
     ]
    },
    {
     "name": "stderr",
     "output_type": "stream",
     "text": [
      "Epoch 1/30:  15%|███████████████▊                                                                                         | 3/20 [00:01<00:06,  2.81it/s, loss=0.826]"
     ]
    },
    {
     "name": "stdout",
     "output_type": "stream",
     "text": [
      "Before compressing images: torch.Size([64, 3, 128, 128])\n"
     ]
    },
    {
     "name": "stderr",
     "output_type": "stream",
     "text": [
      "Epoch 1/30:  20%|█████████████████████                                                                                    | 4/20 [00:01<00:05,  2.94it/s, loss=0.714]"
     ]
    },
    {
     "name": "stdout",
     "output_type": "stream",
     "text": [
      "Before compressing images: torch.Size([64, 3, 128, 128])\n"
     ]
    },
    {
     "name": "stderr",
     "output_type": "stream",
     "text": [
      "Epoch 1/30:  25%|██████████████████████████▎                                                                              | 5/20 [00:01<00:04,  3.02it/s, loss=0.607]"
     ]
    },
    {
     "name": "stdout",
     "output_type": "stream",
     "text": [
      "Before compressing images: torch.Size([64, 3, 128, 128])\n"
     ]
    },
    {
     "name": "stderr",
     "output_type": "stream",
     "text": [
      "Epoch 1/30:  30%|███████████████████████████████▌                                                                         | 6/20 [00:02<00:04,  3.06it/s, loss=0.542]"
     ]
    },
    {
     "name": "stdout",
     "output_type": "stream",
     "text": [
      "Before compressing images: torch.Size([64, 3, 128, 128])\n"
     ]
    },
    {
     "name": "stderr",
     "output_type": "stream",
     "text": [
      "Epoch 1/30:  35%|████████████████████████████████████▊                                                                    | 7/20 [00:02<00:04,  3.10it/s, loss=0.517]"
     ]
    },
    {
     "name": "stdout",
     "output_type": "stream",
     "text": [
      "Before compressing images: torch.Size([64, 3, 128, 128])\n"
     ]
    },
    {
     "name": "stderr",
     "output_type": "stream",
     "text": [
      "Epoch 1/30:  40%|██████████████████████████████████████████                                                               | 8/20 [00:02<00:03,  3.11it/s, loss=0.468]"
     ]
    },
    {
     "name": "stdout",
     "output_type": "stream",
     "text": [
      "Before compressing images: torch.Size([64, 3, 128, 128])\n"
     ]
    },
    {
     "name": "stderr",
     "output_type": "stream",
     "text": [
      "Epoch 1/30:  45%|███████████████████████████████████████████████▎                                                         | 9/20 [00:03<00:03,  3.11it/s, loss=0.398]"
     ]
    },
    {
     "name": "stdout",
     "output_type": "stream",
     "text": [
      "Before compressing images: torch.Size([64, 3, 128, 128])\n"
     ]
    },
    {
     "name": "stderr",
     "output_type": "stream",
     "text": [
      "Epoch 1/30:  50%|█████████████████████████████████████████████████████                                                     | 10/20 [00:03<00:03,  3.12it/s, loss=0.4]"
     ]
    },
    {
     "name": "stdout",
     "output_type": "stream",
     "text": [
      "Before compressing images: torch.Size([64, 3, 128, 128])\n"
     ]
    },
    {
     "name": "stderr",
     "output_type": "stream",
     "text": [
      "Epoch 1/30:  55%|█████████████████████████████████████████████████████████▏                                              | 11/20 [00:03<00:02,  3.13it/s, loss=0.383]"
     ]
    },
    {
     "name": "stdout",
     "output_type": "stream",
     "text": [
      "Before compressing images: torch.Size([64, 3, 128, 128])\n"
     ]
    },
    {
     "name": "stderr",
     "output_type": "stream",
     "text": [
      "Epoch 1/30:  60%|██████████████████████████████████████████████████████████████▍                                         | 12/20 [00:03<00:02,  3.14it/s, loss=0.352]"
     ]
    },
    {
     "name": "stdout",
     "output_type": "stream",
     "text": [
      "Before compressing images: torch.Size([64, 3, 128, 128])\n"
     ]
    },
    {
     "name": "stderr",
     "output_type": "stream",
     "text": [
      "Epoch 1/30:  65%|███████████████████████████████████████████████████████████████████▌                                    | 13/20 [00:04<00:02,  3.15it/s, loss=0.325]"
     ]
    },
    {
     "name": "stdout",
     "output_type": "stream",
     "text": [
      "Before compressing images: torch.Size([64, 3, 128, 128])\n"
     ]
    },
    {
     "name": "stderr",
     "output_type": "stream",
     "text": [
      "Epoch 1/30:  70%|████████████████████████████████████████████████████████████████████████▊                               | 14/20 [00:04<00:01,  3.14it/s, loss=0.304]"
     ]
    },
    {
     "name": "stdout",
     "output_type": "stream",
     "text": [
      "Before compressing images: torch.Size([64, 3, 128, 128])\n"
     ]
    },
    {
     "name": "stderr",
     "output_type": "stream",
     "text": [
      "Epoch 1/30:  75%|██████████████████████████████████████████████████████████████████████████████                          | 15/20 [00:04<00:01,  3.15it/s, loss=0.269]"
     ]
    },
    {
     "name": "stdout",
     "output_type": "stream",
     "text": [
      "Before compressing images: torch.Size([64, 3, 128, 128])\n"
     ]
    },
    {
     "name": "stderr",
     "output_type": "stream",
     "text": [
      "Epoch 1/30:  80%|████████████████████████████████████████████████████████████████████████████████████                     | 16/20 [00:05<00:01,  3.16it/s, loss=0.25]"
     ]
    },
    {
     "name": "stdout",
     "output_type": "stream",
     "text": [
      "Before compressing images: torch.Size([64, 3, 128, 128])\n"
     ]
    },
    {
     "name": "stderr",
     "output_type": "stream",
     "text": [
      "Epoch 1/30:  85%|████████████████████████████████████████████████████████████████████████████████████████▍               | 17/20 [00:05<00:00,  3.16it/s, loss=0.246]"
     ]
    },
    {
     "name": "stdout",
     "output_type": "stream",
     "text": [
      "Before compressing images: torch.Size([64, 3, 128, 128])\n"
     ]
    },
    {
     "name": "stderr",
     "output_type": "stream",
     "text": [
      "Epoch 1/30:  90%|█████████████████████████████████████████████████████████████████████████████████████████████▌          | 18/20 [00:05<00:00,  3.17it/s, loss=0.219]"
     ]
    },
    {
     "name": "stdout",
     "output_type": "stream",
     "text": [
      "Before compressing images: torch.Size([64, 3, 128, 128])\n"
     ]
    },
    {
     "name": "stderr",
     "output_type": "stream",
     "text": [
      "Epoch 1/30:  95%|██████████████████████████████████████████████████████████████████████████████████████████████████▊     | 19/20 [00:06<00:00,  3.17it/s, loss=0.284]"
     ]
    },
    {
     "name": "stdout",
     "output_type": "stream",
     "text": [
      "Before compressing images: torch.Size([57, 3, 128, 128])\n"
     ]
    },
    {
     "name": "stderr",
     "output_type": "stream",
     "text": [
      "Epoch 1/30: 100%|████████████████████████████████████████████████████████████████████████████████████████████████████████| 20/20 [00:06<00:00,  3.06it/s, loss=0.217]\n"
     ]
    },
    {
     "name": "stdout",
     "output_type": "stream",
     "text": [
      "Before compressing images: torch.Size([64, 3, 128, 128])\n",
      "Before compressing images: torch.Size([64, 3, 128, 128])\n",
      "Before compressing images: torch.Size([64, 3, 128, 128])\n",
      "Before compressing images: torch.Size([64, 3, 128, 128])\n",
      "Before compressing images: torch.Size([63, 3, 128, 128])\n",
      "Epoch [1/30] Train Loss: 0.4689 Val Loss: 0.22876069247722625\n"
     ]
    },
    {
     "name": "stderr",
     "output_type": "stream",
     "text": [
      "Epoch 2/30:   0%|                                                                                                                             | 0/20 [00:00<?, ?it/s]"
     ]
    },
    {
     "name": "stdout",
     "output_type": "stream",
     "text": [
      "Before compressing images: torch.Size([64, 3, 128, 128])\n"
     ]
    },
    {
     "name": "stderr",
     "output_type": "stream",
     "text": [
      "Epoch 2/30:   5%|█████▎                                                                                                   | 1/20 [00:00<00:06,  3.15it/s, loss=0.231]"
     ]
    },
    {
     "name": "stdout",
     "output_type": "stream",
     "text": [
      "Before compressing images: torch.Size([64, 3, 128, 128])\n"
     ]
    },
    {
     "name": "stderr",
     "output_type": "stream",
     "text": [
      "Epoch 2/30:  10%|██████████▌                                                                                              | 2/20 [00:00<00:05,  3.15it/s, loss=0.211]"
     ]
    },
    {
     "name": "stdout",
     "output_type": "stream",
     "text": [
      "Before compressing images: torch.Size([64, 3, 128, 128])\n"
     ]
    },
    {
     "name": "stderr",
     "output_type": "stream",
     "text": [
      "Epoch 2/30:  15%|███████████████▊                                                                                         | 3/20 [00:00<00:05,  3.16it/s, loss=0.218]"
     ]
    },
    {
     "name": "stdout",
     "output_type": "stream",
     "text": [
      "Before compressing images: torch.Size([64, 3, 128, 128])\n"
     ]
    },
    {
     "name": "stderr",
     "output_type": "stream",
     "text": [
      "Epoch 2/30:  20%|█████████████████████                                                                                    | 4/20 [00:01<00:05,  3.16it/s, loss=0.197]"
     ]
    },
    {
     "name": "stdout",
     "output_type": "stream",
     "text": [
      "Before compressing images: torch.Size([64, 3, 128, 128])\n"
     ]
    },
    {
     "name": "stderr",
     "output_type": "stream",
     "text": [
      "Epoch 2/30:  25%|██████████████████████████▎                                                                              | 5/20 [00:01<00:04,  3.16it/s, loss=0.219]"
     ]
    },
    {
     "name": "stdout",
     "output_type": "stream",
     "text": [
      "Before compressing images: torch.Size([64, 3, 128, 128])\n"
     ]
    },
    {
     "name": "stderr",
     "output_type": "stream",
     "text": [
      "Epoch 2/30:  30%|███████████████████████████████▌                                                                         | 6/20 [00:01<00:04,  3.17it/s, loss=0.162]"
     ]
    },
    {
     "name": "stdout",
     "output_type": "stream",
     "text": [
      "Before compressing images: torch.Size([64, 3, 128, 128])\n"
     ]
    },
    {
     "name": "stderr",
     "output_type": "stream",
     "text": [
      "Epoch 2/30:  35%|████████████████████████████████████▊                                                                    | 7/20 [00:02<00:04,  3.17it/s, loss=0.234]"
     ]
    },
    {
     "name": "stdout",
     "output_type": "stream",
     "text": [
      "Before compressing images: torch.Size([64, 3, 128, 128])\n"
     ]
    },
    {
     "name": "stderr",
     "output_type": "stream",
     "text": [
      "Epoch 2/30:  40%|██████████████████████████████████████████                                                               | 8/20 [00:02<00:03,  3.17it/s, loss=0.192]"
     ]
    },
    {
     "name": "stdout",
     "output_type": "stream",
     "text": [
      "Before compressing images: torch.Size([64, 3, 128, 128])\n"
     ]
    },
    {
     "name": "stderr",
     "output_type": "stream",
     "text": [
      "Epoch 2/30:  45%|███████████████████████████████████████████████▎                                                         | 9/20 [00:02<00:03,  3.17it/s, loss=0.185]"
     ]
    },
    {
     "name": "stdout",
     "output_type": "stream",
     "text": [
      "Before compressing images: torch.Size([64, 3, 128, 128])\n"
     ]
    },
    {
     "name": "stderr",
     "output_type": "stream",
     "text": [
      "Epoch 2/30:  50%|████████████████████████████████████████████████████                                                    | 10/20 [00:03<00:03,  3.17it/s, loss=0.184]"
     ]
    },
    {
     "name": "stdout",
     "output_type": "stream",
     "text": [
      "Before compressing images: torch.Size([64, 3, 128, 128])\n"
     ]
    },
    {
     "name": "stderr",
     "output_type": "stream",
     "text": [
      "Epoch 2/30:  55%|█████████████████████████████████████████████████████████▏                                              | 11/20 [00:03<00:02,  3.17it/s, loss=0.186]"
     ]
    },
    {
     "name": "stdout",
     "output_type": "stream",
     "text": [
      "Before compressing images: torch.Size([64, 3, 128, 128])\n"
     ]
    },
    {
     "name": "stderr",
     "output_type": "stream",
     "text": [
      "Epoch 2/30:  60%|██████████████████████████████████████████████████████████████▍                                         | 12/20 [00:03<00:02,  3.16it/s, loss=0.189]"
     ]
    },
    {
     "name": "stdout",
     "output_type": "stream",
     "text": [
      "Before compressing images: torch.Size([64, 3, 128, 128])\n"
     ]
    },
    {
     "name": "stderr",
     "output_type": "stream",
     "text": [
      "Epoch 2/30:  65%|███████████████████████████████████████████████████████████████████▌                                    | 13/20 [00:04<00:02,  3.15it/s, loss=0.181]"
     ]
    },
    {
     "name": "stdout",
     "output_type": "stream",
     "text": [
      "Before compressing images: torch.Size([64, 3, 128, 128])\n"
     ]
    },
    {
     "name": "stderr",
     "output_type": "stream",
     "text": [
      "Epoch 2/30:  70%|████████████████████████████████████████████████████████████████████████▊                               | 14/20 [00:04<00:01,  3.16it/s, loss=0.153]"
     ]
    },
    {
     "name": "stdout",
     "output_type": "stream",
     "text": [
      "Before compressing images: torch.Size([64, 3, 128, 128])\n"
     ]
    },
    {
     "name": "stderr",
     "output_type": "stream",
     "text": [
      "Epoch 2/30:  75%|██████████████████████████████████████████████████████████████████████████████                          | 15/20 [00:04<00:01,  3.15it/s, loss=0.177]"
     ]
    },
    {
     "name": "stdout",
     "output_type": "stream",
     "text": [
      "Before compressing images: torch.Size([64, 3, 128, 128])\n"
     ]
    },
    {
     "name": "stderr",
     "output_type": "stream",
     "text": [
      "Epoch 2/30:  80%|███████████████████████████████████████████████████████████████████████████████████▏                    | 16/20 [00:05<00:01,  3.16it/s, loss=0.147]"
     ]
    },
    {
     "name": "stdout",
     "output_type": "stream",
     "text": [
      "Before compressing images: torch.Size([64, 3, 128, 128])\n"
     ]
    },
    {
     "name": "stderr",
     "output_type": "stream",
     "text": [
      "Epoch 2/30:  85%|████████████████████████████████████████████████████████████████████████████████████████▍               | 17/20 [00:05<00:00,  3.16it/s, loss=0.181]"
     ]
    },
    {
     "name": "stdout",
     "output_type": "stream",
     "text": [
      "Before compressing images: torch.Size([64, 3, 128, 128])\n"
     ]
    },
    {
     "name": "stderr",
     "output_type": "stream",
     "text": [
      "Epoch 2/30:  90%|█████████████████████████████████████████████████████████████████████████████████████████████▌          | 18/20 [00:05<00:00,  3.16it/s, loss=0.172]"
     ]
    },
    {
     "name": "stdout",
     "output_type": "stream",
     "text": [
      "Before compressing images: torch.Size([64, 3, 128, 128])\n"
     ]
    },
    {
     "name": "stderr",
     "output_type": "stream",
     "text": [
      "Epoch 2/30:  95%|██████████████████████████████████████████████████████████████████████████████████████████████████▊     | 19/20 [00:06<00:00,  3.16it/s, loss=0.149]"
     ]
    },
    {
     "name": "stdout",
     "output_type": "stream",
     "text": [
      "Before compressing images: torch.Size([57, 3, 128, 128])\n"
     ]
    },
    {
     "name": "stderr",
     "output_type": "stream",
     "text": [
      "Epoch 2/30: 100%|████████████████████████████████████████████████████████████████████████████████████████████████████████| 20/20 [00:06<00:00,  3.17it/s, loss=0.138]\n"
     ]
    },
    {
     "name": "stdout",
     "output_type": "stream",
     "text": [
      "Before compressing images: torch.Size([64, 3, 128, 128])\n",
      "Before compressing images: torch.Size([64, 3, 128, 128])\n",
      "Before compressing images: torch.Size([64, 3, 128, 128])\n",
      "Before compressing images: torch.Size([64, 3, 128, 128])\n",
      "Before compressing images: torch.Size([63, 3, 128, 128])\n",
      "Epoch [2/30] Train Loss: 0.1853 Val Loss: 0.14626809060573578\n"
     ]
    },
    {
     "name": "stderr",
     "output_type": "stream",
     "text": [
      "Epoch 3/30:   0%|                                                                                                                             | 0/20 [00:00<?, ?it/s]"
     ]
    },
    {
     "name": "stdout",
     "output_type": "stream",
     "text": [
      "Before compressing images: torch.Size([64, 3, 128, 128])\n"
     ]
    },
    {
     "name": "stderr",
     "output_type": "stream",
     "text": [
      "Epoch 3/30:   5%|█████▎                                                                                                   | 1/20 [00:00<00:06,  3.07it/s, loss=0.144]"
     ]
    },
    {
     "name": "stdout",
     "output_type": "stream",
     "text": [
      "Before compressing images: torch.Size([64, 3, 128, 128])\n"
     ]
    },
    {
     "name": "stderr",
     "output_type": "stream",
     "text": [
      "Epoch 3/30:  10%|██████████▌                                                                                              | 2/20 [00:00<00:05,  3.13it/s, loss=0.153]"
     ]
    },
    {
     "name": "stdout",
     "output_type": "stream",
     "text": [
      "Before compressing images: torch.Size([64, 3, 128, 128])\n"
     ]
    },
    {
     "name": "stderr",
     "output_type": "stream",
     "text": [
      "Epoch 3/30:  15%|███████████████▊                                                                                         | 3/20 [00:00<00:05,  3.15it/s, loss=0.214]"
     ]
    },
    {
     "name": "stdout",
     "output_type": "stream",
     "text": [
      "Before compressing images: torch.Size([64, 3, 128, 128])\n"
     ]
    },
    {
     "name": "stderr",
     "output_type": "stream",
     "text": [
      "Epoch 3/30:  20%|█████████████████████                                                                                    | 4/20 [00:01<00:05,  3.15it/s, loss=0.142]"
     ]
    },
    {
     "name": "stdout",
     "output_type": "stream",
     "text": [
      "Before compressing images: torch.Size([64, 3, 128, 128])\n"
     ]
    },
    {
     "name": "stderr",
     "output_type": "stream",
     "text": [
      "Epoch 3/30:  25%|██████████████████████████▌                                                                               | 5/20 [00:01<00:04,  3.15it/s, loss=0.15]"
     ]
    },
    {
     "name": "stdout",
     "output_type": "stream",
     "text": [
      "Before compressing images: torch.Size([64, 3, 128, 128])\n"
     ]
    },
    {
     "name": "stderr",
     "output_type": "stream",
     "text": [
      "Epoch 3/30:  30%|███████████████████████████████▌                                                                         | 6/20 [00:01<00:04,  3.16it/s, loss=0.133]"
     ]
    },
    {
     "name": "stdout",
     "output_type": "stream",
     "text": [
      "Before compressing images: torch.Size([64, 3, 128, 128])\n"
     ]
    },
    {
     "name": "stderr",
     "output_type": "stream",
     "text": [
      "Epoch 3/30:  35%|████████████████████████████████████▊                                                                    | 7/20 [00:02<00:04,  3.15it/s, loss=0.142]"
     ]
    },
    {
     "name": "stdout",
     "output_type": "stream",
     "text": [
      "Before compressing images: torch.Size([64, 3, 128, 128])\n"
     ]
    },
    {
     "name": "stderr",
     "output_type": "stream",
     "text": [
      "Epoch 3/30:  40%|██████████████████████████████████████████                                                               | 8/20 [00:02<00:03,  3.16it/s, loss=0.116]"
     ]
    },
    {
     "name": "stdout",
     "output_type": "stream",
     "text": [
      "Before compressing images: torch.Size([64, 3, 128, 128])\n"
     ]
    },
    {
     "name": "stderr",
     "output_type": "stream",
     "text": [
      "Epoch 3/30:  45%|███████████████████████████████████████████████▎                                                         | 9/20 [00:02<00:03,  3.16it/s, loss=0.115]"
     ]
    },
    {
     "name": "stdout",
     "output_type": "stream",
     "text": [
      "Before compressing images: torch.Size([64, 3, 128, 128])\n"
     ]
    },
    {
     "name": "stderr",
     "output_type": "stream",
     "text": [
      "Epoch 3/30:  50%|████████████████████████████████████████████████████                                                    | 10/20 [00:03<00:03,  3.16it/s, loss=0.114]"
     ]
    },
    {
     "name": "stdout",
     "output_type": "stream",
     "text": [
      "Before compressing images: torch.Size([64, 3, 128, 128])\n"
     ]
    },
    {
     "name": "stderr",
     "output_type": "stream",
     "text": [
      "Epoch 3/30:  55%|█████████████████████████████████████████████████████████▏                                              | 11/20 [00:03<00:02,  3.16it/s, loss=0.128]"
     ]
    },
    {
     "name": "stdout",
     "output_type": "stream",
     "text": [
      "Before compressing images: torch.Size([64, 3, 128, 128])\n"
     ]
    },
    {
     "name": "stderr",
     "output_type": "stream",
     "text": [
      "Epoch 3/30:  60%|██████████████████████████████████████████████████████████████▍                                         | 12/20 [00:03<00:02,  3.16it/s, loss=0.123]"
     ]
    },
    {
     "name": "stdout",
     "output_type": "stream",
     "text": [
      "Before compressing images: torch.Size([64, 3, 128, 128])\n"
     ]
    },
    {
     "name": "stderr",
     "output_type": "stream",
     "text": [
      "Epoch 3/30:  65%|███████████████████████████████████████████████████████████████████▌                                    | 13/20 [00:04<00:02,  3.16it/s, loss=0.136]"
     ]
    },
    {
     "name": "stdout",
     "output_type": "stream",
     "text": [
      "Before compressing images: torch.Size([64, 3, 128, 128])\n"
     ]
    },
    {
     "name": "stderr",
     "output_type": "stream",
     "text": [
      "Epoch 3/30:  70%|████████████████████████████████████████████████████████████████████████▊                               | 14/20 [00:04<00:01,  3.17it/s, loss=0.138]"
     ]
    },
    {
     "name": "stdout",
     "output_type": "stream",
     "text": [
      "Before compressing images: torch.Size([64, 3, 128, 128])\n"
     ]
    },
    {
     "name": "stderr",
     "output_type": "stream",
     "text": [
      "Epoch 3/30:  75%|██████████████████████████████████████████████████████████████████████████████                          | 15/20 [00:04<00:01,  3.17it/s, loss=0.106]"
     ]
    },
    {
     "name": "stdout",
     "output_type": "stream",
     "text": [
      "Before compressing images: torch.Size([64, 3, 128, 128])\n"
     ]
    },
    {
     "name": "stderr",
     "output_type": "stream",
     "text": [
      "Epoch 3/30:  80%|████████████████████████████████████████████████████████████████████████████████████                     | 16/20 [00:05<00:01,  3.17it/s, loss=0.14]"
     ]
    },
    {
     "name": "stdout",
     "output_type": "stream",
     "text": [
      "Before compressing images: torch.Size([64, 3, 128, 128])\n"
     ]
    },
    {
     "name": "stderr",
     "output_type": "stream",
     "text": [
      "Epoch 3/30:  85%|████████████████████████████████████████████████████████████████████████████████████████▍               | 17/20 [00:05<00:00,  3.17it/s, loss=0.123]"
     ]
    },
    {
     "name": "stdout",
     "output_type": "stream",
     "text": [
      "Before compressing images: torch.Size([64, 3, 128, 128])\n"
     ]
    },
    {
     "name": "stderr",
     "output_type": "stream",
     "text": [
      "Epoch 3/30:  90%|█████████████████████████████████████████████████████████████████████████████████████████████▌          | 18/20 [00:05<00:00,  3.17it/s, loss=0.109]"
     ]
    },
    {
     "name": "stdout",
     "output_type": "stream",
     "text": [
      "Before compressing images: torch.Size([64, 3, 128, 128])\n"
     ]
    },
    {
     "name": "stderr",
     "output_type": "stream",
     "text": [
      "Epoch 3/30:  95%|██████████████████████████████████████████████████████████████████████████████████████████████████▊     | 19/20 [00:06<00:00,  3.16it/s, loss=0.109]"
     ]
    },
    {
     "name": "stdout",
     "output_type": "stream",
     "text": [
      "Before compressing images: torch.Size([57, 3, 128, 128])\n"
     ]
    },
    {
     "name": "stderr",
     "output_type": "stream",
     "text": [
      "Epoch 3/30: 100%|████████████████████████████████████████████████████████████████████████████████████████████████████████| 20/20 [00:06<00:00,  3.16it/s, loss=0.109]\n"
     ]
    },
    {
     "name": "stdout",
     "output_type": "stream",
     "text": [
      "Before compressing images: torch.Size([64, 3, 128, 128])\n",
      "Before compressing images: torch.Size([64, 3, 128, 128])\n",
      "Before compressing images: torch.Size([64, 3, 128, 128])\n",
      "Before compressing images: torch.Size([64, 3, 128, 128])\n",
      "Before compressing images: torch.Size([63, 3, 128, 128])\n",
      "Epoch [3/30] Train Loss: 0.1323 Val Loss: 0.12496761381626129\n"
     ]
    },
    {
     "name": "stderr",
     "output_type": "stream",
     "text": [
      "Epoch 4/30:   0%|                                                                                                                             | 0/20 [00:00<?, ?it/s]"
     ]
    },
    {
     "name": "stdout",
     "output_type": "stream",
     "text": [
      "Before compressing images: torch.Size([64, 3, 128, 128])\n"
     ]
    },
    {
     "name": "stderr",
     "output_type": "stream",
     "text": [
      "Epoch 4/30:   5%|█████▎                                                                                                   | 1/20 [00:00<00:06,  3.14it/s, loss=0.119]"
     ]
    },
    {
     "name": "stdout",
     "output_type": "stream",
     "text": [
      "Before compressing images: torch.Size([64, 3, 128, 128])\n"
     ]
    },
    {
     "name": "stderr",
     "output_type": "stream",
     "text": [
      "Epoch 4/30:  10%|██████████▌                                                                                              | 2/20 [00:00<00:05,  3.15it/s, loss=0.118]"
     ]
    },
    {
     "name": "stdout",
     "output_type": "stream",
     "text": [
      "Before compressing images: torch.Size([64, 3, 128, 128])\n"
     ]
    },
    {
     "name": "stderr",
     "output_type": "stream",
     "text": [
      "Epoch 4/30:  15%|███████████████▉                                                                                          | 3/20 [00:00<00:05,  3.16it/s, loss=0.12]"
     ]
    },
    {
     "name": "stdout",
     "output_type": "stream",
     "text": [
      "Before compressing images: torch.Size([64, 3, 128, 128])\n"
     ]
    },
    {
     "name": "stderr",
     "output_type": "stream",
     "text": [
      "Epoch 4/30:  20%|█████████████████████                                                                                    | 4/20 [00:01<00:05,  3.16it/s, loss=0.116]"
     ]
    },
    {
     "name": "stdout",
     "output_type": "stream",
     "text": [
      "Before compressing images: torch.Size([64, 3, 128, 128])\n"
     ]
    },
    {
     "name": "stderr",
     "output_type": "stream",
     "text": [
      "Epoch 4/30:  25%|██████████████████████████▎                                                                              | 5/20 [00:01<00:04,  3.16it/s, loss=0.125]"
     ]
    },
    {
     "name": "stdout",
     "output_type": "stream",
     "text": [
      "Before compressing images: torch.Size([64, 3, 128, 128])\n"
     ]
    },
    {
     "name": "stderr",
     "output_type": "stream",
     "text": [
      "Epoch 4/30:  30%|███████████████████████████████▏                                                                        | 6/20 [00:01<00:04,  3.16it/s, loss=0.0963]"
     ]
    },
    {
     "name": "stdout",
     "output_type": "stream",
     "text": [
      "Before compressing images: torch.Size([64, 3, 128, 128])\n"
     ]
    },
    {
     "name": "stderr",
     "output_type": "stream",
     "text": [
      "Epoch 4/30:  35%|█████████████████████████████████████▍                                                                     | 7/20 [00:02<00:04,  3.15it/s, loss=0.1]"
     ]
    },
    {
     "name": "stdout",
     "output_type": "stream",
     "text": [
      "Before compressing images: torch.Size([64, 3, 128, 128])\n"
     ]
    },
    {
     "name": "stderr",
     "output_type": "stream",
     "text": [
      "Epoch 4/30:  40%|██████████████████████████████████████████                                                               | 8/20 [00:02<00:03,  3.16it/s, loss=0.102]"
     ]
    },
    {
     "name": "stdout",
     "output_type": "stream",
     "text": [
      "Before compressing images: torch.Size([64, 3, 128, 128])\n"
     ]
    },
    {
     "name": "stderr",
     "output_type": "stream",
     "text": [
      "Epoch 4/30:  45%|██████████████████████████████████████████████▊                                                         | 9/20 [00:02<00:03,  3.16it/s, loss=0.0972]"
     ]
    },
    {
     "name": "stdout",
     "output_type": "stream",
     "text": [
      "Before compressing images: torch.Size([64, 3, 128, 128])\n"
     ]
    },
    {
     "name": "stderr",
     "output_type": "stream",
     "text": [
      "Epoch 4/30:  50%|████████████████████████████████████████████████████                                                    | 10/20 [00:03<00:03,  3.16it/s, loss=0.105]"
     ]
    },
    {
     "name": "stdout",
     "output_type": "stream",
     "text": [
      "Before compressing images: torch.Size([64, 3, 128, 128])\n"
     ]
    },
    {
     "name": "stderr",
     "output_type": "stream",
     "text": [
      "Epoch 4/30:  55%|█████████████████████████████████████████████████████████▏                                              | 11/20 [00:03<00:02,  3.16it/s, loss=0.127]"
     ]
    },
    {
     "name": "stdout",
     "output_type": "stream",
     "text": [
      "Before compressing images: torch.Size([64, 3, 128, 128])\n"
     ]
    },
    {
     "name": "stderr",
     "output_type": "stream",
     "text": [
      "Epoch 4/30:  60%|██████████████████████████████████████████████████████████████▍                                         | 12/20 [00:03<00:02,  3.17it/s, loss=0.108]"
     ]
    },
    {
     "name": "stdout",
     "output_type": "stream",
     "text": [
      "Before compressing images: torch.Size([64, 3, 128, 128])\n"
     ]
    },
    {
     "name": "stderr",
     "output_type": "stream",
     "text": [
      "Epoch 4/30:  65%|██████████████████████████████████████████████████████████████████▉                                    | 13/20 [00:04<00:02,  3.17it/s, loss=0.0985]"
     ]
    },
    {
     "name": "stdout",
     "output_type": "stream",
     "text": [
      "Before compressing images: torch.Size([64, 3, 128, 128])\n"
     ]
    },
    {
     "name": "stderr",
     "output_type": "stream",
     "text": [
      "Epoch 4/30:  70%|████████████████████████████████████████████████████████████████████████▊                               | 14/20 [00:04<00:01,  3.16it/s, loss=0.105]"
     ]
    },
    {
     "name": "stdout",
     "output_type": "stream",
     "text": [
      "Before compressing images: torch.Size([64, 3, 128, 128])\n"
     ]
    },
    {
     "name": "stderr",
     "output_type": "stream",
     "text": [
      "Epoch 4/30:  75%|██████████████████████████████████████████████████████████████████████████████                          | 15/20 [00:04<00:01,  3.16it/s, loss=0.111]"
     ]
    },
    {
     "name": "stdout",
     "output_type": "stream",
     "text": [
      "Before compressing images: torch.Size([64, 3, 128, 128])\n"
     ]
    },
    {
     "name": "stderr",
     "output_type": "stream",
     "text": [
      "Epoch 4/30:  80%|██████████████████████████████████████████████████████████████████████████████████▍                    | 16/20 [00:05<00:01,  3.16it/s, loss=0.0971]"
     ]
    },
    {
     "name": "stdout",
     "output_type": "stream",
     "text": [
      "Before compressing images: torch.Size([64, 3, 128, 128])\n"
     ]
    },
    {
     "name": "stderr",
     "output_type": "stream",
     "text": [
      "Epoch 4/30:  85%|████████████████████████████████████████████████████████████████████████████████████████▍               | 17/20 [00:05<00:00,  3.16it/s, loss=0.111]"
     ]
    },
    {
     "name": "stdout",
     "output_type": "stream",
     "text": [
      "Before compressing images: torch.Size([64, 3, 128, 128])\n"
     ]
    },
    {
     "name": "stderr",
     "output_type": "stream",
     "text": [
      "Epoch 4/30:  90%|████████████████████████████████████████████████████████████████████████████████████████████▋          | 18/20 [00:05<00:00,  3.16it/s, loss=0.0939]"
     ]
    },
    {
     "name": "stdout",
     "output_type": "stream",
     "text": [
      "Before compressing images: torch.Size([64, 3, 128, 128])\n"
     ]
    },
    {
     "name": "stderr",
     "output_type": "stream",
     "text": [
      "Epoch 4/30:  95%|█████████████████████████████████████████████████████████████████████████████████████████████████▊     | 19/20 [00:06<00:00,  3.15it/s, loss=0.0938]"
     ]
    },
    {
     "name": "stdout",
     "output_type": "stream",
     "text": [
      "Before compressing images: torch.Size([57, 3, 128, 128])\n"
     ]
    },
    {
     "name": "stderr",
     "output_type": "stream",
     "text": [
      "Epoch 4/30: 100%|███████████████████████████████████████████████████████████████████████████████████████████████████████| 20/20 [00:06<00:00,  3.17it/s, loss=0.0913]\n"
     ]
    },
    {
     "name": "stdout",
     "output_type": "stream",
     "text": [
      "Before compressing images: torch.Size([64, 3, 128, 128])\n",
      "Before compressing images: torch.Size([64, 3, 128, 128])\n",
      "Before compressing images: torch.Size([64, 3, 128, 128])\n",
      "Before compressing images: torch.Size([64, 3, 128, 128])\n",
      "Before compressing images: torch.Size([63, 3, 128, 128])\n",
      "Epoch [4/30] Train Loss: 0.1068 Val Loss: 0.10094916075468063\n"
     ]
    },
    {
     "name": "stderr",
     "output_type": "stream",
     "text": [
      "Epoch 5/30:   0%|                                                                                                                             | 0/20 [00:00<?, ?it/s]"
     ]
    },
    {
     "name": "stdout",
     "output_type": "stream",
     "text": [
      "Before compressing images: torch.Size([64, 3, 128, 128])\n"
     ]
    },
    {
     "name": "stderr",
     "output_type": "stream",
     "text": [
      "Epoch 5/30:   5%|█████▏                                                                                                  | 1/20 [00:00<00:05,  3.18it/s, loss=0.0889]"
     ]
    },
    {
     "name": "stdout",
     "output_type": "stream",
     "text": [
      "Before compressing images: torch.Size([64, 3, 128, 128])\n"
     ]
    },
    {
     "name": "stderr",
     "output_type": "stream",
     "text": [
      "Epoch 5/30:  10%|██████████▍                                                                                             | 2/20 [00:00<00:05,  3.16it/s, loss=0.0981]"
     ]
    },
    {
     "name": "stdout",
     "output_type": "stream",
     "text": [
      "Before compressing images: torch.Size([64, 3, 128, 128])\n"
     ]
    },
    {
     "name": "stderr",
     "output_type": "stream",
     "text": [
      "Epoch 5/30:  15%|███████████████▌                                                                                        | 3/20 [00:00<00:05,  3.16it/s, loss=0.0992]"
     ]
    },
    {
     "name": "stdout",
     "output_type": "stream",
     "text": [
      "Before compressing images: torch.Size([64, 3, 128, 128])\n"
     ]
    },
    {
     "name": "stderr",
     "output_type": "stream",
     "text": [
      "Epoch 5/30:  20%|████████████████████▊                                                                                   | 4/20 [00:01<00:05,  3.17it/s, loss=0.0943]"
     ]
    },
    {
     "name": "stdout",
     "output_type": "stream",
     "text": [
      "Before compressing images: torch.Size([64, 3, 128, 128])\n"
     ]
    },
    {
     "name": "stderr",
     "output_type": "stream",
     "text": [
      "Epoch 5/30:  25%|██████████████████████████                                                                              | 5/20 [00:01<00:04,  3.17it/s, loss=0.0838]"
     ]
    },
    {
     "name": "stdout",
     "output_type": "stream",
     "text": [
      "Before compressing images: torch.Size([64, 3, 128, 128])\n"
     ]
    },
    {
     "name": "stderr",
     "output_type": "stream",
     "text": [
      "Epoch 5/30:  30%|███████████████████████████████▌                                                                         | 6/20 [00:01<00:04,  3.17it/s, loss=0.103]"
     ]
    },
    {
     "name": "stdout",
     "output_type": "stream",
     "text": [
      "Before compressing images: torch.Size([64, 3, 128, 128])\n"
     ]
    },
    {
     "name": "stderr",
     "output_type": "stream",
     "text": [
      "Epoch 5/30:  35%|████████████████████████████████████▍                                                                   | 7/20 [00:02<00:04,  3.16it/s, loss=0.0925]"
     ]
    },
    {
     "name": "stdout",
     "output_type": "stream",
     "text": [
      "Before compressing images: torch.Size([64, 3, 128, 128])\n"
     ]
    },
    {
     "name": "stderr",
     "output_type": "stream",
     "text": [
      "Epoch 5/30:  40%|█████████████████████████████████████████▌                                                              | 8/20 [00:02<00:03,  3.16it/s, loss=0.0815]"
     ]
    },
    {
     "name": "stdout",
     "output_type": "stream",
     "text": [
      "Before compressing images: torch.Size([64, 3, 128, 128])\n"
     ]
    },
    {
     "name": "stderr",
     "output_type": "stream",
     "text": [
      "Epoch 5/30:  45%|██████████████████████████████████████████████▊                                                         | 9/20 [00:02<00:03,  3.16it/s, loss=0.0915]"
     ]
    },
    {
     "name": "stdout",
     "output_type": "stream",
     "text": [
      "Before compressing images: torch.Size([64, 3, 128, 128])\n"
     ]
    },
    {
     "name": "stderr",
     "output_type": "stream",
     "text": [
      "Epoch 5/30:  50%|████████████████████████████████████████████████████                                                    | 10/20 [00:03<00:03,  3.17it/s, loss=0.101]"
     ]
    },
    {
     "name": "stdout",
     "output_type": "stream",
     "text": [
      "Before compressing images: torch.Size([64, 3, 128, 128])\n"
     ]
    },
    {
     "name": "stderr",
     "output_type": "stream",
     "text": [
      "Epoch 5/30:  55%|████████████████████████████████████████████████████████▋                                              | 11/20 [00:03<00:02,  3.16it/s, loss=0.0728]"
     ]
    },
    {
     "name": "stdout",
     "output_type": "stream",
     "text": [
      "Before compressing images: torch.Size([64, 3, 128, 128])\n"
     ]
    },
    {
     "name": "stderr",
     "output_type": "stream",
     "text": [
      "Epoch 5/30:  60%|██████████████████████████████████████████████████████████████▍                                         | 12/20 [00:03<00:02,  3.16it/s, loss=0.122]"
     ]
    },
    {
     "name": "stdout",
     "output_type": "stream",
     "text": [
      "Before compressing images: torch.Size([64, 3, 128, 128])\n"
     ]
    },
    {
     "name": "stderr",
     "output_type": "stream",
     "text": [
      "Epoch 5/30:  65%|██████████████████████████████████████████████████████████████████▉                                    | 13/20 [00:04<00:02,  3.17it/s, loss=0.0787]"
     ]
    },
    {
     "name": "stdout",
     "output_type": "stream",
     "text": [
      "Before compressing images: torch.Size([64, 3, 128, 128])\n"
     ]
    },
    {
     "name": "stderr",
     "output_type": "stream",
     "text": [
      "Epoch 5/30:  70%|████████████████████████████████████████████████████████████████████████                               | 14/20 [00:04<00:01,  3.17it/s, loss=0.0894]"
     ]
    },
    {
     "name": "stdout",
     "output_type": "stream",
     "text": [
      "Before compressing images: torch.Size([64, 3, 128, 128])\n"
     ]
    },
    {
     "name": "stderr",
     "output_type": "stream",
     "text": [
      "Epoch 5/30:  75%|█████████████████████████████████████████████████████████████████████████████▎                         | 15/20 [00:04<00:01,  3.17it/s, loss=0.0998]"
     ]
    },
    {
     "name": "stdout",
     "output_type": "stream",
     "text": [
      "Before compressing images: torch.Size([64, 3, 128, 128])\n"
     ]
    },
    {
     "name": "stderr",
     "output_type": "stream",
     "text": [
      "Epoch 5/30:  80%|███████████████████████████████████████████████████████████████████████████████████▏                    | 16/20 [00:05<00:01,  3.17it/s, loss=0.102]"
     ]
    },
    {
     "name": "stdout",
     "output_type": "stream",
     "text": [
      "Before compressing images: torch.Size([64, 3, 128, 128])\n"
     ]
    },
    {
     "name": "stderr",
     "output_type": "stream",
     "text": [
      "Epoch 5/30:  85%|███████████████████████████████████████████████████████████████████████████████████████▌               | 17/20 [00:05<00:00,  3.17it/s, loss=0.0883]"
     ]
    },
    {
     "name": "stdout",
     "output_type": "stream",
     "text": [
      "Before compressing images: torch.Size([64, 3, 128, 128])\n"
     ]
    },
    {
     "name": "stderr",
     "output_type": "stream",
     "text": [
      "Epoch 5/30:  90%|████████████████████████████████████████████████████████████████████████████████████████████▋          | 18/20 [00:05<00:00,  3.17it/s, loss=0.0842]"
     ]
    },
    {
     "name": "stdout",
     "output_type": "stream",
     "text": [
      "Before compressing images: torch.Size([64, 3, 128, 128])\n"
     ]
    },
    {
     "name": "stderr",
     "output_type": "stream",
     "text": [
      "Epoch 5/30:  95%|█████████████████████████████████████████████████████████████████████████████████████████████████▊     | 19/20 [00:06<00:00,  3.16it/s, loss=0.0921]"
     ]
    },
    {
     "name": "stdout",
     "output_type": "stream",
     "text": [
      "Before compressing images: torch.Size([57, 3, 128, 128])\n"
     ]
    },
    {
     "name": "stderr",
     "output_type": "stream",
     "text": [
      "Epoch 5/30: 100%|████████████████████████████████████████████████████████████████████████████████████████████████████████| 20/20 [00:06<00:00,  3.17it/s, loss=0.123]\n"
     ]
    },
    {
     "name": "stdout",
     "output_type": "stream",
     "text": [
      "Before compressing images: torch.Size([64, 3, 128, 128])\n",
      "Before compressing images: torch.Size([64, 3, 128, 128])\n",
      "Before compressing images: torch.Size([64, 3, 128, 128])\n",
      "Before compressing images: torch.Size([64, 3, 128, 128])\n",
      "Before compressing images: torch.Size([63, 3, 128, 128])\n",
      "Epoch [5/30] Train Loss: 0.0944 Val Loss: 0.0868911623954773\n"
     ]
    },
    {
     "name": "stderr",
     "output_type": "stream",
     "text": [
      "Epoch 6/30:   0%|                                                                                                                             | 0/20 [00:00<?, ?it/s]"
     ]
    },
    {
     "name": "stdout",
     "output_type": "stream",
     "text": [
      "Before compressing images: torch.Size([64, 3, 128, 128])\n"
     ]
    },
    {
     "name": "stderr",
     "output_type": "stream",
     "text": [
      "Epoch 6/30:   5%|█████▏                                                                                                  | 1/20 [00:00<00:05,  3.18it/s, loss=0.0969]"
     ]
    },
    {
     "name": "stdout",
     "output_type": "stream",
     "text": [
      "Before compressing images: torch.Size([64, 3, 128, 128])\n"
     ]
    },
    {
     "name": "stderr",
     "output_type": "stream",
     "text": [
      "Epoch 6/30:  10%|██████████▌                                                                                              | 2/20 [00:00<00:05,  3.18it/s, loss=0.112]"
     ]
    },
    {
     "name": "stdout",
     "output_type": "stream",
     "text": [
      "Before compressing images: torch.Size([64, 3, 128, 128])\n"
     ]
    },
    {
     "name": "stderr",
     "output_type": "stream",
     "text": [
      "Epoch 6/30:  15%|███████████████▊                                                                                         | 3/20 [00:00<00:05,  3.17it/s, loss=0.114]"
     ]
    },
    {
     "name": "stdout",
     "output_type": "stream",
     "text": [
      "Before compressing images: torch.Size([64, 3, 128, 128])\n"
     ]
    },
    {
     "name": "stderr",
     "output_type": "stream",
     "text": [
      "Epoch 6/30:  20%|█████████████████████                                                                                    | 4/20 [00:01<00:05,  3.17it/s, loss=0.128]"
     ]
    },
    {
     "name": "stdout",
     "output_type": "stream",
     "text": [
      "Before compressing images: torch.Size([64, 3, 128, 128])\n"
     ]
    },
    {
     "name": "stderr",
     "output_type": "stream",
     "text": [
      "Epoch 6/30:  25%|██████████████████████████                                                                              | 5/20 [00:01<00:04,  3.13it/s, loss=0.0815]"
     ]
    },
    {
     "name": "stdout",
     "output_type": "stream",
     "text": [
      "Before compressing images: torch.Size([64, 3, 128, 128])\n"
     ]
    },
    {
     "name": "stderr",
     "output_type": "stream",
     "text": [
      "Epoch 6/30:  30%|███████████████████████████████▏                                                                        | 6/20 [00:01<00:04,  3.14it/s, loss=0.0853]"
     ]
    },
    {
     "name": "stdout",
     "output_type": "stream",
     "text": [
      "Before compressing images: torch.Size([64, 3, 128, 128])\n"
     ]
    },
    {
     "name": "stderr",
     "output_type": "stream",
     "text": [
      "Epoch 6/30:  35%|████████████████████████████████████▍                                                                   | 7/20 [00:02<00:04,  3.14it/s, loss=0.0872]"
     ]
    },
    {
     "name": "stdout",
     "output_type": "stream",
     "text": [
      "Before compressing images: torch.Size([64, 3, 128, 128])\n"
     ]
    },
    {
     "name": "stderr",
     "output_type": "stream",
     "text": [
      "Epoch 6/30:  40%|█████████████████████████████████████████▌                                                              | 8/20 [00:02<00:03,  3.15it/s, loss=0.0786]"
     ]
    },
    {
     "name": "stdout",
     "output_type": "stream",
     "text": [
      "Before compressing images: torch.Size([64, 3, 128, 128])\n"
     ]
    },
    {
     "name": "stderr",
     "output_type": "stream",
     "text": [
      "Epoch 6/30:  45%|██████████████████████████████████████████████▊                                                         | 9/20 [00:02<00:03,  3.15it/s, loss=0.0868]"
     ]
    },
    {
     "name": "stdout",
     "output_type": "stream",
     "text": [
      "Before compressing images: torch.Size([64, 3, 128, 128])\n"
     ]
    },
    {
     "name": "stderr",
     "output_type": "stream",
     "text": [
      "Epoch 6/30:  50%|███████████████████████████████████████████████████▌                                                   | 10/20 [00:03<00:03,  3.15it/s, loss=0.0944]"
     ]
    },
    {
     "name": "stdout",
     "output_type": "stream",
     "text": [
      "Before compressing images: torch.Size([64, 3, 128, 128])\n"
     ]
    },
    {
     "name": "stderr",
     "output_type": "stream",
     "text": [
      "Epoch 6/30:  55%|████████████████████████████████████████████████████████▋                                              | 11/20 [00:03<00:02,  3.16it/s, loss=0.0933]"
     ]
    },
    {
     "name": "stdout",
     "output_type": "stream",
     "text": [
      "Before compressing images: torch.Size([64, 3, 128, 128])\n"
     ]
    },
    {
     "name": "stderr",
     "output_type": "stream",
     "text": [
      "Epoch 6/30:  60%|█████████████████████████████████████████████████████████████▊                                         | 12/20 [00:03<00:02,  3.16it/s, loss=0.0832]"
     ]
    },
    {
     "name": "stdout",
     "output_type": "stream",
     "text": [
      "Before compressing images: torch.Size([64, 3, 128, 128])\n"
     ]
    },
    {
     "name": "stderr",
     "output_type": "stream",
     "text": [
      "Epoch 6/30:  65%|██████████████████████████████████████████████████████████████████▉                                    | 13/20 [00:04<00:02,  3.16it/s, loss=0.0673]"
     ]
    },
    {
     "name": "stdout",
     "output_type": "stream",
     "text": [
      "Before compressing images: torch.Size([64, 3, 128, 128])\n"
     ]
    },
    {
     "name": "stderr",
     "output_type": "stream",
     "text": [
      "Epoch 6/30:  70%|████████████████████████████████████████████████████████████████████████▊                               | 14/20 [00:04<00:01,  3.16it/s, loss=0.105]"
     ]
    },
    {
     "name": "stdout",
     "output_type": "stream",
     "text": [
      "Before compressing images: torch.Size([64, 3, 128, 128])\n"
     ]
    },
    {
     "name": "stderr",
     "output_type": "stream",
     "text": [
      "Epoch 6/30:  75%|█████████████████████████████████████████████████████████████████████████████▎                         | 15/20 [00:04<00:01,  3.16it/s, loss=0.0823]"
     ]
    },
    {
     "name": "stdout",
     "output_type": "stream",
     "text": [
      "Before compressing images: torch.Size([64, 3, 128, 128])\n"
     ]
    },
    {
     "name": "stderr",
     "output_type": "stream",
     "text": [
      "Epoch 6/30:  80%|██████████████████████████████████████████████████████████████████████████████████▍                    | 16/20 [00:05<00:01,  3.16it/s, loss=0.0831]"
     ]
    },
    {
     "name": "stdout",
     "output_type": "stream",
     "text": [
      "Before compressing images: torch.Size([64, 3, 128, 128])\n"
     ]
    },
    {
     "name": "stderr",
     "output_type": "stream",
     "text": [
      "Epoch 6/30:  85%|███████████████████████████████████████████████████████████████████████████████████████▌               | 17/20 [00:05<00:00,  3.16it/s, loss=0.0716]"
     ]
    },
    {
     "name": "stdout",
     "output_type": "stream",
     "text": [
      "Before compressing images: torch.Size([64, 3, 128, 128])\n"
     ]
    },
    {
     "name": "stderr",
     "output_type": "stream",
     "text": [
      "Epoch 6/30:  90%|████████████████████████████████████████████████████████████████████████████████████████████▋          | 18/20 [00:05<00:00,  3.16it/s, loss=0.0966]"
     ]
    },
    {
     "name": "stdout",
     "output_type": "stream",
     "text": [
      "Before compressing images: torch.Size([64, 3, 128, 128])\n"
     ]
    },
    {
     "name": "stderr",
     "output_type": "stream",
     "text": [
      "Epoch 6/30:  95%|█████████████████████████████████████████████████████████████████████████████████████████████████▊     | 19/20 [00:06<00:00,  3.16it/s, loss=0.0731]"
     ]
    },
    {
     "name": "stdout",
     "output_type": "stream",
     "text": [
      "Before compressing images: torch.Size([57, 3, 128, 128])\n"
     ]
    },
    {
     "name": "stderr",
     "output_type": "stream",
     "text": [
      "Epoch 6/30: 100%|███████████████████████████████████████████████████████████████████████████████████████████████████████| 20/20 [00:06<00:00,  3.16it/s, loss=0.0766]\n"
     ]
    },
    {
     "name": "stdout",
     "output_type": "stream",
     "text": [
      "Before compressing images: torch.Size([64, 3, 128, 128])\n",
      "Before compressing images: torch.Size([64, 3, 128, 128])\n",
      "Before compressing images: torch.Size([64, 3, 128, 128])\n",
      "Before compressing images: torch.Size([64, 3, 128, 128])\n",
      "Before compressing images: torch.Size([63, 3, 128, 128])\n",
      "Epoch [6/30] Train Loss: 0.0898 Val Loss: 0.08045052736997604\n"
     ]
    },
    {
     "name": "stderr",
     "output_type": "stream",
     "text": [
      "Epoch 7/30:   0%|                                                                                                                             | 0/20 [00:00<?, ?it/s]"
     ]
    },
    {
     "name": "stdout",
     "output_type": "stream",
     "text": [
      "Before compressing images: torch.Size([64, 3, 128, 128])\n"
     ]
    },
    {
     "name": "stderr",
     "output_type": "stream",
     "text": [
      "Epoch 7/30:   5%|█████▎                                                                                                   | 1/20 [00:00<00:05,  3.18it/s, loss=0.092]"
     ]
    },
    {
     "name": "stdout",
     "output_type": "stream",
     "text": [
      "Before compressing images: torch.Size([64, 3, 128, 128])\n"
     ]
    },
    {
     "name": "stderr",
     "output_type": "stream",
     "text": [
      "Epoch 7/30:  10%|██████████▍                                                                                             | 2/20 [00:00<00:05,  3.17it/s, loss=0.0906]"
     ]
    },
    {
     "name": "stdout",
     "output_type": "stream",
     "text": [
      "Before compressing images: torch.Size([64, 3, 128, 128])\n"
     ]
    },
    {
     "name": "stderr",
     "output_type": "stream",
     "text": [
      "Epoch 7/30:  15%|███████████████▌                                                                                        | 3/20 [00:00<00:05,  3.17it/s, loss=0.0865]"
     ]
    },
    {
     "name": "stdout",
     "output_type": "stream",
     "text": [
      "Before compressing images: torch.Size([64, 3, 128, 128])\n"
     ]
    },
    {
     "name": "stderr",
     "output_type": "stream",
     "text": [
      "Epoch 7/30:  20%|████████████████████▊                                                                                   | 4/20 [00:01<00:05,  3.17it/s, loss=0.0761]"
     ]
    },
    {
     "name": "stdout",
     "output_type": "stream",
     "text": [
      "Before compressing images: torch.Size([64, 3, 128, 128])\n"
     ]
    },
    {
     "name": "stderr",
     "output_type": "stream",
     "text": [
      "Epoch 7/30:  25%|██████████████████████████                                                                              | 5/20 [00:01<00:04,  3.16it/s, loss=0.0785]"
     ]
    },
    {
     "name": "stdout",
     "output_type": "stream",
     "text": [
      "Before compressing images: torch.Size([64, 3, 128, 128])\n"
     ]
    },
    {
     "name": "stderr",
     "output_type": "stream",
     "text": [
      "Epoch 7/30:  30%|███████████████████████████████▏                                                                        | 6/20 [00:01<00:04,  3.17it/s, loss=0.0845]"
     ]
    },
    {
     "name": "stdout",
     "output_type": "stream",
     "text": [
      "Before compressing images: torch.Size([64, 3, 128, 128])\n"
     ]
    },
    {
     "name": "stderr",
     "output_type": "stream",
     "text": [
      "Epoch 7/30:  35%|████████████████████████████████████▊                                                                    | 7/20 [00:02<00:04,  3.17it/s, loss=0.082]"
     ]
    },
    {
     "name": "stdout",
     "output_type": "stream",
     "text": [
      "Before compressing images: torch.Size([64, 3, 128, 128])\n"
     ]
    },
    {
     "name": "stderr",
     "output_type": "stream",
     "text": [
      "Epoch 7/30:  40%|█████████████████████████████████████████▌                                                              | 8/20 [00:02<00:03,  3.17it/s, loss=0.0969]"
     ]
    },
    {
     "name": "stdout",
     "output_type": "stream",
     "text": [
      "Before compressing images: torch.Size([64, 3, 128, 128])\n"
     ]
    },
    {
     "name": "stderr",
     "output_type": "stream",
     "text": [
      "Epoch 7/30:  45%|██████████████████████████████████████████████▊                                                         | 9/20 [00:02<00:03,  3.17it/s, loss=0.0691]"
     ]
    },
    {
     "name": "stdout",
     "output_type": "stream",
     "text": [
      "Before compressing images: torch.Size([64, 3, 128, 128])\n"
     ]
    },
    {
     "name": "stderr",
     "output_type": "stream",
     "text": [
      "Epoch 7/30:  50%|███████████████████████████████████████████████████▌                                                   | 10/20 [00:03<00:03,  3.17it/s, loss=0.0938]"
     ]
    },
    {
     "name": "stdout",
     "output_type": "stream",
     "text": [
      "Before compressing images: torch.Size([64, 3, 128, 128])\n"
     ]
    },
    {
     "name": "stderr",
     "output_type": "stream",
     "text": [
      "Epoch 7/30:  55%|████████████████████████████████████████████████████████▋                                              | 11/20 [00:03<00:02,  3.16it/s, loss=0.0822]"
     ]
    },
    {
     "name": "stdout",
     "output_type": "stream",
     "text": [
      "Before compressing images: torch.Size([64, 3, 128, 128])\n"
     ]
    },
    {
     "name": "stderr",
     "output_type": "stream",
     "text": [
      "Epoch 7/30:  60%|██████████████████████████████████████████████████████████████▍                                         | 12/20 [00:03<00:02,  3.17it/s, loss=0.104]"
     ]
    },
    {
     "name": "stdout",
     "output_type": "stream",
     "text": [
      "Before compressing images: torch.Size([64, 3, 128, 128])\n"
     ]
    },
    {
     "name": "stderr",
     "output_type": "stream",
     "text": [
      "Epoch 7/30:  65%|██████████████████████████████████████████████████████████████████▉                                    | 13/20 [00:04<00:02,  3.16it/s, loss=0.0653]"
     ]
    },
    {
     "name": "stdout",
     "output_type": "stream",
     "text": [
      "Before compressing images: torch.Size([64, 3, 128, 128])\n"
     ]
    },
    {
     "name": "stderr",
     "output_type": "stream",
     "text": [
      "Epoch 7/30:  70%|████████████████████████████████████████████████████████████████████████                               | 14/20 [00:04<00:01,  3.16it/s, loss=0.0643]"
     ]
    },
    {
     "name": "stdout",
     "output_type": "stream",
     "text": [
      "Before compressing images: torch.Size([64, 3, 128, 128])\n"
     ]
    },
    {
     "name": "stderr",
     "output_type": "stream",
     "text": [
      "Epoch 7/30:  75%|█████████████████████████████████████████████████████████████████████████████▎                         | 15/20 [00:04<00:01,  3.16it/s, loss=0.0783]"
     ]
    },
    {
     "name": "stdout",
     "output_type": "stream",
     "text": [
      "Before compressing images: torch.Size([64, 3, 128, 128])\n"
     ]
    },
    {
     "name": "stderr",
     "output_type": "stream",
     "text": [
      "Epoch 7/30:  80%|██████████████████████████████████████████████████████████████████████████████████▍                    | 16/20 [00:05<00:01,  3.16it/s, loss=0.0687]"
     ]
    },
    {
     "name": "stdout",
     "output_type": "stream",
     "text": [
      "Before compressing images: torch.Size([64, 3, 128, 128])\n"
     ]
    },
    {
     "name": "stderr",
     "output_type": "stream",
     "text": [
      "Epoch 7/30:  85%|███████████████████████████████████████████████████████████████████████████████████████▌               | 17/20 [00:05<00:00,  3.16it/s, loss=0.0668]"
     ]
    },
    {
     "name": "stdout",
     "output_type": "stream",
     "text": [
      "Before compressing images: torch.Size([64, 3, 128, 128])\n"
     ]
    },
    {
     "name": "stderr",
     "output_type": "stream",
     "text": [
      "Epoch 7/30:  90%|████████████████████████████████████████████████████████████████████████████████████████████▋          | 18/20 [00:05<00:00,  3.16it/s, loss=0.0759]"
     ]
    },
    {
     "name": "stdout",
     "output_type": "stream",
     "text": [
      "Before compressing images: torch.Size([64, 3, 128, 128])\n"
     ]
    },
    {
     "name": "stderr",
     "output_type": "stream",
     "text": [
      "Epoch 7/30:  95%|██████████████████████████████████████████████████████████████████████████████████████████████████▊     | 19/20 [00:06<00:00,  3.17it/s, loss=0.083]"
     ]
    },
    {
     "name": "stdout",
     "output_type": "stream",
     "text": [
      "Before compressing images: torch.Size([57, 3, 128, 128])\n"
     ]
    },
    {
     "name": "stderr",
     "output_type": "stream",
     "text": [
      "Epoch 7/30: 100%|████████████████████████████████████████████████████████████████████████████████████████████████████████| 20/20 [00:06<00:00,  3.17it/s, loss=0.119]\n"
     ]
    },
    {
     "name": "stdout",
     "output_type": "stream",
     "text": [
      "Before compressing images: torch.Size([64, 3, 128, 128])\n",
      "Before compressing images: torch.Size([64, 3, 128, 128])\n",
      "Before compressing images: torch.Size([64, 3, 128, 128])\n",
      "Before compressing images: torch.Size([64, 3, 128, 128])\n",
      "Before compressing images: torch.Size([63, 3, 128, 128])\n",
      "Epoch [7/30] Train Loss: 0.0829 Val Loss: 0.076415054500103\n"
     ]
    },
    {
     "name": "stderr",
     "output_type": "stream",
     "text": [
      "Epoch 8/30:   0%|                                                                                                                             | 0/20 [00:00<?, ?it/s]"
     ]
    },
    {
     "name": "stdout",
     "output_type": "stream",
     "text": [
      "Before compressing images: torch.Size([64, 3, 128, 128])\n"
     ]
    },
    {
     "name": "stderr",
     "output_type": "stream",
     "text": [
      "Epoch 8/30:   5%|█████▏                                                                                                  | 1/20 [00:00<00:05,  3.18it/s, loss=0.0781]"
     ]
    },
    {
     "name": "stdout",
     "output_type": "stream",
     "text": [
      "Before compressing images: torch.Size([64, 3, 128, 128])\n"
     ]
    },
    {
     "name": "stderr",
     "output_type": "stream",
     "text": [
      "Epoch 8/30:  10%|██████████▍                                                                                             | 2/20 [00:00<00:05,  3.15it/s, loss=0.0559]"
     ]
    },
    {
     "name": "stdout",
     "output_type": "stream",
     "text": [
      "Before compressing images: torch.Size([64, 3, 128, 128])\n"
     ]
    },
    {
     "name": "stderr",
     "output_type": "stream",
     "text": [
      "Epoch 8/30:  15%|███████████████▊                                                                                         | 3/20 [00:00<00:05,  3.16it/s, loss=0.082]"
     ]
    },
    {
     "name": "stdout",
     "output_type": "stream",
     "text": [
      "Before compressing images: torch.Size([64, 3, 128, 128])\n"
     ]
    },
    {
     "name": "stderr",
     "output_type": "stream",
     "text": [
      "Epoch 8/30:  20%|████████████████████▊                                                                                   | 4/20 [00:01<00:05,  3.17it/s, loss=0.0834]"
     ]
    },
    {
     "name": "stdout",
     "output_type": "stream",
     "text": [
      "Before compressing images: torch.Size([64, 3, 128, 128])\n"
     ]
    },
    {
     "name": "stderr",
     "output_type": "stream",
     "text": [
      "Epoch 8/30:  25%|██████████████████████████                                                                              | 5/20 [00:01<00:04,  3.17it/s, loss=0.0692]"
     ]
    },
    {
     "name": "stdout",
     "output_type": "stream",
     "text": [
      "Before compressing images: torch.Size([64, 3, 128, 128])\n"
     ]
    },
    {
     "name": "stderr",
     "output_type": "stream",
     "text": [
      "Epoch 8/30:  30%|███████████████████████████████▏                                                                        | 6/20 [00:01<00:04,  3.17it/s, loss=0.0766]"
     ]
    },
    {
     "name": "stdout",
     "output_type": "stream",
     "text": [
      "Before compressing images: torch.Size([64, 3, 128, 128])\n"
     ]
    },
    {
     "name": "stderr",
     "output_type": "stream",
     "text": [
      "Epoch 8/30:  35%|████████████████████████████████████▍                                                                   | 7/20 [00:02<00:04,  3.17it/s, loss=0.0954]"
     ]
    },
    {
     "name": "stdout",
     "output_type": "stream",
     "text": [
      "Before compressing images: torch.Size([64, 3, 128, 128])\n"
     ]
    },
    {
     "name": "stderr",
     "output_type": "stream",
     "text": [
      "Epoch 8/30:  40%|█████████████████████████████████████████▌                                                              | 8/20 [00:02<00:03,  3.17it/s, loss=0.0645]"
     ]
    },
    {
     "name": "stdout",
     "output_type": "stream",
     "text": [
      "Before compressing images: torch.Size([64, 3, 128, 128])\n"
     ]
    },
    {
     "name": "stderr",
     "output_type": "stream",
     "text": [
      "Epoch 8/30:  45%|██████████████████████████████████████████████▊                                                         | 9/20 [00:02<00:03,  3.17it/s, loss=0.0814]"
     ]
    },
    {
     "name": "stdout",
     "output_type": "stream",
     "text": [
      "Before compressing images: torch.Size([64, 3, 128, 128])\n"
     ]
    },
    {
     "name": "stderr",
     "output_type": "stream",
     "text": [
      "Epoch 8/30:  50%|███████████████████████████████████████████████████▌                                                   | 10/20 [00:03<00:03,  3.17it/s, loss=0.0786]"
     ]
    },
    {
     "name": "stdout",
     "output_type": "stream",
     "text": [
      "Before compressing images: torch.Size([64, 3, 128, 128])\n"
     ]
    },
    {
     "name": "stderr",
     "output_type": "stream",
     "text": [
      "Epoch 8/30:  55%|████████████████████████████████████████████████████████▋                                              | 11/20 [00:03<00:02,  3.16it/s, loss=0.0706]"
     ]
    },
    {
     "name": "stdout",
     "output_type": "stream",
     "text": [
      "Before compressing images: torch.Size([64, 3, 128, 128])\n"
     ]
    },
    {
     "name": "stderr",
     "output_type": "stream",
     "text": [
      "Epoch 8/30:  60%|███████████████████████████████████████████████████████████████                                          | 12/20 [00:03<00:02,  3.16it/s, loss=0.07]"
     ]
    },
    {
     "name": "stdout",
     "output_type": "stream",
     "text": [
      "Before compressing images: torch.Size([64, 3, 128, 128])\n"
     ]
    },
    {
     "name": "stderr",
     "output_type": "stream",
     "text": [
      "Epoch 8/30:  65%|██████████████████████████████████████████████████████████████████▉                                    | 13/20 [00:04<00:02,  3.17it/s, loss=0.0792]"
     ]
    },
    {
     "name": "stdout",
     "output_type": "stream",
     "text": [
      "Before compressing images: torch.Size([64, 3, 128, 128])\n"
     ]
    },
    {
     "name": "stderr",
     "output_type": "stream",
     "text": [
      "Epoch 8/30:  70%|████████████████████████████████████████████████████████████████████████                               | 14/20 [00:04<00:01,  3.16it/s, loss=0.0616]"
     ]
    },
    {
     "name": "stdout",
     "output_type": "stream",
     "text": [
      "Before compressing images: torch.Size([64, 3, 128, 128])\n"
     ]
    },
    {
     "name": "stderr",
     "output_type": "stream",
     "text": [
      "Epoch 8/30:  75%|█████████████████████████████████████████████████████████████████████████████▎                         | 15/20 [00:04<00:01,  3.17it/s, loss=0.0693]"
     ]
    },
    {
     "name": "stdout",
     "output_type": "stream",
     "text": [
      "Before compressing images: torch.Size([64, 3, 128, 128])\n"
     ]
    },
    {
     "name": "stderr",
     "output_type": "stream",
     "text": [
      "Epoch 8/30:  80%|██████████████████████████████████████████████████████████████████████████████████▍                    | 16/20 [00:05<00:01,  3.16it/s, loss=0.0794]"
     ]
    },
    {
     "name": "stdout",
     "output_type": "stream",
     "text": [
      "Before compressing images: torch.Size([64, 3, 128, 128])\n"
     ]
    },
    {
     "name": "stderr",
     "output_type": "stream",
     "text": [
      "Epoch 8/30:  85%|███████████████████████████████████████████████████████████████████████████████████████▌               | 17/20 [00:05<00:00,  3.16it/s, loss=0.0751]"
     ]
    },
    {
     "name": "stdout",
     "output_type": "stream",
     "text": [
      "Before compressing images: torch.Size([64, 3, 128, 128])\n"
     ]
    },
    {
     "name": "stderr",
     "output_type": "stream",
     "text": [
      "Epoch 8/30:  90%|████████████████████████████████████████████████████████████████████████████████████████████▋          | 18/20 [00:05<00:00,  3.16it/s, loss=0.0736]"
     ]
    },
    {
     "name": "stdout",
     "output_type": "stream",
     "text": [
      "Before compressing images: torch.Size([64, 3, 128, 128])\n"
     ]
    },
    {
     "name": "stderr",
     "output_type": "stream",
     "text": [
      "Epoch 8/30:  95%|█████████████████████████████████████████████████████████████████████████████████████████████████▊     | 19/20 [00:06<00:00,  3.15it/s, loss=0.0789]"
     ]
    },
    {
     "name": "stdout",
     "output_type": "stream",
     "text": [
      "Before compressing images: torch.Size([57, 3, 128, 128])\n"
     ]
    },
    {
     "name": "stderr",
     "output_type": "stream",
     "text": [
      "Epoch 8/30: 100%|████████████████████████████████████████████████████████████████████████████████████████████████████████| 20/20 [00:06<00:00,  3.17it/s, loss=0.087]\n"
     ]
    },
    {
     "name": "stdout",
     "output_type": "stream",
     "text": [
      "Before compressing images: torch.Size([64, 3, 128, 128])\n",
      "Before compressing images: torch.Size([64, 3, 128, 128])\n",
      "Before compressing images: torch.Size([64, 3, 128, 128])\n",
      "Before compressing images: torch.Size([64, 3, 128, 128])\n",
      "Before compressing images: torch.Size([63, 3, 128, 128])\n",
      "Epoch [8/30] Train Loss: 0.0755 Val Loss: 0.07613105326890945\n"
     ]
    },
    {
     "name": "stderr",
     "output_type": "stream",
     "text": [
      "Epoch 9/30:   0%|                                                                                                                             | 0/20 [00:00<?, ?it/s]"
     ]
    },
    {
     "name": "stdout",
     "output_type": "stream",
     "text": [
      "Before compressing images: torch.Size([64, 3, 128, 128])\n"
     ]
    },
    {
     "name": "stderr",
     "output_type": "stream",
     "text": [
      "Epoch 9/30:   5%|█████▏                                                                                                  | 1/20 [00:00<00:05,  3.19it/s, loss=0.0732]"
     ]
    },
    {
     "name": "stdout",
     "output_type": "stream",
     "text": [
      "Before compressing images: torch.Size([64, 3, 128, 128])\n"
     ]
    },
    {
     "name": "stderr",
     "output_type": "stream",
     "text": [
      "Epoch 9/30:  10%|██████████▍                                                                                             | 2/20 [00:00<00:05,  3.18it/s, loss=0.0614]"
     ]
    },
    {
     "name": "stdout",
     "output_type": "stream",
     "text": [
      "Before compressing images: torch.Size([64, 3, 128, 128])\n"
     ]
    },
    {
     "name": "stderr",
     "output_type": "stream",
     "text": [
      "Epoch 9/30:  15%|███████████████▊                                                                                         | 3/20 [00:00<00:05,  3.17it/s, loss=0.068]"
     ]
    },
    {
     "name": "stdout",
     "output_type": "stream",
     "text": [
      "Before compressing images: torch.Size([64, 3, 128, 128])\n"
     ]
    },
    {
     "name": "stderr",
     "output_type": "stream",
     "text": [
      "Epoch 9/30:  20%|████████████████████▊                                                                                   | 4/20 [00:01<00:05,  3.17it/s, loss=0.0778]"
     ]
    },
    {
     "name": "stdout",
     "output_type": "stream",
     "text": [
      "Before compressing images: torch.Size([64, 3, 128, 128])\n"
     ]
    },
    {
     "name": "stderr",
     "output_type": "stream",
     "text": [
      "Epoch 9/30:  25%|██████████████████████████                                                                              | 5/20 [00:01<00:04,  3.17it/s, loss=0.0783]"
     ]
    },
    {
     "name": "stdout",
     "output_type": "stream",
     "text": [
      "Before compressing images: torch.Size([64, 3, 128, 128])\n"
     ]
    },
    {
     "name": "stderr",
     "output_type": "stream",
     "text": [
      "Epoch 9/30:  30%|███████████████████████████████▏                                                                        | 6/20 [00:01<00:04,  3.17it/s, loss=0.0569]"
     ]
    },
    {
     "name": "stdout",
     "output_type": "stream",
     "text": [
      "Before compressing images: torch.Size([64, 3, 128, 128])\n"
     ]
    },
    {
     "name": "stderr",
     "output_type": "stream",
     "text": [
      "Epoch 9/30:  35%|████████████████████████████████████▍                                                                   | 7/20 [00:02<00:04,  3.15it/s, loss=0.0843]"
     ]
    },
    {
     "name": "stdout",
     "output_type": "stream",
     "text": [
      "Before compressing images: torch.Size([64, 3, 128, 128])\n"
     ]
    },
    {
     "name": "stderr",
     "output_type": "stream",
     "text": [
      "Epoch 9/30:  40%|█████████████████████████████████████████▌                                                              | 8/20 [00:02<00:03,  3.15it/s, loss=0.0667]"
     ]
    },
    {
     "name": "stdout",
     "output_type": "stream",
     "text": [
      "Before compressing images: torch.Size([64, 3, 128, 128])\n"
     ]
    },
    {
     "name": "stderr",
     "output_type": "stream",
     "text": [
      "Epoch 9/30:  45%|██████████████████████████████████████████████▊                                                         | 9/20 [00:02<00:03,  3.16it/s, loss=0.0727]"
     ]
    },
    {
     "name": "stdout",
     "output_type": "stream",
     "text": [
      "Before compressing images: torch.Size([64, 3, 128, 128])\n"
     ]
    },
    {
     "name": "stderr",
     "output_type": "stream",
     "text": [
      "Epoch 9/30:  50%|███████████████████████████████████████████████████▌                                                   | 10/20 [00:03<00:03,  3.15it/s, loss=0.0845]"
     ]
    },
    {
     "name": "stdout",
     "output_type": "stream",
     "text": [
      "Before compressing images: torch.Size([64, 3, 128, 128])\n"
     ]
    },
    {
     "name": "stderr",
     "output_type": "stream",
     "text": [
      "Epoch 9/30:  55%|████████████████████████████████████████████████████████▋                                              | 11/20 [00:03<00:02,  3.15it/s, loss=0.0661]"
     ]
    },
    {
     "name": "stdout",
     "output_type": "stream",
     "text": [
      "Before compressing images: torch.Size([64, 3, 128, 128])\n"
     ]
    },
    {
     "name": "stderr",
     "output_type": "stream",
     "text": [
      "Epoch 9/30:  60%|█████████████████████████████████████████████████████████████▊                                         | 12/20 [00:03<00:02,  3.16it/s, loss=0.0578]"
     ]
    },
    {
     "name": "stdout",
     "output_type": "stream",
     "text": [
      "Before compressing images: torch.Size([64, 3, 128, 128])\n"
     ]
    },
    {
     "name": "stderr",
     "output_type": "stream",
     "text": [
      "Epoch 9/30:  65%|██████████████████████████████████████████████████████████████████▉                                    | 13/20 [00:04<00:02,  3.16it/s, loss=0.0712]"
     ]
    },
    {
     "name": "stdout",
     "output_type": "stream",
     "text": [
      "Before compressing images: torch.Size([64, 3, 128, 128])\n"
     ]
    },
    {
     "name": "stderr",
     "output_type": "stream",
     "text": [
      "Epoch 9/30:  70%|████████████████████████████████████████████████████████████████████████▊                               | 14/20 [00:04<00:01,  3.16it/s, loss=0.065]"
     ]
    },
    {
     "name": "stdout",
     "output_type": "stream",
     "text": [
      "Before compressing images: torch.Size([64, 3, 128, 128])\n"
     ]
    },
    {
     "name": "stderr",
     "output_type": "stream",
     "text": [
      "Epoch 9/30:  75%|█████████████████████████████████████████████████████████████████████████████▎                         | 15/20 [00:04<00:01,  3.17it/s, loss=0.0554]"
     ]
    },
    {
     "name": "stdout",
     "output_type": "stream",
     "text": [
      "Before compressing images: torch.Size([64, 3, 128, 128])\n"
     ]
    },
    {
     "name": "stderr",
     "output_type": "stream",
     "text": [
      "Epoch 9/30:  80%|██████████████████████████████████████████████████████████████████████████████████▍                    | 16/20 [00:05<00:01,  3.16it/s, loss=0.0633]"
     ]
    },
    {
     "name": "stdout",
     "output_type": "stream",
     "text": [
      "Before compressing images: torch.Size([64, 3, 128, 128])\n"
     ]
    },
    {
     "name": "stderr",
     "output_type": "stream",
     "text": [
      "Epoch 9/30:  85%|███████████████████████████████████████████████████████████████████████████████████████▌               | 17/20 [00:05<00:00,  3.16it/s, loss=0.0632]"
     ]
    },
    {
     "name": "stdout",
     "output_type": "stream",
     "text": [
      "Before compressing images: torch.Size([64, 3, 128, 128])\n"
     ]
    },
    {
     "name": "stderr",
     "output_type": "stream",
     "text": [
      "Epoch 9/30:  90%|████████████████████████████████████████████████████████████████████████████████████████████▋          | 18/20 [00:05<00:00,  3.16it/s, loss=0.0807]"
     ]
    },
    {
     "name": "stdout",
     "output_type": "stream",
     "text": [
      "Before compressing images: torch.Size([64, 3, 128, 128])\n"
     ]
    },
    {
     "name": "stderr",
     "output_type": "stream",
     "text": [
      "Epoch 9/30:  95%|█████████████████████████████████████████████████████████████████████████████████████████████████▊     | 19/20 [00:06<00:00,  3.16it/s, loss=0.0669]"
     ]
    },
    {
     "name": "stdout",
     "output_type": "stream",
     "text": [
      "Before compressing images: torch.Size([57, 3, 128, 128])\n"
     ]
    },
    {
     "name": "stderr",
     "output_type": "stream",
     "text": [
      "Epoch 9/30: 100%|███████████████████████████████████████████████████████████████████████████████████████████████████████| 20/20 [00:06<00:00,  3.17it/s, loss=0.0536]\n"
     ]
    },
    {
     "name": "stdout",
     "output_type": "stream",
     "text": [
      "Before compressing images: torch.Size([64, 3, 128, 128])\n",
      "Before compressing images: torch.Size([64, 3, 128, 128])\n",
      "Before compressing images: torch.Size([64, 3, 128, 128])\n",
      "Before compressing images: torch.Size([64, 3, 128, 128])\n",
      "Before compressing images: torch.Size([63, 3, 128, 128])\n",
      "Epoch [9/30] Train Loss: 0.0684 Val Loss: 0.07578142806887626\n"
     ]
    },
    {
     "name": "stderr",
     "output_type": "stream",
     "text": [
      "Epoch 10/30:   0%|                                                                                                                            | 0/20 [00:00<?, ?it/s]"
     ]
    },
    {
     "name": "stdout",
     "output_type": "stream",
     "text": [
      "Before compressing images: torch.Size([64, 3, 128, 128])\n"
     ]
    },
    {
     "name": "stderr",
     "output_type": "stream",
     "text": [
      "Epoch 10/30:   5%|█████▏                                                                                                 | 1/20 [00:00<00:05,  3.17it/s, loss=0.0666]"
     ]
    },
    {
     "name": "stdout",
     "output_type": "stream",
     "text": [
      "Before compressing images: torch.Size([64, 3, 128, 128])\n"
     ]
    },
    {
     "name": "stderr",
     "output_type": "stream",
     "text": [
      "Epoch 10/30:  10%|██████████▎                                                                                            | 2/20 [00:00<00:05,  3.16it/s, loss=0.0818]"
     ]
    },
    {
     "name": "stdout",
     "output_type": "stream",
     "text": [
      "Before compressing images: torch.Size([64, 3, 128, 128])\n"
     ]
    },
    {
     "name": "stderr",
     "output_type": "stream",
     "text": [
      "Epoch 10/30:  15%|███████████████▍                                                                                       | 3/20 [00:00<00:05,  3.16it/s, loss=0.0609]"
     ]
    },
    {
     "name": "stdout",
     "output_type": "stream",
     "text": [
      "Before compressing images: torch.Size([64, 3, 128, 128])\n"
     ]
    },
    {
     "name": "stderr",
     "output_type": "stream",
     "text": [
      "Epoch 10/30:  20%|████████████████████▌                                                                                  | 4/20 [00:01<00:05,  3.15it/s, loss=0.0636]"
     ]
    },
    {
     "name": "stdout",
     "output_type": "stream",
     "text": [
      "Before compressing images: torch.Size([64, 3, 128, 128])\n"
     ]
    },
    {
     "name": "stderr",
     "output_type": "stream",
     "text": [
      "Epoch 10/30:  25%|█████████████████████████▊                                                                             | 5/20 [00:01<00:04,  3.16it/s, loss=0.0597]"
     ]
    },
    {
     "name": "stdout",
     "output_type": "stream",
     "text": [
      "Before compressing images: torch.Size([64, 3, 128, 128])\n"
     ]
    },
    {
     "name": "stderr",
     "output_type": "stream",
     "text": [
      "Epoch 10/30:  30%|██████████████████████████████▉                                                                        | 6/20 [00:01<00:04,  3.16it/s, loss=0.0734]"
     ]
    },
    {
     "name": "stdout",
     "output_type": "stream",
     "text": [
      "Before compressing images: torch.Size([64, 3, 128, 128])\n"
     ]
    },
    {
     "name": "stderr",
     "output_type": "stream",
     "text": [
      "Epoch 10/30:  35%|████████████████████████████████████                                                                   | 7/20 [00:02<00:04,  3.17it/s, loss=0.0725]"
     ]
    },
    {
     "name": "stdout",
     "output_type": "stream",
     "text": [
      "Before compressing images: torch.Size([64, 3, 128, 128])\n"
     ]
    },
    {
     "name": "stderr",
     "output_type": "stream",
     "text": [
      "Epoch 10/30:  40%|█████████████████████████████████████████▌                                                              | 8/20 [00:02<00:03,  3.17it/s, loss=0.106]"
     ]
    },
    {
     "name": "stdout",
     "output_type": "stream",
     "text": [
      "Before compressing images: torch.Size([64, 3, 128, 128])\n"
     ]
    },
    {
     "name": "stderr",
     "output_type": "stream",
     "text": [
      "Epoch 10/30:  45%|██████████████████████████████████████████████▊                                                         | 9/20 [00:02<00:03,  3.17it/s, loss=0.055]"
     ]
    },
    {
     "name": "stdout",
     "output_type": "stream",
     "text": [
      "Before compressing images: torch.Size([64, 3, 128, 128])\n"
     ]
    },
    {
     "name": "stderr",
     "output_type": "stream",
     "text": [
      "Epoch 10/30:  50%|███████████████████████████████████████████████████                                                   | 10/20 [00:03<00:03,  3.17it/s, loss=0.0671]"
     ]
    },
    {
     "name": "stdout",
     "output_type": "stream",
     "text": [
      "Before compressing images: torch.Size([64, 3, 128, 128])\n"
     ]
    },
    {
     "name": "stderr",
     "output_type": "stream",
     "text": [
      "Epoch 10/30:  55%|████████████████████████████████████████████████████████▋                                              | 11/20 [00:03<00:02,  3.17it/s, loss=0.065]"
     ]
    },
    {
     "name": "stdout",
     "output_type": "stream",
     "text": [
      "Before compressing images: torch.Size([64, 3, 128, 128])\n"
     ]
    },
    {
     "name": "stderr",
     "output_type": "stream",
     "text": [
      "Epoch 10/30:  60%|█████████████████████████████████████████████████████████████▏                                        | 12/20 [00:03<00:02,  3.15it/s, loss=0.0728]"
     ]
    },
    {
     "name": "stdout",
     "output_type": "stream",
     "text": [
      "Before compressing images: torch.Size([64, 3, 128, 128])\n"
     ]
    },
    {
     "name": "stderr",
     "output_type": "stream",
     "text": [
      "Epoch 10/30:  65%|██████████████████████████████████████████████████████████████████▎                                   | 13/20 [00:04<00:02,  3.15it/s, loss=0.0515]"
     ]
    },
    {
     "name": "stdout",
     "output_type": "stream",
     "text": [
      "Before compressing images: torch.Size([64, 3, 128, 128])\n"
     ]
    },
    {
     "name": "stderr",
     "output_type": "stream",
     "text": [
      "Epoch 10/30:  70%|███████████████████████████████████████████████████████████████████████▍                              | 14/20 [00:04<00:01,  3.16it/s, loss=0.0677]"
     ]
    },
    {
     "name": "stdout",
     "output_type": "stream",
     "text": [
      "Before compressing images: torch.Size([64, 3, 128, 128])\n"
     ]
    },
    {
     "name": "stderr",
     "output_type": "stream",
     "text": [
      "Epoch 10/30:  75%|████████████████████████████████████████████████████████████████████████████▌                         | 15/20 [00:04<00:01,  3.16it/s, loss=0.0581]"
     ]
    },
    {
     "name": "stdout",
     "output_type": "stream",
     "text": [
      "Before compressing images: torch.Size([64, 3, 128, 128])\n"
     ]
    },
    {
     "name": "stderr",
     "output_type": "stream",
     "text": [
      "Epoch 10/30:  80%|█████████████████████████████████████████████████████████████████████████████████▌                    | 16/20 [00:05<00:01,  3.17it/s, loss=0.0733]"
     ]
    },
    {
     "name": "stdout",
     "output_type": "stream",
     "text": [
      "Before compressing images: torch.Size([64, 3, 128, 128])\n"
     ]
    },
    {
     "name": "stderr",
     "output_type": "stream",
     "text": [
      "Epoch 10/30:  85%|██████████████████████████████████████████████████████████████████████████████████████▋               | 17/20 [00:05<00:00,  3.15it/s, loss=0.0614]"
     ]
    },
    {
     "name": "stdout",
     "output_type": "stream",
     "text": [
      "Before compressing images: torch.Size([64, 3, 128, 128])\n"
     ]
    },
    {
     "name": "stderr",
     "output_type": "stream",
     "text": [
      "Epoch 10/30:  90%|███████████████████████████████████████████████████████████████████████████████████████████▊          | 18/20 [00:05<00:00,  3.14it/s, loss=0.0864]"
     ]
    },
    {
     "name": "stdout",
     "output_type": "stream",
     "text": [
      "Before compressing images: torch.Size([64, 3, 128, 128])\n"
     ]
    },
    {
     "name": "stderr",
     "output_type": "stream",
     "text": [
      "Epoch 10/30:  95%|████████████████████████████████████████████████████████████████████████████████████████████████▉     | 19/20 [00:06<00:00,  3.15it/s, loss=0.0825]"
     ]
    },
    {
     "name": "stdout",
     "output_type": "stream",
     "text": [
      "Before compressing images: torch.Size([57, 3, 128, 128])\n"
     ]
    },
    {
     "name": "stderr",
     "output_type": "stream",
     "text": [
      "Epoch 10/30: 100%|██████████████████████████████████████████████████████████████████████████████████████████████████████| 20/20 [00:06<00:00,  3.16it/s, loss=0.0651]\n"
     ]
    },
    {
     "name": "stdout",
     "output_type": "stream",
     "text": [
      "Before compressing images: torch.Size([64, 3, 128, 128])\n",
      "Before compressing images: torch.Size([64, 3, 128, 128])\n",
      "Before compressing images: torch.Size([64, 3, 128, 128])\n",
      "Before compressing images: torch.Size([64, 3, 128, 128])\n",
      "Before compressing images: torch.Size([63, 3, 128, 128])\n",
      "Epoch [10/30] Train Loss: 0.0695 Val Loss: 0.07274395674467087\n"
     ]
    },
    {
     "name": "stderr",
     "output_type": "stream",
     "text": [
      "Epoch 11/30:   0%|                                                                                                                            | 0/20 [00:00<?, ?it/s]"
     ]
    },
    {
     "name": "stdout",
     "output_type": "stream",
     "text": [
      "Before compressing images: torch.Size([64, 3, 128, 128])\n"
     ]
    },
    {
     "name": "stderr",
     "output_type": "stream",
     "text": [
      "Epoch 11/30:   5%|█████▏                                                                                                 | 1/20 [00:00<00:06,  3.17it/s, loss=0.0644]"
     ]
    },
    {
     "name": "stdout",
     "output_type": "stream",
     "text": [
      "Before compressing images: torch.Size([64, 3, 128, 128])\n"
     ]
    },
    {
     "name": "stderr",
     "output_type": "stream",
     "text": [
      "Epoch 11/30:  10%|██████████▎                                                                                            | 2/20 [00:00<00:05,  3.17it/s, loss=0.0651]"
     ]
    },
    {
     "name": "stdout",
     "output_type": "stream",
     "text": [
      "Before compressing images: torch.Size([64, 3, 128, 128])\n"
     ]
    },
    {
     "name": "stderr",
     "output_type": "stream",
     "text": [
      "Epoch 11/30:  15%|███████████████▍                                                                                       | 3/20 [00:00<00:05,  3.17it/s, loss=0.0632]"
     ]
    },
    {
     "name": "stdout",
     "output_type": "stream",
     "text": [
      "Before compressing images: torch.Size([64, 3, 128, 128])\n"
     ]
    },
    {
     "name": "stderr",
     "output_type": "stream",
     "text": [
      "Epoch 11/30:  20%|████████████████████▌                                                                                  | 4/20 [00:01<00:05,  3.15it/s, loss=0.0965]"
     ]
    },
    {
     "name": "stdout",
     "output_type": "stream",
     "text": [
      "Before compressing images: torch.Size([64, 3, 128, 128])\n"
     ]
    },
    {
     "name": "stderr",
     "output_type": "stream",
     "text": [
      "Epoch 11/30:  25%|██████████████████████████                                                                              | 5/20 [00:01<00:04,  3.16it/s, loss=0.092]"
     ]
    },
    {
     "name": "stdout",
     "output_type": "stream",
     "text": [
      "Before compressing images: torch.Size([64, 3, 128, 128])\n"
     ]
    },
    {
     "name": "stderr",
     "output_type": "stream",
     "text": [
      "Epoch 11/30:  30%|██████████████████████████████▉                                                                        | 6/20 [00:01<00:04,  3.16it/s, loss=0.0675]"
     ]
    },
    {
     "name": "stdout",
     "output_type": "stream",
     "text": [
      "Before compressing images: torch.Size([64, 3, 128, 128])\n"
     ]
    },
    {
     "name": "stderr",
     "output_type": "stream",
     "text": [
      "Epoch 11/30:  35%|████████████████████████████████████                                                                   | 7/20 [00:02<00:04,  3.16it/s, loss=0.0718]"
     ]
    },
    {
     "name": "stdout",
     "output_type": "stream",
     "text": [
      "Before compressing images: torch.Size([64, 3, 128, 128])\n"
     ]
    },
    {
     "name": "stderr",
     "output_type": "stream",
     "text": [
      "Epoch 11/30:  40%|█████████████████████████████████████████▏                                                             | 8/20 [00:02<00:03,  3.17it/s, loss=0.0671]"
     ]
    },
    {
     "name": "stdout",
     "output_type": "stream",
     "text": [
      "Before compressing images: torch.Size([64, 3, 128, 128])\n"
     ]
    },
    {
     "name": "stderr",
     "output_type": "stream",
     "text": [
      "Epoch 11/30:  45%|██████████████████████████████████████████████▎                                                        | 9/20 [00:02<00:03,  3.17it/s, loss=0.0911]"
     ]
    },
    {
     "name": "stdout",
     "output_type": "stream",
     "text": [
      "Before compressing images: torch.Size([64, 3, 128, 128])\n"
     ]
    },
    {
     "name": "stderr",
     "output_type": "stream",
     "text": [
      "Epoch 11/30:  50%|███████████████████████████████████████████████████                                                   | 10/20 [00:03<00:03,  3.17it/s, loss=0.0449]"
     ]
    },
    {
     "name": "stdout",
     "output_type": "stream",
     "text": [
      "Before compressing images: torch.Size([64, 3, 128, 128])\n"
     ]
    },
    {
     "name": "stderr",
     "output_type": "stream",
     "text": [
      "Epoch 11/30:  55%|████████████████████████████████████████████████████████                                              | 11/20 [00:03<00:02,  3.17it/s, loss=0.0708]"
     ]
    },
    {
     "name": "stdout",
     "output_type": "stream",
     "text": [
      "Before compressing images: torch.Size([64, 3, 128, 128])\n"
     ]
    },
    {
     "name": "stderr",
     "output_type": "stream",
     "text": [
      "Epoch 11/30:  60%|█████████████████████████████████████████████████████████████▏                                        | 12/20 [00:03<00:02,  3.17it/s, loss=0.0774]"
     ]
    },
    {
     "name": "stdout",
     "output_type": "stream",
     "text": [
      "Before compressing images: torch.Size([64, 3, 128, 128])\n"
     ]
    },
    {
     "name": "stderr",
     "output_type": "stream",
     "text": [
      "Epoch 11/30:  65%|██████████████████████████████████████████████████████████████████▎                                   | 13/20 [00:04<00:02,  3.17it/s, loss=0.0628]"
     ]
    },
    {
     "name": "stdout",
     "output_type": "stream",
     "text": [
      "Before compressing images: torch.Size([64, 3, 128, 128])\n"
     ]
    },
    {
     "name": "stderr",
     "output_type": "stream",
     "text": [
      "Epoch 11/30:  70%|███████████████████████████████████████████████████████████████████████▍                              | 14/20 [00:04<00:01,  3.17it/s, loss=0.0495]"
     ]
    },
    {
     "name": "stdout",
     "output_type": "stream",
     "text": [
      "Before compressing images: torch.Size([64, 3, 128, 128])\n"
     ]
    },
    {
     "name": "stderr",
     "output_type": "stream",
     "text": [
      "Epoch 11/30:  75%|████████████████████████████████████████████████████████████████████████████▌                         | 15/20 [00:04<00:01,  3.16it/s, loss=0.0554]"
     ]
    },
    {
     "name": "stdout",
     "output_type": "stream",
     "text": [
      "Before compressing images: torch.Size([64, 3, 128, 128])\n"
     ]
    },
    {
     "name": "stderr",
     "output_type": "stream",
     "text": [
      "Epoch 11/30:  80%|█████████████████████████████████████████████████████████████████████████████████▌                    | 16/20 [00:05<00:01,  3.16it/s, loss=0.0774]"
     ]
    },
    {
     "name": "stdout",
     "output_type": "stream",
     "text": [
      "Before compressing images: torch.Size([64, 3, 128, 128])\n"
     ]
    },
    {
     "name": "stderr",
     "output_type": "stream",
     "text": [
      "Epoch 11/30:  85%|██████████████████████████████████████████████████████████████████████████████████████▋               | 17/20 [00:05<00:00,  3.17it/s, loss=0.0487]"
     ]
    },
    {
     "name": "stdout",
     "output_type": "stream",
     "text": [
      "Before compressing images: torch.Size([64, 3, 128, 128])\n"
     ]
    },
    {
     "name": "stderr",
     "output_type": "stream",
     "text": [
      "Epoch 11/30:  90%|███████████████████████████████████████████████████████████████████████████████████████████▊          | 18/20 [00:05<00:00,  3.17it/s, loss=0.0611]"
     ]
    },
    {
     "name": "stdout",
     "output_type": "stream",
     "text": [
      "Before compressing images: torch.Size([64, 3, 128, 128])\n"
     ]
    },
    {
     "name": "stderr",
     "output_type": "stream",
     "text": [
      "Epoch 11/30:  95%|████████████████████████████████████████████████████████████████████████████████████████████████▉     | 19/20 [00:06<00:00,  3.15it/s, loss=0.0613]"
     ]
    },
    {
     "name": "stdout",
     "output_type": "stream",
     "text": [
      "Before compressing images: torch.Size([57, 3, 128, 128])\n"
     ]
    },
    {
     "name": "stderr",
     "output_type": "stream",
     "text": [
      "Epoch 11/30: 100%|██████████████████████████████████████████████████████████████████████████████████████████████████████| 20/20 [00:06<00:00,  3.17it/s, loss=0.0754]\n"
     ]
    },
    {
     "name": "stdout",
     "output_type": "stream",
     "text": [
      "Before compressing images: torch.Size([64, 3, 128, 128])\n",
      "Before compressing images: torch.Size([64, 3, 128, 128])\n",
      "Before compressing images: torch.Size([64, 3, 128, 128])\n",
      "Before compressing images: torch.Size([64, 3, 128, 128])\n",
      "Before compressing images: torch.Size([63, 3, 128, 128])\n",
      "Epoch [11/30] Train Loss: 0.0682 Val Loss: 0.07001773715019226\n"
     ]
    },
    {
     "name": "stderr",
     "output_type": "stream",
     "text": [
      "Epoch 12/30:   0%|                                                                                                                            | 0/20 [00:00<?, ?it/s]"
     ]
    },
    {
     "name": "stdout",
     "output_type": "stream",
     "text": [
      "Before compressing images: torch.Size([64, 3, 128, 128])\n"
     ]
    },
    {
     "name": "stderr",
     "output_type": "stream",
     "text": [
      "Epoch 12/30:   5%|█████▏                                                                                                  | 1/20 [00:00<00:06,  3.13it/s, loss=0.059]"
     ]
    },
    {
     "name": "stdout",
     "output_type": "stream",
     "text": [
      "Before compressing images: torch.Size([64, 3, 128, 128])\n"
     ]
    },
    {
     "name": "stderr",
     "output_type": "stream",
     "text": [
      "Epoch 12/30:  10%|██████████▎                                                                                            | 2/20 [00:00<00:05,  3.14it/s, loss=0.0527]"
     ]
    },
    {
     "name": "stdout",
     "output_type": "stream",
     "text": [
      "Before compressing images: torch.Size([64, 3, 128, 128])\n"
     ]
    },
    {
     "name": "stderr",
     "output_type": "stream",
     "text": [
      "Epoch 12/30:  15%|███████████████▍                                                                                       | 3/20 [00:00<00:05,  3.15it/s, loss=0.0659]"
     ]
    },
    {
     "name": "stdout",
     "output_type": "stream",
     "text": [
      "Before compressing images: torch.Size([64, 3, 128, 128])\n"
     ]
    },
    {
     "name": "stderr",
     "output_type": "stream",
     "text": [
      "Epoch 12/30:  20%|████████████████████▌                                                                                  | 4/20 [00:01<00:05,  3.16it/s, loss=0.0815]"
     ]
    },
    {
     "name": "stdout",
     "output_type": "stream",
     "text": [
      "Before compressing images: torch.Size([64, 3, 128, 128])\n"
     ]
    },
    {
     "name": "stderr",
     "output_type": "stream",
     "text": [
      "Epoch 12/30:  25%|█████████████████████████▊                                                                             | 5/20 [00:01<00:04,  3.16it/s, loss=0.0573]"
     ]
    },
    {
     "name": "stdout",
     "output_type": "stream",
     "text": [
      "Before compressing images: torch.Size([64, 3, 128, 128])\n"
     ]
    },
    {
     "name": "stderr",
     "output_type": "stream",
     "text": [
      "Epoch 12/30:  30%|██████████████████████████████▉                                                                        | 6/20 [00:01<00:04,  3.17it/s, loss=0.0839]"
     ]
    },
    {
     "name": "stdout",
     "output_type": "stream",
     "text": [
      "Before compressing images: torch.Size([64, 3, 128, 128])\n"
     ]
    },
    {
     "name": "stderr",
     "output_type": "stream",
     "text": [
      "Epoch 12/30:  35%|████████████████████████████████████                                                                   | 7/20 [00:02<00:04,  3.17it/s, loss=0.0779]"
     ]
    },
    {
     "name": "stdout",
     "output_type": "stream",
     "text": [
      "Before compressing images: torch.Size([64, 3, 128, 128])\n"
     ]
    },
    {
     "name": "stderr",
     "output_type": "stream",
     "text": [
      "Epoch 12/30:  40%|█████████████████████████████████████████▏                                                             | 8/20 [00:02<00:03,  3.16it/s, loss=0.0508]"
     ]
    },
    {
     "name": "stdout",
     "output_type": "stream",
     "text": [
      "Before compressing images: torch.Size([64, 3, 128, 128])\n"
     ]
    },
    {
     "name": "stderr",
     "output_type": "stream",
     "text": [
      "Epoch 12/30:  45%|██████████████████████████████████████████████▊                                                         | 9/20 [00:02<00:03,  3.16it/s, loss=0.075]"
     ]
    },
    {
     "name": "stdout",
     "output_type": "stream",
     "text": [
      "Before compressing images: torch.Size([64, 3, 128, 128])\n"
     ]
    },
    {
     "name": "stderr",
     "output_type": "stream",
     "text": [
      "Epoch 12/30:  50%|███████████████████████████████████████████████████                                                   | 10/20 [00:03<00:03,  3.16it/s, loss=0.0392]"
     ]
    },
    {
     "name": "stdout",
     "output_type": "stream",
     "text": [
      "Before compressing images: torch.Size([64, 3, 128, 128])\n"
     ]
    },
    {
     "name": "stderr",
     "output_type": "stream",
     "text": [
      "Epoch 12/30:  55%|████████████████████████████████████████████████████████▋                                              | 11/20 [00:03<00:02,  3.17it/s, loss=0.059]"
     ]
    },
    {
     "name": "stdout",
     "output_type": "stream",
     "text": [
      "Before compressing images: torch.Size([64, 3, 128, 128])\n"
     ]
    },
    {
     "name": "stderr",
     "output_type": "stream",
     "text": [
      "Epoch 12/30:  60%|█████████████████████████████████████████████████████████████▏                                        | 12/20 [00:03<00:02,  3.16it/s, loss=0.0774]"
     ]
    },
    {
     "name": "stdout",
     "output_type": "stream",
     "text": [
      "Before compressing images: torch.Size([64, 3, 128, 128])\n"
     ]
    },
    {
     "name": "stderr",
     "output_type": "stream",
     "text": [
      "Epoch 12/30:  65%|██████████████████████████████████████████████████████████████████▎                                   | 13/20 [00:04<00:02,  3.16it/s, loss=0.0519]"
     ]
    },
    {
     "name": "stdout",
     "output_type": "stream",
     "text": [
      "Before compressing images: torch.Size([64, 3, 128, 128])\n"
     ]
    },
    {
     "name": "stderr",
     "output_type": "stream",
     "text": [
      "Epoch 12/30:  70%|███████████████████████████████████████████████████████████████████████▍                              | 14/20 [00:04<00:01,  3.16it/s, loss=0.0718]"
     ]
    },
    {
     "name": "stdout",
     "output_type": "stream",
     "text": [
      "Before compressing images: torch.Size([64, 3, 128, 128])\n"
     ]
    },
    {
     "name": "stderr",
     "output_type": "stream",
     "text": [
      "Epoch 12/30:  75%|████████████████████████████████████████████████████████████████████████████▌                         | 15/20 [00:04<00:01,  3.16it/s, loss=0.0527]"
     ]
    },
    {
     "name": "stdout",
     "output_type": "stream",
     "text": [
      "Before compressing images: torch.Size([64, 3, 128, 128])\n"
     ]
    },
    {
     "name": "stderr",
     "output_type": "stream",
     "text": [
      "Epoch 12/30:  80%|█████████████████████████████████████████████████████████████████████████████████▌                    | 16/20 [00:05<00:01,  3.16it/s, loss=0.0487]"
     ]
    },
    {
     "name": "stdout",
     "output_type": "stream",
     "text": [
      "Before compressing images: torch.Size([64, 3, 128, 128])\n"
     ]
    },
    {
     "name": "stderr",
     "output_type": "stream",
     "text": [
      "Epoch 12/30:  85%|██████████████████████████████████████████████████████████████████████████████████████▋               | 17/20 [00:05<00:00,  3.16it/s, loss=0.0709]"
     ]
    },
    {
     "name": "stdout",
     "output_type": "stream",
     "text": [
      "Before compressing images: torch.Size([64, 3, 128, 128])\n"
     ]
    },
    {
     "name": "stderr",
     "output_type": "stream",
     "text": [
      "Epoch 12/30:  90%|███████████████████████████████████████████████████████████████████████████████████████████▊          | 18/20 [00:05<00:00,  3.15it/s, loss=0.0364]"
     ]
    },
    {
     "name": "stdout",
     "output_type": "stream",
     "text": [
      "Before compressing images: torch.Size([64, 3, 128, 128])\n"
     ]
    },
    {
     "name": "stderr",
     "output_type": "stream",
     "text": [
      "Epoch 12/30:  95%|████████████████████████████████████████████████████████████████████████████████████████████████▉     | 19/20 [00:06<00:00,  3.16it/s, loss=0.0649]"
     ]
    },
    {
     "name": "stdout",
     "output_type": "stream",
     "text": [
      "Before compressing images: torch.Size([57, 3, 128, 128])\n"
     ]
    },
    {
     "name": "stderr",
     "output_type": "stream",
     "text": [
      "Epoch 12/30: 100%|██████████████████████████████████████████████████████████████████████████████████████████████████████| 20/20 [00:06<00:00,  3.17it/s, loss=0.0456]\n"
     ]
    },
    {
     "name": "stdout",
     "output_type": "stream",
     "text": [
      "Before compressing images: torch.Size([64, 3, 128, 128])\n",
      "Before compressing images: torch.Size([64, 3, 128, 128])\n",
      "Before compressing images: torch.Size([64, 3, 128, 128])\n",
      "Before compressing images: torch.Size([64, 3, 128, 128])\n",
      "Before compressing images: torch.Size([63, 3, 128, 128])\n",
      "Epoch [12/30] Train Loss: 0.0611 Val Loss: 0.06484956219792366\n"
     ]
    },
    {
     "name": "stderr",
     "output_type": "stream",
     "text": [
      "Epoch 13/30:   0%|                                                                                                                            | 0/20 [00:00<?, ?it/s]"
     ]
    },
    {
     "name": "stdout",
     "output_type": "stream",
     "text": [
      "Before compressing images: torch.Size([64, 3, 128, 128])\n"
     ]
    },
    {
     "name": "stderr",
     "output_type": "stream",
     "text": [
      "Epoch 13/30:   5%|█████▏                                                                                                 | 1/20 [00:00<00:05,  3.17it/s, loss=0.0599]"
     ]
    },
    {
     "name": "stdout",
     "output_type": "stream",
     "text": [
      "Before compressing images: torch.Size([64, 3, 128, 128])\n"
     ]
    },
    {
     "name": "stderr",
     "output_type": "stream",
     "text": [
      "Epoch 13/30:  10%|██████████▎                                                                                            | 2/20 [00:00<00:05,  3.17it/s, loss=0.0991]"
     ]
    },
    {
     "name": "stdout",
     "output_type": "stream",
     "text": [
      "Before compressing images: torch.Size([64, 3, 128, 128])\n"
     ]
    },
    {
     "name": "stderr",
     "output_type": "stream",
     "text": [
      "Epoch 13/30:  15%|███████████████▍                                                                                       | 3/20 [00:00<00:05,  3.17it/s, loss=0.0596]"
     ]
    },
    {
     "name": "stdout",
     "output_type": "stream",
     "text": [
      "Before compressing images: torch.Size([64, 3, 128, 128])\n"
     ]
    },
    {
     "name": "stderr",
     "output_type": "stream",
     "text": [
      "Epoch 13/30:  20%|████████████████████▌                                                                                  | 4/20 [00:01<00:05,  3.16it/s, loss=0.0462]"
     ]
    },
    {
     "name": "stdout",
     "output_type": "stream",
     "text": [
      "Before compressing images: torch.Size([64, 3, 128, 128])\n"
     ]
    },
    {
     "name": "stderr",
     "output_type": "stream",
     "text": [
      "Epoch 13/30:  25%|█████████████████████████▊                                                                             | 5/20 [00:01<00:04,  3.16it/s, loss=0.0701]"
     ]
    },
    {
     "name": "stdout",
     "output_type": "stream",
     "text": [
      "Before compressing images: torch.Size([64, 3, 128, 128])\n"
     ]
    },
    {
     "name": "stderr",
     "output_type": "stream",
     "text": [
      "Epoch 13/30:  30%|██████████████████████████████▉                                                                        | 6/20 [00:01<00:04,  3.16it/s, loss=0.0424]"
     ]
    },
    {
     "name": "stdout",
     "output_type": "stream",
     "text": [
      "Before compressing images: torch.Size([64, 3, 128, 128])\n"
     ]
    },
    {
     "name": "stderr",
     "output_type": "stream",
     "text": [
      "Epoch 13/30:  35%|████████████████████████████████████                                                                   | 7/20 [00:02<00:04,  3.16it/s, loss=0.0564]"
     ]
    },
    {
     "name": "stdout",
     "output_type": "stream",
     "text": [
      "Before compressing images: torch.Size([64, 3, 128, 128])\n"
     ]
    },
    {
     "name": "stderr",
     "output_type": "stream",
     "text": [
      "Epoch 13/30:  40%|█████████████████████████████████████████▏                                                             | 8/20 [00:02<00:03,  3.16it/s, loss=0.0561]"
     ]
    },
    {
     "name": "stdout",
     "output_type": "stream",
     "text": [
      "Before compressing images: torch.Size([64, 3, 128, 128])\n"
     ]
    },
    {
     "name": "stderr",
     "output_type": "stream",
     "text": [
      "Epoch 13/30:  45%|██████████████████████████████████████████████▎                                                        | 9/20 [00:02<00:03,  3.16it/s, loss=0.0685]"
     ]
    },
    {
     "name": "stdout",
     "output_type": "stream",
     "text": [
      "Before compressing images: torch.Size([64, 3, 128, 128])\n"
     ]
    },
    {
     "name": "stderr",
     "output_type": "stream",
     "text": [
      "Epoch 13/30:  50%|███████████████████████████████████████████████████                                                   | 10/20 [00:03<00:03,  3.15it/s, loss=0.0463]"
     ]
    },
    {
     "name": "stdout",
     "output_type": "stream",
     "text": [
      "Before compressing images: torch.Size([64, 3, 128, 128])\n"
     ]
    },
    {
     "name": "stderr",
     "output_type": "stream",
     "text": [
      "Epoch 13/30:  55%|████████████████████████████████████████████████████████                                              | 11/20 [00:03<00:02,  3.15it/s, loss=0.0663]"
     ]
    },
    {
     "name": "stdout",
     "output_type": "stream",
     "text": [
      "Before compressing images: torch.Size([64, 3, 128, 128])\n"
     ]
    },
    {
     "name": "stderr",
     "output_type": "stream",
     "text": [
      "Epoch 13/30:  60%|█████████████████████████████████████████████████████████████▏                                        | 12/20 [00:03<00:02,  3.16it/s, loss=0.0444]"
     ]
    },
    {
     "name": "stdout",
     "output_type": "stream",
     "text": [
      "Before compressing images: torch.Size([64, 3, 128, 128])\n"
     ]
    },
    {
     "name": "stderr",
     "output_type": "stream",
     "text": [
      "Epoch 13/30:  65%|██████████████████████████████████████████████████████████████████▎                                   | 13/20 [00:04<00:02,  3.16it/s, loss=0.0595]"
     ]
    },
    {
     "name": "stdout",
     "output_type": "stream",
     "text": [
      "Before compressing images: torch.Size([64, 3, 128, 128])\n"
     ]
    },
    {
     "name": "stderr",
     "output_type": "stream",
     "text": [
      "Epoch 13/30:  70%|███████████████████████████████████████████████████████████████████████▍                              | 14/20 [00:04<00:01,  3.17it/s, loss=0.0605]"
     ]
    },
    {
     "name": "stdout",
     "output_type": "stream",
     "text": [
      "Before compressing images: torch.Size([64, 3, 128, 128])\n"
     ]
    },
    {
     "name": "stderr",
     "output_type": "stream",
     "text": [
      "Epoch 13/30:  75%|████████████████████████████████████████████████████████████████████████████▌                         | 15/20 [00:04<00:01,  3.17it/s, loss=0.0596]"
     ]
    },
    {
     "name": "stdout",
     "output_type": "stream",
     "text": [
      "Before compressing images: torch.Size([64, 3, 128, 128])\n"
     ]
    },
    {
     "name": "stderr",
     "output_type": "stream",
     "text": [
      "Epoch 13/30:  80%|█████████████████████████████████████████████████████████████████████████████████▌                    | 16/20 [00:05<00:01,  3.17it/s, loss=0.0573]"
     ]
    },
    {
     "name": "stdout",
     "output_type": "stream",
     "text": [
      "Before compressing images: torch.Size([64, 3, 128, 128])\n"
     ]
    },
    {
     "name": "stderr",
     "output_type": "stream",
     "text": [
      "Epoch 13/30:  85%|██████████████████████████████████████████████████████████████████████████████████████▋               | 17/20 [00:05<00:00,  3.16it/s, loss=0.0482]"
     ]
    },
    {
     "name": "stdout",
     "output_type": "stream",
     "text": [
      "Before compressing images: torch.Size([64, 3, 128, 128])\n"
     ]
    },
    {
     "name": "stderr",
     "output_type": "stream",
     "text": [
      "Epoch 13/30:  90%|███████████████████████████████████████████████████████████████████████████████████████████▊          | 18/20 [00:05<00:00,  3.17it/s, loss=0.0446]"
     ]
    },
    {
     "name": "stdout",
     "output_type": "stream",
     "text": [
      "Before compressing images: torch.Size([64, 3, 128, 128])\n"
     ]
    },
    {
     "name": "stderr",
     "output_type": "stream",
     "text": [
      "Epoch 13/30:  95%|████████████████████████████████████████████████████████████████████████████████████████████████▉     | 19/20 [00:06<00:00,  3.17it/s, loss=0.0605]"
     ]
    },
    {
     "name": "stdout",
     "output_type": "stream",
     "text": [
      "Before compressing images: torch.Size([57, 3, 128, 128])\n"
     ]
    },
    {
     "name": "stderr",
     "output_type": "stream",
     "text": [
      "Epoch 13/30: 100%|██████████████████████████████████████████████████████████████████████████████████████████████████████| 20/20 [00:06<00:00,  3.17it/s, loss=0.0614]\n"
     ]
    },
    {
     "name": "stdout",
     "output_type": "stream",
     "text": [
      "Before compressing images: torch.Size([64, 3, 128, 128])\n",
      "Before compressing images: torch.Size([64, 3, 128, 128])\n",
      "Before compressing images: torch.Size([64, 3, 128, 128])\n",
      "Before compressing images: torch.Size([64, 3, 128, 128])\n",
      "Before compressing images: torch.Size([63, 3, 128, 128])\n",
      "Epoch [13/30] Train Loss: 0.0584 Val Loss: 0.057533442974090576\n"
     ]
    },
    {
     "name": "stderr",
     "output_type": "stream",
     "text": [
      "Epoch 14/30:   0%|                                                                                                                            | 0/20 [00:00<?, ?it/s]"
     ]
    },
    {
     "name": "stdout",
     "output_type": "stream",
     "text": [
      "Before compressing images: torch.Size([64, 3, 128, 128])\n"
     ]
    },
    {
     "name": "stderr",
     "output_type": "stream",
     "text": [
      "Epoch 14/30:   5%|█████▏                                                                                                 | 1/20 [00:00<00:05,  3.18it/s, loss=0.0584]"
     ]
    },
    {
     "name": "stdout",
     "output_type": "stream",
     "text": [
      "Before compressing images: torch.Size([64, 3, 128, 128])\n"
     ]
    },
    {
     "name": "stderr",
     "output_type": "stream",
     "text": [
      "Epoch 14/30:  10%|██████████▎                                                                                            | 2/20 [00:00<00:05,  3.18it/s, loss=0.0598]"
     ]
    },
    {
     "name": "stdout",
     "output_type": "stream",
     "text": [
      "Before compressing images: torch.Size([64, 3, 128, 128])\n"
     ]
    },
    {
     "name": "stderr",
     "output_type": "stream",
     "text": [
      "Epoch 14/30:  15%|███████████████▍                                                                                       | 3/20 [00:00<00:05,  3.17it/s, loss=0.0527]"
     ]
    },
    {
     "name": "stdout",
     "output_type": "stream",
     "text": [
      "Before compressing images: torch.Size([64, 3, 128, 128])\n"
     ]
    },
    {
     "name": "stderr",
     "output_type": "stream",
     "text": [
      "Epoch 14/30:  20%|████████████████████▌                                                                                  | 4/20 [00:01<00:05,  3.17it/s, loss=0.0476]"
     ]
    },
    {
     "name": "stdout",
     "output_type": "stream",
     "text": [
      "Before compressing images: torch.Size([64, 3, 128, 128])\n"
     ]
    },
    {
     "name": "stderr",
     "output_type": "stream",
     "text": [
      "Epoch 14/30:  25%|█████████████████████████▊                                                                             | 5/20 [00:01<00:04,  3.16it/s, loss=0.0599]"
     ]
    },
    {
     "name": "stdout",
     "output_type": "stream",
     "text": [
      "Before compressing images: torch.Size([64, 3, 128, 128])\n"
     ]
    },
    {
     "name": "stderr",
     "output_type": "stream",
     "text": [
      "Epoch 14/30:  30%|██████████████████████████████▉                                                                        | 6/20 [00:01<00:04,  3.16it/s, loss=0.0495]"
     ]
    },
    {
     "name": "stdout",
     "output_type": "stream",
     "text": [
      "Before compressing images: torch.Size([64, 3, 128, 128])\n"
     ]
    },
    {
     "name": "stderr",
     "output_type": "stream",
     "text": [
      "Epoch 14/30:  35%|████████████████████████████████████                                                                   | 7/20 [00:02<00:04,  3.16it/s, loss=0.0591]"
     ]
    },
    {
     "name": "stdout",
     "output_type": "stream",
     "text": [
      "Before compressing images: torch.Size([64, 3, 128, 128])\n"
     ]
    },
    {
     "name": "stderr",
     "output_type": "stream",
     "text": [
      "Epoch 14/30:  40%|█████████████████████████████████████████▏                                                             | 8/20 [00:02<00:03,  3.16it/s, loss=0.0593]"
     ]
    },
    {
     "name": "stdout",
     "output_type": "stream",
     "text": [
      "Before compressing images: torch.Size([64, 3, 128, 128])\n"
     ]
    },
    {
     "name": "stderr",
     "output_type": "stream",
     "text": [
      "Epoch 14/30:  45%|██████████████████████████████████████████████▎                                                        | 9/20 [00:02<00:03,  3.16it/s, loss=0.0564]"
     ]
    },
    {
     "name": "stdout",
     "output_type": "stream",
     "text": [
      "Before compressing images: torch.Size([64, 3, 128, 128])\n"
     ]
    },
    {
     "name": "stderr",
     "output_type": "stream",
     "text": [
      "Epoch 14/30:  50%|███████████████████████████████████████████████████                                                   | 10/20 [00:03<00:03,  3.16it/s, loss=0.0561]"
     ]
    },
    {
     "name": "stdout",
     "output_type": "stream",
     "text": [
      "Before compressing images: torch.Size([64, 3, 128, 128])\n"
     ]
    },
    {
     "name": "stderr",
     "output_type": "stream",
     "text": [
      "Epoch 14/30:  55%|████████████████████████████████████████████████████████                                              | 11/20 [00:03<00:02,  3.17it/s, loss=0.0491]"
     ]
    },
    {
     "name": "stdout",
     "output_type": "stream",
     "text": [
      "Before compressing images: torch.Size([64, 3, 128, 128])\n"
     ]
    },
    {
     "name": "stderr",
     "output_type": "stream",
     "text": [
      "Epoch 14/30:  60%|█████████████████████████████████████████████████████████████▏                                        | 12/20 [00:03<00:02,  3.17it/s, loss=0.0439]"
     ]
    },
    {
     "name": "stdout",
     "output_type": "stream",
     "text": [
      "Before compressing images: torch.Size([64, 3, 128, 128])\n"
     ]
    },
    {
     "name": "stderr",
     "output_type": "stream",
     "text": [
      "Epoch 14/30:  65%|██████████████████████████████████████████████████████████████████▎                                   | 13/20 [00:04<00:02,  3.17it/s, loss=0.0775]"
     ]
    },
    {
     "name": "stdout",
     "output_type": "stream",
     "text": [
      "Before compressing images: torch.Size([64, 3, 128, 128])\n"
     ]
    },
    {
     "name": "stderr",
     "output_type": "stream",
     "text": [
      "Epoch 14/30:  70%|███████████████████████████████████████████████████████████████████████▍                              | 14/20 [00:04<00:01,  3.17it/s, loss=0.0559]"
     ]
    },
    {
     "name": "stdout",
     "output_type": "stream",
     "text": [
      "Before compressing images: torch.Size([64, 3, 128, 128])\n"
     ]
    },
    {
     "name": "stderr",
     "output_type": "stream",
     "text": [
      "Epoch 14/30:  75%|██████████████████████████████████████████████████████████████████████████████                          | 15/20 [00:04<00:01,  3.17it/s, loss=0.06]"
     ]
    },
    {
     "name": "stdout",
     "output_type": "stream",
     "text": [
      "Before compressing images: torch.Size([64, 3, 128, 128])\n"
     ]
    },
    {
     "name": "stderr",
     "output_type": "stream",
     "text": [
      "Epoch 14/30:  80%|█████████████████████████████████████████████████████████████████████████████████▌                    | 16/20 [00:05<00:01,  3.15it/s, loss=0.0517]"
     ]
    },
    {
     "name": "stdout",
     "output_type": "stream",
     "text": [
      "Before compressing images: torch.Size([64, 3, 128, 128])\n"
     ]
    },
    {
     "name": "stderr",
     "output_type": "stream",
     "text": [
      "Epoch 14/30:  85%|███████████████████████████████████████████████████████████████████████████████████████▌               | 17/20 [00:05<00:00,  3.15it/s, loss=0.048]"
     ]
    },
    {
     "name": "stdout",
     "output_type": "stream",
     "text": [
      "Before compressing images: torch.Size([64, 3, 128, 128])\n"
     ]
    },
    {
     "name": "stderr",
     "output_type": "stream",
     "text": [
      "Epoch 14/30:  90%|███████████████████████████████████████████████████████████████████████████████████████████▊          | 18/20 [00:05<00:00,  3.15it/s, loss=0.0545]"
     ]
    },
    {
     "name": "stdout",
     "output_type": "stream",
     "text": [
      "Before compressing images: torch.Size([64, 3, 128, 128])\n"
     ]
    },
    {
     "name": "stderr",
     "output_type": "stream",
     "text": [
      "Epoch 14/30:  95%|████████████████████████████████████████████████████████████████████████████████████████████████▉     | 19/20 [00:06<00:00,  3.16it/s, loss=0.0509]"
     ]
    },
    {
     "name": "stdout",
     "output_type": "stream",
     "text": [
      "Before compressing images: torch.Size([57, 3, 128, 128])\n"
     ]
    },
    {
     "name": "stderr",
     "output_type": "stream",
     "text": [
      "Epoch 14/30: 100%|██████████████████████████████████████████████████████████████████████████████████████████████████████| 20/20 [00:06<00:00,  3.17it/s, loss=0.0581]\n"
     ]
    },
    {
     "name": "stdout",
     "output_type": "stream",
     "text": [
      "Before compressing images: torch.Size([64, 3, 128, 128])\n",
      "Before compressing images: torch.Size([64, 3, 128, 128])\n",
      "Before compressing images: torch.Size([64, 3, 128, 128])\n",
      "Before compressing images: torch.Size([64, 3, 128, 128])\n",
      "Before compressing images: torch.Size([63, 3, 128, 128])\n",
      "Epoch [14/30] Train Loss: 0.0554 Val Loss: 0.052359722554683685\n"
     ]
    },
    {
     "name": "stderr",
     "output_type": "stream",
     "text": [
      "Epoch 15/30:   0%|                                                                                                                            | 0/20 [00:00<?, ?it/s]"
     ]
    },
    {
     "name": "stdout",
     "output_type": "stream",
     "text": [
      "Before compressing images: torch.Size([64, 3, 128, 128])\n"
     ]
    },
    {
     "name": "stderr",
     "output_type": "stream",
     "text": [
      "Epoch 15/30:   5%|█████▏                                                                                                 | 1/20 [00:00<00:05,  3.18it/s, loss=0.0484]"
     ]
    },
    {
     "name": "stdout",
     "output_type": "stream",
     "text": [
      "Before compressing images: torch.Size([64, 3, 128, 128])\n"
     ]
    },
    {
     "name": "stderr",
     "output_type": "stream",
     "text": [
      "Epoch 15/30:  10%|██████████▎                                                                                            | 2/20 [00:00<00:05,  3.18it/s, loss=0.0369]"
     ]
    },
    {
     "name": "stdout",
     "output_type": "stream",
     "text": [
      "Before compressing images: torch.Size([64, 3, 128, 128])\n"
     ]
    },
    {
     "name": "stderr",
     "output_type": "stream",
     "text": [
      "Epoch 15/30:  15%|███████████████▌                                                                                        | 3/20 [00:00<00:05,  3.16it/s, loss=0.067]"
     ]
    },
    {
     "name": "stdout",
     "output_type": "stream",
     "text": [
      "Before compressing images: torch.Size([64, 3, 128, 128])\n"
     ]
    },
    {
     "name": "stderr",
     "output_type": "stream",
     "text": [
      "Epoch 15/30:  20%|████████████████████▌                                                                                  | 4/20 [00:01<00:05,  3.16it/s, loss=0.0562]"
     ]
    },
    {
     "name": "stdout",
     "output_type": "stream",
     "text": [
      "Before compressing images: torch.Size([64, 3, 128, 128])\n"
     ]
    },
    {
     "name": "stderr",
     "output_type": "stream",
     "text": [
      "Epoch 15/30:  25%|█████████████████████████▊                                                                             | 5/20 [00:01<00:04,  3.17it/s, loss=0.0435]"
     ]
    },
    {
     "name": "stdout",
     "output_type": "stream",
     "text": [
      "Before compressing images: torch.Size([64, 3, 128, 128])\n"
     ]
    },
    {
     "name": "stderr",
     "output_type": "stream",
     "text": [
      "Epoch 15/30:  30%|██████████████████████████████▉                                                                        | 6/20 [00:01<00:04,  3.17it/s, loss=0.0389]"
     ]
    },
    {
     "name": "stdout",
     "output_type": "stream",
     "text": [
      "Before compressing images: torch.Size([64, 3, 128, 128])\n"
     ]
    },
    {
     "name": "stderr",
     "output_type": "stream",
     "text": [
      "Epoch 15/30:  35%|████████████████████████████████████                                                                   | 7/20 [00:02<00:04,  3.17it/s, loss=0.0606]"
     ]
    },
    {
     "name": "stdout",
     "output_type": "stream",
     "text": [
      "Before compressing images: torch.Size([64, 3, 128, 128])\n"
     ]
    },
    {
     "name": "stderr",
     "output_type": "stream",
     "text": [
      "Epoch 15/30:  40%|█████████████████████████████████████████▏                                                             | 8/20 [00:02<00:03,  3.17it/s, loss=0.0493]"
     ]
    },
    {
     "name": "stdout",
     "output_type": "stream",
     "text": [
      "Before compressing images: torch.Size([64, 3, 128, 128])\n"
     ]
    },
    {
     "name": "stderr",
     "output_type": "stream",
     "text": [
      "Epoch 15/30:  45%|██████████████████████████████████████████████▎                                                        | 9/20 [00:02<00:03,  3.17it/s, loss=0.0586]"
     ]
    },
    {
     "name": "stdout",
     "output_type": "stream",
     "text": [
      "Before compressing images: torch.Size([64, 3, 128, 128])\n"
     ]
    },
    {
     "name": "stderr",
     "output_type": "stream",
     "text": [
      "Epoch 15/30:  50%|███████████████████████████████████████████████████▌                                                   | 10/20 [00:03<00:03,  3.17it/s, loss=0.055]"
     ]
    },
    {
     "name": "stdout",
     "output_type": "stream",
     "text": [
      "Before compressing images: torch.Size([64, 3, 128, 128])\n"
     ]
    },
    {
     "name": "stderr",
     "output_type": "stream",
     "text": [
      "Epoch 15/30:  55%|████████████████████████████████████████████████████████▋                                              | 11/20 [00:03<00:02,  3.17it/s, loss=0.066]"
     ]
    },
    {
     "name": "stdout",
     "output_type": "stream",
     "text": [
      "Before compressing images: torch.Size([64, 3, 128, 128])\n"
     ]
    },
    {
     "name": "stderr",
     "output_type": "stream",
     "text": [
      "Epoch 15/30:  60%|█████████████████████████████████████████████████████████████▏                                        | 12/20 [00:03<00:02,  3.17it/s, loss=0.0625]"
     ]
    },
    {
     "name": "stdout",
     "output_type": "stream",
     "text": [
      "Before compressing images: torch.Size([64, 3, 128, 128])\n"
     ]
    },
    {
     "name": "stderr",
     "output_type": "stream",
     "text": [
      "Epoch 15/30:  65%|██████████████████████████████████████████████████████████████████▎                                   | 13/20 [00:04<00:02,  3.17it/s, loss=0.0519]"
     ]
    },
    {
     "name": "stdout",
     "output_type": "stream",
     "text": [
      "Before compressing images: torch.Size([64, 3, 128, 128])\n"
     ]
    },
    {
     "name": "stderr",
     "output_type": "stream",
     "text": [
      "Epoch 15/30:  70%|███████████████████████████████████████████████████████████████████████▍                              | 14/20 [00:04<00:01,  3.17it/s, loss=0.0467]"
     ]
    },
    {
     "name": "stdout",
     "output_type": "stream",
     "text": [
      "Before compressing images: torch.Size([64, 3, 128, 128])\n"
     ]
    },
    {
     "name": "stderr",
     "output_type": "stream",
     "text": [
      "Epoch 15/30:  75%|████████████████████████████████████████████████████████████████████████████▌                         | 15/20 [00:04<00:01,  3.17it/s, loss=0.0607]"
     ]
    },
    {
     "name": "stdout",
     "output_type": "stream",
     "text": [
      "Before compressing images: torch.Size([64, 3, 128, 128])\n"
     ]
    },
    {
     "name": "stderr",
     "output_type": "stream",
     "text": [
      "Epoch 15/30:  80%|█████████████████████████████████████████████████████████████████████████████████▌                    | 16/20 [00:05<00:01,  3.17it/s, loss=0.0636]"
     ]
    },
    {
     "name": "stdout",
     "output_type": "stream",
     "text": [
      "Before compressing images: torch.Size([64, 3, 128, 128])\n"
     ]
    },
    {
     "name": "stderr",
     "output_type": "stream",
     "text": [
      "Epoch 15/30:  85%|████████████████████████████████████████████████████████████████████████████████████████▍               | 17/20 [00:05<00:00,  3.17it/s, loss=0.05]"
     ]
    },
    {
     "name": "stdout",
     "output_type": "stream",
     "text": [
      "Before compressing images: torch.Size([64, 3, 128, 128])\n"
     ]
    },
    {
     "name": "stderr",
     "output_type": "stream",
     "text": [
      "Epoch 15/30:  90%|███████████████████████████████████████████████████████████████████████████████████████████▊          | 18/20 [00:05<00:00,  3.17it/s, loss=0.0643]"
     ]
    },
    {
     "name": "stdout",
     "output_type": "stream",
     "text": [
      "Before compressing images: torch.Size([64, 3, 128, 128])\n"
     ]
    },
    {
     "name": "stderr",
     "output_type": "stream",
     "text": [
      "Epoch 15/30:  95%|████████████████████████████████████████████████████████████████████████████████████████████████▉     | 19/20 [00:05<00:00,  3.17it/s, loss=0.0472]"
     ]
    },
    {
     "name": "stdout",
     "output_type": "stream",
     "text": [
      "Before compressing images: torch.Size([57, 3, 128, 128])\n"
     ]
    },
    {
     "name": "stderr",
     "output_type": "stream",
     "text": [
      "Epoch 15/30: 100%|██████████████████████████████████████████████████████████████████████████████████████████████████████| 20/20 [00:06<00:00,  3.18it/s, loss=0.0739]\n"
     ]
    },
    {
     "name": "stdout",
     "output_type": "stream",
     "text": [
      "Before compressing images: torch.Size([64, 3, 128, 128])\n",
      "Before compressing images: torch.Size([64, 3, 128, 128])\n",
      "Before compressing images: torch.Size([64, 3, 128, 128])\n",
      "Before compressing images: torch.Size([64, 3, 128, 128])\n",
      "Before compressing images: torch.Size([63, 3, 128, 128])\n",
      "Epoch [15/30] Train Loss: 0.0551 Val Loss: 0.06327635869383812\n"
     ]
    },
    {
     "name": "stderr",
     "output_type": "stream",
     "text": [
      "Epoch 16/30:   0%|                                                                                                                            | 0/20 [00:00<?, ?it/s]"
     ]
    },
    {
     "name": "stdout",
     "output_type": "stream",
     "text": [
      "Before compressing images: torch.Size([64, 3, 128, 128])\n"
     ]
    },
    {
     "name": "stderr",
     "output_type": "stream",
     "text": [
      "Epoch 16/30:   5%|█████▏                                                                                                 | 1/20 [00:00<00:06,  3.16it/s, loss=0.0581]"
     ]
    },
    {
     "name": "stdout",
     "output_type": "stream",
     "text": [
      "Before compressing images: torch.Size([64, 3, 128, 128])\n"
     ]
    },
    {
     "name": "stderr",
     "output_type": "stream",
     "text": [
      "Epoch 16/30:  10%|██████████▎                                                                                            | 2/20 [00:00<00:05,  3.17it/s, loss=0.0592]"
     ]
    },
    {
     "name": "stdout",
     "output_type": "stream",
     "text": [
      "Before compressing images: torch.Size([64, 3, 128, 128])\n"
     ]
    },
    {
     "name": "stderr",
     "output_type": "stream",
     "text": [
      "Epoch 16/30:  15%|███████████████▍                                                                                       | 3/20 [00:00<00:05,  3.17it/s, loss=0.0736]"
     ]
    },
    {
     "name": "stdout",
     "output_type": "stream",
     "text": [
      "Before compressing images: torch.Size([64, 3, 128, 128])\n"
     ]
    },
    {
     "name": "stderr",
     "output_type": "stream",
     "text": [
      "Epoch 16/30:  20%|████████████████████▊                                                                                   | 4/20 [00:01<00:05,  3.16it/s, loss=0.042]"
     ]
    },
    {
     "name": "stdout",
     "output_type": "stream",
     "text": [
      "Before compressing images: torch.Size([64, 3, 128, 128])\n"
     ]
    },
    {
     "name": "stderr",
     "output_type": "stream",
     "text": [
      "Epoch 16/30:  25%|█████████████████████████▊                                                                             | 5/20 [00:01<00:04,  3.16it/s, loss=0.0493]"
     ]
    },
    {
     "name": "stdout",
     "output_type": "stream",
     "text": [
      "Before compressing images: torch.Size([64, 3, 128, 128])\n"
     ]
    },
    {
     "name": "stderr",
     "output_type": "stream",
     "text": [
      "Epoch 16/30:  30%|██████████████████████████████▉                                                                        | 6/20 [00:01<00:04,  3.17it/s, loss=0.0721]"
     ]
    },
    {
     "name": "stdout",
     "output_type": "stream",
     "text": [
      "Before compressing images: torch.Size([64, 3, 128, 128])\n"
     ]
    },
    {
     "name": "stderr",
     "output_type": "stream",
     "text": [
      "Epoch 16/30:  35%|████████████████████████████████████                                                                   | 7/20 [00:02<00:04,  3.16it/s, loss=0.0481]"
     ]
    },
    {
     "name": "stdout",
     "output_type": "stream",
     "text": [
      "Before compressing images: torch.Size([64, 3, 128, 128])\n"
     ]
    },
    {
     "name": "stderr",
     "output_type": "stream",
     "text": [
      "Epoch 16/30:  40%|█████████████████████████████████████████▏                                                             | 8/20 [00:02<00:03,  3.17it/s, loss=0.0459]"
     ]
    },
    {
     "name": "stdout",
     "output_type": "stream",
     "text": [
      "Before compressing images: torch.Size([64, 3, 128, 128])\n"
     ]
    },
    {
     "name": "stderr",
     "output_type": "stream",
     "text": [
      "Epoch 16/30:  45%|██████████████████████████████████████████████▎                                                        | 9/20 [00:02<00:03,  3.16it/s, loss=0.0547]"
     ]
    },
    {
     "name": "stdout",
     "output_type": "stream",
     "text": [
      "Before compressing images: torch.Size([64, 3, 128, 128])\n"
     ]
    },
    {
     "name": "stderr",
     "output_type": "stream",
     "text": [
      "Epoch 16/30:  50%|███████████████████████████████████████████████████                                                   | 10/20 [00:03<00:03,  3.15it/s, loss=0.0563]"
     ]
    },
    {
     "name": "stdout",
     "output_type": "stream",
     "text": [
      "Before compressing images: torch.Size([64, 3, 128, 128])\n"
     ]
    },
    {
     "name": "stderr",
     "output_type": "stream",
     "text": [
      "Epoch 16/30:  55%|████████████████████████████████████████████████████████                                              | 11/20 [00:03<00:02,  3.14it/s, loss=0.0515]"
     ]
    },
    {
     "name": "stdout",
     "output_type": "stream",
     "text": [
      "Before compressing images: torch.Size([64, 3, 128, 128])\n"
     ]
    },
    {
     "name": "stderr",
     "output_type": "stream",
     "text": [
      "Epoch 16/30:  60%|█████████████████████████████████████████████████████████████▏                                        | 12/20 [00:03<00:02,  3.15it/s, loss=0.0514]"
     ]
    },
    {
     "name": "stdout",
     "output_type": "stream",
     "text": [
      "Before compressing images: torch.Size([64, 3, 128, 128])\n"
     ]
    },
    {
     "name": "stderr",
     "output_type": "stream",
     "text": [
      "Epoch 16/30:  65%|██████████████████████████████████████████████████████████████████▎                                   | 13/20 [00:04<00:02,  3.15it/s, loss=0.0569]"
     ]
    },
    {
     "name": "stdout",
     "output_type": "stream",
     "text": [
      "Before compressing images: torch.Size([64, 3, 128, 128])\n"
     ]
    },
    {
     "name": "stderr",
     "output_type": "stream",
     "text": [
      "Epoch 16/30:  70%|███████████████████████████████████████████████████████████████████████▍                              | 14/20 [00:04<00:01,  3.15it/s, loss=0.0481]"
     ]
    },
    {
     "name": "stdout",
     "output_type": "stream",
     "text": [
      "Before compressing images: torch.Size([64, 3, 128, 128])\n"
     ]
    },
    {
     "name": "stderr",
     "output_type": "stream",
     "text": [
      "Epoch 16/30:  75%|████████████████████████████████████████████████████████████████████████████▌                         | 15/20 [00:04<00:01,  3.15it/s, loss=0.0464]"
     ]
    },
    {
     "name": "stdout",
     "output_type": "stream",
     "text": [
      "Before compressing images: torch.Size([64, 3, 128, 128])\n"
     ]
    },
    {
     "name": "stderr",
     "output_type": "stream",
     "text": [
      "Epoch 16/30:  80%|█████████████████████████████████████████████████████████████████████████████████▌                    | 16/20 [00:05<00:01,  3.14it/s, loss=0.0555]"
     ]
    },
    {
     "name": "stdout",
     "output_type": "stream",
     "text": [
      "Before compressing images: torch.Size([64, 3, 128, 128])\n"
     ]
    },
    {
     "name": "stderr",
     "output_type": "stream",
     "text": [
      "Epoch 16/30:  85%|██████████████████████████████████████████████████████████████████████████████████████▋               | 17/20 [00:05<00:00,  3.15it/s, loss=0.0418]"
     ]
    },
    {
     "name": "stdout",
     "output_type": "stream",
     "text": [
      "Before compressing images: torch.Size([64, 3, 128, 128])\n"
     ]
    },
    {
     "name": "stderr",
     "output_type": "stream",
     "text": [
      "Epoch 16/30:  90%|███████████████████████████████████████████████████████████████████████████████████████████▊          | 18/20 [00:05<00:00,  3.16it/s, loss=0.0518]"
     ]
    },
    {
     "name": "stdout",
     "output_type": "stream",
     "text": [
      "Before compressing images: torch.Size([64, 3, 128, 128])\n"
     ]
    },
    {
     "name": "stderr",
     "output_type": "stream",
     "text": [
      "Epoch 16/30:  95%|████████████████████████████████████████████████████████████████████████████████████████████████▉     | 19/20 [00:06<00:00,  3.16it/s, loss=0.0624]"
     ]
    },
    {
     "name": "stdout",
     "output_type": "stream",
     "text": [
      "Before compressing images: torch.Size([57, 3, 128, 128])\n"
     ]
    },
    {
     "name": "stderr",
     "output_type": "stream",
     "text": [
      "Epoch 16/30: 100%|██████████████████████████████████████████████████████████████████████████████████████████████████████| 20/20 [00:06<00:00,  3.16it/s, loss=0.0673]\n"
     ]
    },
    {
     "name": "stdout",
     "output_type": "stream",
     "text": [
      "Before compressing images: torch.Size([64, 3, 128, 128])\n",
      "Before compressing images: torch.Size([64, 3, 128, 128])\n",
      "Before compressing images: torch.Size([64, 3, 128, 128])\n",
      "Before compressing images: torch.Size([64, 3, 128, 128])\n",
      "Before compressing images: torch.Size([63, 3, 128, 128])\n",
      "Epoch [16/30] Train Loss: 0.0546 Val Loss: 0.048985762894153594\n"
     ]
    },
    {
     "name": "stderr",
     "output_type": "stream",
     "text": [
      "Epoch 17/30:   0%|                                                                                                                            | 0/20 [00:00<?, ?it/s]"
     ]
    },
    {
     "name": "stdout",
     "output_type": "stream",
     "text": [
      "Before compressing images: torch.Size([64, 3, 128, 128])\n"
     ]
    },
    {
     "name": "stderr",
     "output_type": "stream",
     "text": [
      "Epoch 17/30:   5%|█████▏                                                                                                 | 1/20 [00:00<00:06,  3.13it/s, loss=0.0482]"
     ]
    },
    {
     "name": "stdout",
     "output_type": "stream",
     "text": [
      "Before compressing images: torch.Size([64, 3, 128, 128])\n"
     ]
    },
    {
     "name": "stderr",
     "output_type": "stream",
     "text": [
      "Epoch 17/30:  10%|██████████▎                                                                                            | 2/20 [00:00<00:05,  3.16it/s, loss=0.0589]"
     ]
    },
    {
     "name": "stdout",
     "output_type": "stream",
     "text": [
      "Before compressing images: torch.Size([64, 3, 128, 128])\n"
     ]
    },
    {
     "name": "stderr",
     "output_type": "stream",
     "text": [
      "Epoch 17/30:  15%|███████████████▍                                                                                       | 3/20 [00:00<00:05,  3.16it/s, loss=0.0492]"
     ]
    },
    {
     "name": "stdout",
     "output_type": "stream",
     "text": [
      "Before compressing images: torch.Size([64, 3, 128, 128])\n"
     ]
    },
    {
     "name": "stderr",
     "output_type": "stream",
     "text": [
      "Epoch 17/30:  20%|████████████████████▊                                                                                   | 4/20 [00:01<00:05,  3.17it/s, loss=0.054]"
     ]
    },
    {
     "name": "stdout",
     "output_type": "stream",
     "text": [
      "Before compressing images: torch.Size([64, 3, 128, 128])\n"
     ]
    },
    {
     "name": "stderr",
     "output_type": "stream",
     "text": [
      "Epoch 17/30:  25%|█████████████████████████▊                                                                             | 5/20 [00:01<00:04,  3.17it/s, loss=0.0751]"
     ]
    },
    {
     "name": "stdout",
     "output_type": "stream",
     "text": [
      "Before compressing images: torch.Size([64, 3, 128, 128])\n"
     ]
    },
    {
     "name": "stderr",
     "output_type": "stream",
     "text": [
      "Epoch 17/30:  30%|██████████████████████████████▉                                                                        | 6/20 [00:01<00:04,  3.17it/s, loss=0.0655]"
     ]
    },
    {
     "name": "stdout",
     "output_type": "stream",
     "text": [
      "Before compressing images: torch.Size([64, 3, 128, 128])\n"
     ]
    },
    {
     "name": "stderr",
     "output_type": "stream",
     "text": [
      "Epoch 17/30:  35%|████████████████████████████████████                                                                   | 7/20 [00:02<00:04,  3.17it/s, loss=0.0407]"
     ]
    },
    {
     "name": "stdout",
     "output_type": "stream",
     "text": [
      "Before compressing images: torch.Size([64, 3, 128, 128])\n"
     ]
    },
    {
     "name": "stderr",
     "output_type": "stream",
     "text": [
      "Epoch 17/30:  40%|█████████████████████████████████████████▏                                                             | 8/20 [00:02<00:03,  3.17it/s, loss=0.0429]"
     ]
    },
    {
     "name": "stdout",
     "output_type": "stream",
     "text": [
      "Before compressing images: torch.Size([64, 3, 128, 128])\n"
     ]
    },
    {
     "name": "stderr",
     "output_type": "stream",
     "text": [
      "Epoch 17/30:  45%|██████████████████████████████████████████████▊                                                         | 9/20 [00:02<00:03,  3.17it/s, loss=0.035]"
     ]
    },
    {
     "name": "stdout",
     "output_type": "stream",
     "text": [
      "Before compressing images: torch.Size([64, 3, 128, 128])\n"
     ]
    },
    {
     "name": "stderr",
     "output_type": "stream",
     "text": [
      "Epoch 17/30:  50%|███████████████████████████████████████████████████                                                   | 10/20 [00:03<00:03,  3.17it/s, loss=0.0382]"
     ]
    },
    {
     "name": "stdout",
     "output_type": "stream",
     "text": [
      "Before compressing images: torch.Size([64, 3, 128, 128])\n"
     ]
    },
    {
     "name": "stderr",
     "output_type": "stream",
     "text": [
      "Epoch 17/30:  55%|████████████████████████████████████████████████████████                                              | 11/20 [00:03<00:02,  3.17it/s, loss=0.0444]"
     ]
    },
    {
     "name": "stdout",
     "output_type": "stream",
     "text": [
      "Before compressing images: torch.Size([64, 3, 128, 128])\n"
     ]
    },
    {
     "name": "stderr",
     "output_type": "stream",
     "text": [
      "Epoch 17/30:  60%|█████████████████████████████████████████████████████████████▏                                        | 12/20 [00:03<00:02,  3.17it/s, loss=0.0469]"
     ]
    },
    {
     "name": "stdout",
     "output_type": "stream",
     "text": [
      "Before compressing images: torch.Size([64, 3, 128, 128])\n"
     ]
    },
    {
     "name": "stderr",
     "output_type": "stream",
     "text": [
      "Epoch 17/30:  65%|██████████████████████████████████████████████████████████████████▎                                   | 13/20 [00:04<00:02,  3.17it/s, loss=0.0447]"
     ]
    },
    {
     "name": "stdout",
     "output_type": "stream",
     "text": [
      "Before compressing images: torch.Size([64, 3, 128, 128])\n"
     ]
    },
    {
     "name": "stderr",
     "output_type": "stream",
     "text": [
      "Epoch 17/30:  70%|███████████████████████████████████████████████████████████████████████▍                              | 14/20 [00:04<00:01,  3.17it/s, loss=0.0479]"
     ]
    },
    {
     "name": "stdout",
     "output_type": "stream",
     "text": [
      "Before compressing images: torch.Size([64, 3, 128, 128])\n"
     ]
    },
    {
     "name": "stderr",
     "output_type": "stream",
     "text": [
      "Epoch 17/30:  75%|████████████████████████████████████████████████████████████████████████████▌                         | 15/20 [00:04<00:01,  3.17it/s, loss=0.0402]"
     ]
    },
    {
     "name": "stdout",
     "output_type": "stream",
     "text": [
      "Before compressing images: torch.Size([64, 3, 128, 128])\n"
     ]
    },
    {
     "name": "stderr",
     "output_type": "stream",
     "text": [
      "Epoch 17/30:  80%|█████████████████████████████████████████████████████████████████████████████████▌                    | 16/20 [00:05<00:01,  3.17it/s, loss=0.0446]"
     ]
    },
    {
     "name": "stdout",
     "output_type": "stream",
     "text": [
      "Before compressing images: torch.Size([64, 3, 128, 128])\n"
     ]
    },
    {
     "name": "stderr",
     "output_type": "stream",
     "text": [
      "Epoch 17/30:  85%|██████████████████████████████████████████████████████████████████████████████████████▋               | 17/20 [00:05<00:00,  3.17it/s, loss=0.0577]"
     ]
    },
    {
     "name": "stdout",
     "output_type": "stream",
     "text": [
      "Before compressing images: torch.Size([64, 3, 128, 128])\n"
     ]
    },
    {
     "name": "stderr",
     "output_type": "stream",
     "text": [
      "Epoch 17/30:  90%|███████████████████████████████████████████████████████████████████████████████████████████▊          | 18/20 [00:05<00:00,  3.17it/s, loss=0.0386]"
     ]
    },
    {
     "name": "stdout",
     "output_type": "stream",
     "text": [
      "Before compressing images: torch.Size([64, 3, 128, 128])\n"
     ]
    },
    {
     "name": "stderr",
     "output_type": "stream",
     "text": [
      "Epoch 17/30:  95%|████████████████████████████████████████████████████████████████████████████████████████████████▉     | 19/20 [00:05<00:00,  3.17it/s, loss=0.0558]"
     ]
    },
    {
     "name": "stdout",
     "output_type": "stream",
     "text": [
      "Before compressing images: torch.Size([57, 3, 128, 128])\n"
     ]
    },
    {
     "name": "stderr",
     "output_type": "stream",
     "text": [
      "Epoch 17/30: 100%|██████████████████████████████████████████████████████████████████████████████████████████████████████| 20/20 [00:06<00:00,  3.17it/s, loss=0.0363]\n"
     ]
    },
    {
     "name": "stdout",
     "output_type": "stream",
     "text": [
      "Before compressing images: torch.Size([64, 3, 128, 128])\n",
      "Before compressing images: torch.Size([64, 3, 128, 128])\n",
      "Before compressing images: torch.Size([64, 3, 128, 128])\n",
      "Before compressing images: torch.Size([64, 3, 128, 128])\n",
      "Before compressing images: torch.Size([63, 3, 128, 128])\n",
      "Epoch [17/30] Train Loss: 0.0482 Val Loss: 0.05480878800153732\n"
     ]
    },
    {
     "name": "stderr",
     "output_type": "stream",
     "text": [
      "Epoch 18/30:   0%|                                                                                                                            | 0/20 [00:00<?, ?it/s]"
     ]
    },
    {
     "name": "stdout",
     "output_type": "stream",
     "text": [
      "Before compressing images: torch.Size([64, 3, 128, 128])\n"
     ]
    },
    {
     "name": "stderr",
     "output_type": "stream",
     "text": [
      "Epoch 18/30:   5%|█████▏                                                                                                 | 1/20 [00:00<00:05,  3.19it/s, loss=0.0553]"
     ]
    },
    {
     "name": "stdout",
     "output_type": "stream",
     "text": [
      "Before compressing images: torch.Size([64, 3, 128, 128])\n"
     ]
    },
    {
     "name": "stderr",
     "output_type": "stream",
     "text": [
      "Epoch 18/30:  10%|██████████▍                                                                                             | 2/20 [00:00<00:05,  3.18it/s, loss=0.037]"
     ]
    },
    {
     "name": "stdout",
     "output_type": "stream",
     "text": [
      "Before compressing images: torch.Size([64, 3, 128, 128])\n"
     ]
    },
    {
     "name": "stderr",
     "output_type": "stream",
     "text": [
      "Epoch 18/30:  15%|███████████████▍                                                                                       | 3/20 [00:00<00:05,  3.18it/s, loss=0.0484]"
     ]
    },
    {
     "name": "stdout",
     "output_type": "stream",
     "text": [
      "Before compressing images: torch.Size([64, 3, 128, 128])\n"
     ]
    },
    {
     "name": "stderr",
     "output_type": "stream",
     "text": [
      "Epoch 18/30:  20%|████████████████████▌                                                                                  | 4/20 [00:01<00:05,  3.16it/s, loss=0.0609]"
     ]
    },
    {
     "name": "stdout",
     "output_type": "stream",
     "text": [
      "Before compressing images: torch.Size([64, 3, 128, 128])\n"
     ]
    },
    {
     "name": "stderr",
     "output_type": "stream",
     "text": [
      "Epoch 18/30:  25%|█████████████████████████▊                                                                             | 5/20 [00:01<00:04,  3.16it/s, loss=0.0619]"
     ]
    },
    {
     "name": "stdout",
     "output_type": "stream",
     "text": [
      "Before compressing images: torch.Size([64, 3, 128, 128])\n"
     ]
    },
    {
     "name": "stderr",
     "output_type": "stream",
     "text": [
      "Epoch 18/30:  30%|██████████████████████████████▉                                                                        | 6/20 [00:01<00:04,  3.15it/s, loss=0.0503]"
     ]
    },
    {
     "name": "stdout",
     "output_type": "stream",
     "text": [
      "Before compressing images: torch.Size([64, 3, 128, 128])\n"
     ]
    },
    {
     "name": "stderr",
     "output_type": "stream",
     "text": [
      "Epoch 18/30:  35%|████████████████████████████████████                                                                   | 7/20 [00:02<00:04,  3.16it/s, loss=0.0443]"
     ]
    },
    {
     "name": "stdout",
     "output_type": "stream",
     "text": [
      "Before compressing images: torch.Size([64, 3, 128, 128])\n"
     ]
    },
    {
     "name": "stderr",
     "output_type": "stream",
     "text": [
      "Epoch 18/30:  40%|█████████████████████████████████████████▏                                                             | 8/20 [00:02<00:03,  3.16it/s, loss=0.0581]"
     ]
    },
    {
     "name": "stdout",
     "output_type": "stream",
     "text": [
      "Before compressing images: torch.Size([64, 3, 128, 128])\n"
     ]
    },
    {
     "name": "stderr",
     "output_type": "stream",
     "text": [
      "Epoch 18/30:  45%|██████████████████████████████████████████████▊                                                         | 9/20 [00:02<00:03,  3.16it/s, loss=0.073]"
     ]
    },
    {
     "name": "stdout",
     "output_type": "stream",
     "text": [
      "Before compressing images: torch.Size([64, 3, 128, 128])\n"
     ]
    },
    {
     "name": "stderr",
     "output_type": "stream",
     "text": [
      "Epoch 18/30:  50%|███████████████████████████████████████████████████                                                   | 10/20 [00:03<00:03,  3.16it/s, loss=0.0584]"
     ]
    },
    {
     "name": "stdout",
     "output_type": "stream",
     "text": [
      "Before compressing images: torch.Size([64, 3, 128, 128])\n"
     ]
    },
    {
     "name": "stderr",
     "output_type": "stream",
     "text": [
      "Epoch 18/30:  55%|████████████████████████████████████████████████████████                                              | 11/20 [00:03<00:02,  3.15it/s, loss=0.0523]"
     ]
    },
    {
     "name": "stdout",
     "output_type": "stream",
     "text": [
      "Before compressing images: torch.Size([64, 3, 128, 128])\n"
     ]
    },
    {
     "name": "stderr",
     "output_type": "stream",
     "text": [
      "Epoch 18/30:  60%|█████████████████████████████████████████████████████████████▏                                        | 12/20 [00:03<00:02,  3.12it/s, loss=0.0519]"
     ]
    },
    {
     "name": "stdout",
     "output_type": "stream",
     "text": [
      "Before compressing images: torch.Size([64, 3, 128, 128])\n"
     ]
    },
    {
     "name": "stderr",
     "output_type": "stream",
     "text": [
      "Epoch 18/30:  65%|██████████████████████████████████████████████████████████████████▎                                   | 13/20 [00:04<00:02,  3.12it/s, loss=0.0483]"
     ]
    },
    {
     "name": "stdout",
     "output_type": "stream",
     "text": [
      "Before compressing images: torch.Size([64, 3, 128, 128])\n"
     ]
    },
    {
     "name": "stderr",
     "output_type": "stream",
     "text": [
      "Epoch 18/30:  70%|███████████████████████████████████████████████████████████████████████▍                              | 14/20 [00:04<00:01,  3.12it/s, loss=0.0515]"
     ]
    },
    {
     "name": "stdout",
     "output_type": "stream",
     "text": [
      "Before compressing images: torch.Size([64, 3, 128, 128])\n"
     ]
    },
    {
     "name": "stderr",
     "output_type": "stream",
     "text": [
      "Epoch 18/30:  75%|████████████████████████████████████████████████████████████████████████████▌                         | 15/20 [00:04<00:01,  3.13it/s, loss=0.0591]"
     ]
    },
    {
     "name": "stdout",
     "output_type": "stream",
     "text": [
      "Before compressing images: torch.Size([64, 3, 128, 128])\n"
     ]
    },
    {
     "name": "stderr",
     "output_type": "stream",
     "text": [
      "Epoch 18/30:  80%|█████████████████████████████████████████████████████████████████████████████████▌                    | 16/20 [00:05<00:01,  3.14it/s, loss=0.0546]"
     ]
    },
    {
     "name": "stdout",
     "output_type": "stream",
     "text": [
      "Before compressing images: torch.Size([64, 3, 128, 128])\n"
     ]
    },
    {
     "name": "stderr",
     "output_type": "stream",
     "text": [
      "Epoch 18/30:  85%|██████████████████████████████████████████████████████████████████████████████████████▋               | 17/20 [00:05<00:00,  3.15it/s, loss=0.0584]"
     ]
    },
    {
     "name": "stdout",
     "output_type": "stream",
     "text": [
      "Before compressing images: torch.Size([64, 3, 128, 128])\n"
     ]
    },
    {
     "name": "stderr",
     "output_type": "stream",
     "text": [
      "Epoch 18/30:  90%|███████████████████████████████████████████████████████████████████████████████████████████▊          | 18/20 [00:05<00:00,  3.15it/s, loss=0.0381]"
     ]
    },
    {
     "name": "stdout",
     "output_type": "stream",
     "text": [
      "Before compressing images: torch.Size([64, 3, 128, 128])\n"
     ]
    },
    {
     "name": "stderr",
     "output_type": "stream",
     "text": [
      "Epoch 18/30:  95%|████████████████████████████████████████████████████████████████████████████████████████████████▉     | 19/20 [00:06<00:00,  3.16it/s, loss=0.0569]"
     ]
    },
    {
     "name": "stdout",
     "output_type": "stream",
     "text": [
      "Before compressing images: torch.Size([57, 3, 128, 128])\n"
     ]
    },
    {
     "name": "stderr",
     "output_type": "stream",
     "text": [
      "Epoch 18/30: 100%|██████████████████████████████████████████████████████████████████████████████████████████████████████| 20/20 [00:06<00:00,  3.16it/s, loss=0.0606]\n"
     ]
    },
    {
     "name": "stdout",
     "output_type": "stream",
     "text": [
      "Before compressing images: torch.Size([64, 3, 128, 128])\n",
      "Before compressing images: torch.Size([64, 3, 128, 128])\n",
      "Before compressing images: torch.Size([64, 3, 128, 128])\n",
      "Before compressing images: torch.Size([64, 3, 128, 128])\n",
      "Before compressing images: torch.Size([63, 3, 128, 128])\n",
      "Epoch [18/30] Train Loss: 0.0540 Val Loss: 0.04576309323310852\n"
     ]
    },
    {
     "name": "stderr",
     "output_type": "stream",
     "text": [
      "Epoch 19/30:   0%|                                                                                                                            | 0/20 [00:00<?, ?it/s]"
     ]
    },
    {
     "name": "stdout",
     "output_type": "stream",
     "text": [
      "Before compressing images: torch.Size([64, 3, 128, 128])\n"
     ]
    },
    {
     "name": "stderr",
     "output_type": "stream",
     "text": [
      "Epoch 19/30:   5%|█████▏                                                                                                 | 1/20 [00:00<00:05,  3.19it/s, loss=0.0514]"
     ]
    },
    {
     "name": "stdout",
     "output_type": "stream",
     "text": [
      "Before compressing images: torch.Size([64, 3, 128, 128])\n"
     ]
    },
    {
     "name": "stderr",
     "output_type": "stream",
     "text": [
      "Epoch 19/30:  10%|██████████▎                                                                                            | 2/20 [00:00<00:05,  3.18it/s, loss=0.0616]"
     ]
    },
    {
     "name": "stdout",
     "output_type": "stream",
     "text": [
      "Before compressing images: torch.Size([64, 3, 128, 128])\n"
     ]
    },
    {
     "name": "stderr",
     "output_type": "stream",
     "text": [
      "Epoch 19/30:  15%|███████████████▍                                                                                       | 3/20 [00:00<00:05,  3.18it/s, loss=0.0414]"
     ]
    },
    {
     "name": "stdout",
     "output_type": "stream",
     "text": [
      "Before compressing images: torch.Size([64, 3, 128, 128])\n"
     ]
    },
    {
     "name": "stderr",
     "output_type": "stream",
     "text": [
      "Epoch 19/30:  20%|████████████████████▌                                                                                  | 4/20 [00:01<00:05,  3.17it/s, loss=0.0401]"
     ]
    },
    {
     "name": "stdout",
     "output_type": "stream",
     "text": [
      "Before compressing images: torch.Size([64, 3, 128, 128])\n"
     ]
    },
    {
     "name": "stderr",
     "output_type": "stream",
     "text": [
      "Epoch 19/30:  25%|█████████████████████████▊                                                                             | 5/20 [00:01<00:04,  3.17it/s, loss=0.0618]"
     ]
    },
    {
     "name": "stdout",
     "output_type": "stream",
     "text": [
      "Before compressing images: torch.Size([64, 3, 128, 128])\n"
     ]
    },
    {
     "name": "stderr",
     "output_type": "stream",
     "text": [
      "Epoch 19/30:  30%|██████████████████████████████▉                                                                        | 6/20 [00:01<00:04,  3.17it/s, loss=0.0571]"
     ]
    },
    {
     "name": "stdout",
     "output_type": "stream",
     "text": [
      "Before compressing images: torch.Size([64, 3, 128, 128])\n"
     ]
    },
    {
     "name": "stderr",
     "output_type": "stream",
     "text": [
      "Epoch 19/30:  35%|████████████████████████████████████                                                                   | 7/20 [00:02<00:04,  3.17it/s, loss=0.0579]"
     ]
    },
    {
     "name": "stdout",
     "output_type": "stream",
     "text": [
      "Before compressing images: torch.Size([64, 3, 128, 128])\n"
     ]
    },
    {
     "name": "stderr",
     "output_type": "stream",
     "text": [
      "Epoch 19/30:  40%|█████████████████████████████████████████▏                                                             | 8/20 [00:02<00:03,  3.17it/s, loss=0.0852]"
     ]
    },
    {
     "name": "stdout",
     "output_type": "stream",
     "text": [
      "Before compressing images: torch.Size([64, 3, 128, 128])\n"
     ]
    },
    {
     "name": "stderr",
     "output_type": "stream",
     "text": [
      "Epoch 19/30:  45%|██████████████████████████████████████████████▊                                                         | 9/20 [00:02<00:03,  3.17it/s, loss=0.053]"
     ]
    },
    {
     "name": "stdout",
     "output_type": "stream",
     "text": [
      "Before compressing images: torch.Size([64, 3, 128, 128])\n"
     ]
    },
    {
     "name": "stderr",
     "output_type": "stream",
     "text": [
      "Epoch 19/30:  50%|███████████████████████████████████████████████████                                                   | 10/20 [00:03<00:03,  3.17it/s, loss=0.0449]"
     ]
    },
    {
     "name": "stdout",
     "output_type": "stream",
     "text": [
      "Before compressing images: torch.Size([64, 3, 128, 128])\n"
     ]
    },
    {
     "name": "stderr",
     "output_type": "stream",
     "text": [
      "Epoch 19/30:  55%|████████████████████████████████████████████████████████                                              | 11/20 [00:03<00:02,  3.17it/s, loss=0.0576]"
     ]
    },
    {
     "name": "stdout",
     "output_type": "stream",
     "text": [
      "Before compressing images: torch.Size([64, 3, 128, 128])\n"
     ]
    },
    {
     "name": "stderr",
     "output_type": "stream",
     "text": [
      "Epoch 19/30:  60%|█████████████████████████████████████████████████████████████▏                                        | 12/20 [00:03<00:02,  3.17it/s, loss=0.0708]"
     ]
    },
    {
     "name": "stdout",
     "output_type": "stream",
     "text": [
      "Before compressing images: torch.Size([64, 3, 128, 128])\n"
     ]
    },
    {
     "name": "stderr",
     "output_type": "stream",
     "text": [
      "Epoch 19/30:  65%|██████████████████████████████████████████████████████████████████▎                                   | 13/20 [00:04<00:02,  3.17it/s, loss=0.0569]"
     ]
    },
    {
     "name": "stdout",
     "output_type": "stream",
     "text": [
      "Before compressing images: torch.Size([64, 3, 128, 128])\n"
     ]
    },
    {
     "name": "stderr",
     "output_type": "stream",
     "text": [
      "Epoch 19/30:  70%|███████████████████████████████████████████████████████████████████████▍                              | 14/20 [00:04<00:01,  3.17it/s, loss=0.0615]"
     ]
    },
    {
     "name": "stdout",
     "output_type": "stream",
     "text": [
      "Before compressing images: torch.Size([64, 3, 128, 128])\n"
     ]
    },
    {
     "name": "stderr",
     "output_type": "stream",
     "text": [
      "Epoch 19/30:  75%|████████████████████████████████████████████████████████████████████████████▌                         | 15/20 [00:04<00:01,  3.16it/s, loss=0.0411]"
     ]
    },
    {
     "name": "stdout",
     "output_type": "stream",
     "text": [
      "Before compressing images: torch.Size([64, 3, 128, 128])\n"
     ]
    },
    {
     "name": "stderr",
     "output_type": "stream",
     "text": [
      "Epoch 19/30:  80%|█████████████████████████████████████████████████████████████████████████████████▌                    | 16/20 [00:05<00:01,  3.16it/s, loss=0.0727]"
     ]
    },
    {
     "name": "stdout",
     "output_type": "stream",
     "text": [
      "Before compressing images: torch.Size([64, 3, 128, 128])\n"
     ]
    },
    {
     "name": "stderr",
     "output_type": "stream",
     "text": [
      "Epoch 19/30:  85%|██████████████████████████████████████████████████████████████████████████████████████▋               | 17/20 [00:05<00:00,  3.17it/s, loss=0.0532]"
     ]
    },
    {
     "name": "stdout",
     "output_type": "stream",
     "text": [
      "Before compressing images: torch.Size([64, 3, 128, 128])\n"
     ]
    },
    {
     "name": "stderr",
     "output_type": "stream",
     "text": [
      "Epoch 19/30:  90%|███████████████████████████████████████████████████████████████████████████████████████████▊          | 18/20 [00:05<00:00,  3.16it/s, loss=0.0438]"
     ]
    },
    {
     "name": "stdout",
     "output_type": "stream",
     "text": [
      "Before compressing images: torch.Size([64, 3, 128, 128])\n"
     ]
    },
    {
     "name": "stderr",
     "output_type": "stream",
     "text": [
      "Epoch 19/30:  95%|████████████████████████████████████████████████████████████████████████████████████████████████▉     | 19/20 [00:05<00:00,  3.16it/s, loss=0.0484]"
     ]
    },
    {
     "name": "stdout",
     "output_type": "stream",
     "text": [
      "Before compressing images: torch.Size([57, 3, 128, 128])\n"
     ]
    },
    {
     "name": "stderr",
     "output_type": "stream",
     "text": [
      "Epoch 19/30: 100%|██████████████████████████████████████████████████████████████████████████████████████████████████████| 20/20 [00:06<00:00,  3.17it/s, loss=0.0483]\n"
     ]
    },
    {
     "name": "stdout",
     "output_type": "stream",
     "text": [
      "Before compressing images: torch.Size([64, 3, 128, 128])\n",
      "Before compressing images: torch.Size([64, 3, 128, 128])\n",
      "Before compressing images: torch.Size([64, 3, 128, 128])\n",
      "Before compressing images: torch.Size([64, 3, 128, 128])\n",
      "Before compressing images: torch.Size([63, 3, 128, 128])\n",
      "Epoch [19/30] Train Loss: 0.0554 Val Loss: 0.050123251229524615\n"
     ]
    },
    {
     "name": "stderr",
     "output_type": "stream",
     "text": [
      "Epoch 20/30:   0%|                                                                                                                            | 0/20 [00:00<?, ?it/s]"
     ]
    },
    {
     "name": "stdout",
     "output_type": "stream",
     "text": [
      "Before compressing images: torch.Size([64, 3, 128, 128])\n"
     ]
    },
    {
     "name": "stderr",
     "output_type": "stream",
     "text": [
      "Epoch 20/30:   5%|█████▏                                                                                                 | 1/20 [00:00<00:05,  3.19it/s, loss=0.0398]"
     ]
    },
    {
     "name": "stdout",
     "output_type": "stream",
     "text": [
      "Before compressing images: torch.Size([64, 3, 128, 128])\n"
     ]
    },
    {
     "name": "stderr",
     "output_type": "stream",
     "text": [
      "Epoch 20/30:  10%|██████████▎                                                                                            | 2/20 [00:00<00:05,  3.18it/s, loss=0.0434]"
     ]
    },
    {
     "name": "stdout",
     "output_type": "stream",
     "text": [
      "Before compressing images: torch.Size([64, 3, 128, 128])\n"
     ]
    },
    {
     "name": "stderr",
     "output_type": "stream",
     "text": [
      "Epoch 20/30:  15%|███████████████▍                                                                                       | 3/20 [00:00<00:05,  3.18it/s, loss=0.0446]"
     ]
    },
    {
     "name": "stdout",
     "output_type": "stream",
     "text": [
      "Before compressing images: torch.Size([64, 3, 128, 128])\n"
     ]
    },
    {
     "name": "stderr",
     "output_type": "stream",
     "text": [
      "Epoch 20/30:  20%|████████████████████▌                                                                                  | 4/20 [00:01<00:05,  3.18it/s, loss=0.0602]"
     ]
    },
    {
     "name": "stdout",
     "output_type": "stream",
     "text": [
      "Before compressing images: torch.Size([64, 3, 128, 128])\n"
     ]
    },
    {
     "name": "stderr",
     "output_type": "stream",
     "text": [
      "Epoch 20/30:  25%|█████████████████████████▊                                                                             | 5/20 [00:01<00:04,  3.18it/s, loss=0.0622]"
     ]
    },
    {
     "name": "stdout",
     "output_type": "stream",
     "text": [
      "Before compressing images: torch.Size([64, 3, 128, 128])\n"
     ]
    },
    {
     "name": "stderr",
     "output_type": "stream",
     "text": [
      "Epoch 20/30:  30%|███████████████████████████████▏                                                                        | 6/20 [00:01<00:04,  3.18it/s, loss=0.062]"
     ]
    },
    {
     "name": "stdout",
     "output_type": "stream",
     "text": [
      "Before compressing images: torch.Size([64, 3, 128, 128])\n"
     ]
    },
    {
     "name": "stderr",
     "output_type": "stream",
     "text": [
      "Epoch 20/30:  35%|████████████████████████████████████                                                                   | 7/20 [00:02<00:04,  3.18it/s, loss=0.0554]"
     ]
    },
    {
     "name": "stdout",
     "output_type": "stream",
     "text": [
      "Before compressing images: torch.Size([64, 3, 128, 128])\n"
     ]
    },
    {
     "name": "stderr",
     "output_type": "stream",
     "text": [
      "Epoch 20/30:  40%|█████████████████████████████████████████▏                                                             | 8/20 [00:02<00:03,  3.17it/s, loss=0.0463]"
     ]
    },
    {
     "name": "stdout",
     "output_type": "stream",
     "text": [
      "Before compressing images: torch.Size([64, 3, 128, 128])\n"
     ]
    },
    {
     "name": "stderr",
     "output_type": "stream",
     "text": [
      "Epoch 20/30:  45%|██████████████████████████████████████████████▎                                                        | 9/20 [00:02<00:03,  3.17it/s, loss=0.0418]"
     ]
    },
    {
     "name": "stdout",
     "output_type": "stream",
     "text": [
      "Before compressing images: torch.Size([64, 3, 128, 128])\n"
     ]
    },
    {
     "name": "stderr",
     "output_type": "stream",
     "text": [
      "Epoch 20/30:  50%|███████████████████████████████████████████████████                                                   | 10/20 [00:03<00:03,  3.17it/s, loss=0.0367]"
     ]
    },
    {
     "name": "stdout",
     "output_type": "stream",
     "text": [
      "Before compressing images: torch.Size([64, 3, 128, 128])\n"
     ]
    },
    {
     "name": "stderr",
     "output_type": "stream",
     "text": [
      "Epoch 20/30:  55%|████████████████████████████████████████████████████████                                              | 11/20 [00:03<00:02,  3.17it/s, loss=0.0498]"
     ]
    },
    {
     "name": "stdout",
     "output_type": "stream",
     "text": [
      "Before compressing images: torch.Size([64, 3, 128, 128])\n"
     ]
    },
    {
     "name": "stderr",
     "output_type": "stream",
     "text": [
      "Epoch 20/30:  60%|█████████████████████████████████████████████████████████████▏                                        | 12/20 [00:03<00:02,  3.17it/s, loss=0.0428]"
     ]
    },
    {
     "name": "stdout",
     "output_type": "stream",
     "text": [
      "Before compressing images: torch.Size([64, 3, 128, 128])\n"
     ]
    },
    {
     "name": "stderr",
     "output_type": "stream",
     "text": [
      "Epoch 20/30:  65%|██████████████████████████████████████████████████████████████████▎                                   | 13/20 [00:04<00:02,  3.17it/s, loss=0.0411]"
     ]
    },
    {
     "name": "stdout",
     "output_type": "stream",
     "text": [
      "Before compressing images: torch.Size([64, 3, 128, 128])\n"
     ]
    },
    {
     "name": "stderr",
     "output_type": "stream",
     "text": [
      "Epoch 20/30:  70%|████████████████████████████████████████████████████████████████████████                               | 14/20 [00:04<00:01,  3.17it/s, loss=0.036]"
     ]
    },
    {
     "name": "stdout",
     "output_type": "stream",
     "text": [
      "Before compressing images: torch.Size([64, 3, 128, 128])\n"
     ]
    },
    {
     "name": "stderr",
     "output_type": "stream",
     "text": [
      "Epoch 20/30:  75%|████████████████████████████████████████████████████████████████████████████▌                         | 15/20 [00:04<00:01,  3.17it/s, loss=0.0415]"
     ]
    },
    {
     "name": "stdout",
     "output_type": "stream",
     "text": [
      "Before compressing images: torch.Size([64, 3, 128, 128])\n"
     ]
    },
    {
     "name": "stderr",
     "output_type": "stream",
     "text": [
      "Epoch 20/30:  80%|█████████████████████████████████████████████████████████████████████████████████▌                    | 16/20 [00:05<00:01,  3.17it/s, loss=0.0472]"
     ]
    },
    {
     "name": "stdout",
     "output_type": "stream",
     "text": [
      "Before compressing images: torch.Size([64, 3, 128, 128])\n"
     ]
    },
    {
     "name": "stderr",
     "output_type": "stream",
     "text": [
      "Epoch 20/30:  85%|██████████████████████████████████████████████████████████████████████████████████████▋               | 17/20 [00:05<00:00,  3.17it/s, loss=0.0531]"
     ]
    },
    {
     "name": "stdout",
     "output_type": "stream",
     "text": [
      "Before compressing images: torch.Size([64, 3, 128, 128])\n"
     ]
    },
    {
     "name": "stderr",
     "output_type": "stream",
     "text": [
      "Epoch 20/30:  90%|███████████████████████████████████████████████████████████████████████████████████████████▊          | 18/20 [00:05<00:00,  3.17it/s, loss=0.0424]"
     ]
    },
    {
     "name": "stdout",
     "output_type": "stream",
     "text": [
      "Before compressing images: torch.Size([64, 3, 128, 128])\n"
     ]
    },
    {
     "name": "stderr",
     "output_type": "stream",
     "text": [
      "Epoch 20/30:  95%|████████████████████████████████████████████████████████████████████████████████████████████████▉     | 19/20 [00:05<00:00,  3.17it/s, loss=0.0333]"
     ]
    },
    {
     "name": "stdout",
     "output_type": "stream",
     "text": [
      "Before compressing images: torch.Size([57, 3, 128, 128])\n"
     ]
    },
    {
     "name": "stderr",
     "output_type": "stream",
     "text": [
      "Epoch 20/30: 100%|██████████████████████████████████████████████████████████████████████████████████████████████████████| 20/20 [00:06<00:00,  3.18it/s, loss=0.0605]\n"
     ]
    },
    {
     "name": "stdout",
     "output_type": "stream",
     "text": [
      "Before compressing images: torch.Size([64, 3, 128, 128])\n",
      "Before compressing images: torch.Size([64, 3, 128, 128])\n",
      "Before compressing images: torch.Size([64, 3, 128, 128])\n",
      "Before compressing images: torch.Size([64, 3, 128, 128])\n",
      "Before compressing images: torch.Size([63, 3, 128, 128])\n",
      "Epoch [20/30] Train Loss: 0.0470 Val Loss: 0.05558779388666153\n"
     ]
    },
    {
     "name": "stderr",
     "output_type": "stream",
     "text": [
      "Epoch 21/30:   0%|                                                                                                                            | 0/20 [00:00<?, ?it/s]"
     ]
    },
    {
     "name": "stdout",
     "output_type": "stream",
     "text": [
      "Before compressing images: torch.Size([64, 3, 128, 128])\n"
     ]
    },
    {
     "name": "stderr",
     "output_type": "stream",
     "text": [
      "Epoch 21/30:   5%|█████▏                                                                                                 | 1/20 [00:00<00:05,  3.18it/s, loss=0.0528]"
     ]
    },
    {
     "name": "stdout",
     "output_type": "stream",
     "text": [
      "Before compressing images: torch.Size([64, 3, 128, 128])\n"
     ]
    },
    {
     "name": "stderr",
     "output_type": "stream",
     "text": [
      "Epoch 21/30:  10%|██████████▎                                                                                            | 2/20 [00:00<00:05,  3.17it/s, loss=0.0422]"
     ]
    },
    {
     "name": "stdout",
     "output_type": "stream",
     "text": [
      "Before compressing images: torch.Size([64, 3, 128, 128])\n"
     ]
    },
    {
     "name": "stderr",
     "output_type": "stream",
     "text": [
      "Epoch 21/30:  15%|███████████████▍                                                                                       | 3/20 [00:00<00:05,  3.17it/s, loss=0.0545]"
     ]
    },
    {
     "name": "stdout",
     "output_type": "stream",
     "text": [
      "Before compressing images: torch.Size([64, 3, 128, 128])\n"
     ]
    },
    {
     "name": "stderr",
     "output_type": "stream",
     "text": [
      "Epoch 21/30:  20%|████████████████████▌                                                                                  | 4/20 [00:01<00:05,  3.15it/s, loss=0.0544]"
     ]
    },
    {
     "name": "stdout",
     "output_type": "stream",
     "text": [
      "Before compressing images: torch.Size([64, 3, 128, 128])\n"
     ]
    },
    {
     "name": "stderr",
     "output_type": "stream",
     "text": [
      "Epoch 21/30:  25%|██████████████████████████                                                                              | 5/20 [00:01<00:04,  3.14it/s, loss=0.042]"
     ]
    },
    {
     "name": "stdout",
     "output_type": "stream",
     "text": [
      "Before compressing images: torch.Size([64, 3, 128, 128])\n"
     ]
    },
    {
     "name": "stderr",
     "output_type": "stream",
     "text": [
      "Epoch 21/30:  30%|██████████████████████████████▉                                                                        | 6/20 [00:01<00:04,  3.15it/s, loss=0.0586]"
     ]
    },
    {
     "name": "stdout",
     "output_type": "stream",
     "text": [
      "Before compressing images: torch.Size([64, 3, 128, 128])\n"
     ]
    },
    {
     "name": "stderr",
     "output_type": "stream",
     "text": [
      "Epoch 21/30:  35%|████████████████████████████████████                                                                   | 7/20 [00:02<00:04,  3.16it/s, loss=0.0526]"
     ]
    },
    {
     "name": "stdout",
     "output_type": "stream",
     "text": [
      "Before compressing images: torch.Size([64, 3, 128, 128])\n"
     ]
    },
    {
     "name": "stderr",
     "output_type": "stream",
     "text": [
      "Epoch 21/30:  40%|█████████████████████████████████████████▏                                                             | 8/20 [00:02<00:03,  3.16it/s, loss=0.0442]"
     ]
    },
    {
     "name": "stdout",
     "output_type": "stream",
     "text": [
      "Before compressing images: torch.Size([64, 3, 128, 128])\n"
     ]
    },
    {
     "name": "stderr",
     "output_type": "stream",
     "text": [
      "Epoch 21/30:  45%|██████████████████████████████████████████████▎                                                        | 9/20 [00:02<00:03,  3.16it/s, loss=0.0641]"
     ]
    },
    {
     "name": "stdout",
     "output_type": "stream",
     "text": [
      "Before compressing images: torch.Size([64, 3, 128, 128])\n"
     ]
    },
    {
     "name": "stderr",
     "output_type": "stream",
     "text": [
      "Epoch 21/30:  50%|███████████████████████████████████████████████████▌                                                   | 10/20 [00:03<00:03,  3.16it/s, loss=0.034]"
     ]
    },
    {
     "name": "stdout",
     "output_type": "stream",
     "text": [
      "Before compressing images: torch.Size([64, 3, 128, 128])\n"
     ]
    },
    {
     "name": "stderr",
     "output_type": "stream",
     "text": [
      "Epoch 21/30:  55%|████████████████████████████████████████████████████████                                              | 11/20 [00:03<00:02,  3.16it/s, loss=0.0558]"
     ]
    },
    {
     "name": "stdout",
     "output_type": "stream",
     "text": [
      "Before compressing images: torch.Size([64, 3, 128, 128])\n"
     ]
    },
    {
     "name": "stderr",
     "output_type": "stream",
     "text": [
      "Epoch 21/30:  60%|█████████████████████████████████████████████████████████████▏                                        | 12/20 [00:03<00:02,  3.16it/s, loss=0.0523]"
     ]
    },
    {
     "name": "stdout",
     "output_type": "stream",
     "text": [
      "Before compressing images: torch.Size([64, 3, 128, 128])\n"
     ]
    },
    {
     "name": "stderr",
     "output_type": "stream",
     "text": [
      "Epoch 21/30:  65%|██████████████████████████████████████████████████████████████████▎                                   | 13/20 [00:04<00:02,  3.17it/s, loss=0.0409]"
     ]
    },
    {
     "name": "stdout",
     "output_type": "stream",
     "text": [
      "Before compressing images: torch.Size([64, 3, 128, 128])\n"
     ]
    },
    {
     "name": "stderr",
     "output_type": "stream",
     "text": [
      "Epoch 21/30:  70%|███████████████████████████████████████████████████████████████████████▍                              | 14/20 [00:04<00:01,  3.17it/s, loss=0.0465]"
     ]
    },
    {
     "name": "stdout",
     "output_type": "stream",
     "text": [
      "Before compressing images: torch.Size([64, 3, 128, 128])\n"
     ]
    },
    {
     "name": "stderr",
     "output_type": "stream",
     "text": [
      "Epoch 21/30:  75%|█████████████████████████████████████████████████████████████████████████████▎                         | 15/20 [00:04<00:01,  3.17it/s, loss=0.051]"
     ]
    },
    {
     "name": "stdout",
     "output_type": "stream",
     "text": [
      "Before compressing images: torch.Size([64, 3, 128, 128])\n"
     ]
    },
    {
     "name": "stderr",
     "output_type": "stream",
     "text": [
      "Epoch 21/30:  80%|█████████████████████████████████████████████████████████████████████████████████▌                    | 16/20 [00:05<00:01,  3.17it/s, loss=0.0562]"
     ]
    },
    {
     "name": "stdout",
     "output_type": "stream",
     "text": [
      "Before compressing images: torch.Size([64, 3, 128, 128])\n"
     ]
    },
    {
     "name": "stderr",
     "output_type": "stream",
     "text": [
      "Epoch 21/30:  85%|██████████████████████████████████████████████████████████████████████████████████████▋               | 17/20 [00:05<00:00,  3.16it/s, loss=0.0401]"
     ]
    },
    {
     "name": "stdout",
     "output_type": "stream",
     "text": [
      "Before compressing images: torch.Size([64, 3, 128, 128])\n"
     ]
    },
    {
     "name": "stderr",
     "output_type": "stream",
     "text": [
      "Epoch 21/30:  90%|███████████████████████████████████████████████████████████████████████████████████████████▊          | 18/20 [00:05<00:00,  3.17it/s, loss=0.0487]"
     ]
    },
    {
     "name": "stdout",
     "output_type": "stream",
     "text": [
      "Before compressing images: torch.Size([64, 3, 128, 128])\n"
     ]
    },
    {
     "name": "stderr",
     "output_type": "stream",
     "text": [
      "Epoch 21/30:  95%|████████████████████████████████████████████████████████████████████████████████████████████████▉     | 19/20 [00:06<00:00,  3.17it/s, loss=0.0577]"
     ]
    },
    {
     "name": "stdout",
     "output_type": "stream",
     "text": [
      "Before compressing images: torch.Size([57, 3, 128, 128])\n"
     ]
    },
    {
     "name": "stderr",
     "output_type": "stream",
     "text": [
      "Epoch 21/30: 100%|██████████████████████████████████████████████████████████████████████████████████████████████████████| 20/20 [00:06<00:00,  3.17it/s, loss=0.0369]\n"
     ]
    },
    {
     "name": "stdout",
     "output_type": "stream",
     "text": [
      "Before compressing images: torch.Size([64, 3, 128, 128])\n",
      "Before compressing images: torch.Size([64, 3, 128, 128])\n",
      "Before compressing images: torch.Size([64, 3, 128, 128])\n",
      "Before compressing images: torch.Size([64, 3, 128, 128])\n",
      "Before compressing images: torch.Size([63, 3, 128, 128])\n",
      "Epoch [21/30] Train Loss: 0.0493 Val Loss: 0.061645076423883435\n"
     ]
    },
    {
     "name": "stderr",
     "output_type": "stream",
     "text": [
      "Epoch 22/30:   0%|                                                                                                                            | 0/20 [00:00<?, ?it/s]"
     ]
    },
    {
     "name": "stdout",
     "output_type": "stream",
     "text": [
      "Before compressing images: torch.Size([64, 3, 128, 128])\n"
     ]
    },
    {
     "name": "stderr",
     "output_type": "stream",
     "text": [
      "Epoch 22/30:   5%|█████▏                                                                                                 | 1/20 [00:00<00:05,  3.18it/s, loss=0.0528]"
     ]
    },
    {
     "name": "stdout",
     "output_type": "stream",
     "text": [
      "Before compressing images: torch.Size([64, 3, 128, 128])\n"
     ]
    },
    {
     "name": "stderr",
     "output_type": "stream",
     "text": [
      "Epoch 22/30:  10%|██████████▎                                                                                            | 2/20 [00:00<00:05,  3.17it/s, loss=0.0521]"
     ]
    },
    {
     "name": "stdout",
     "output_type": "stream",
     "text": [
      "Before compressing images: torch.Size([64, 3, 128, 128])\n"
     ]
    },
    {
     "name": "stderr",
     "output_type": "stream",
     "text": [
      "Epoch 22/30:  15%|███████████████▍                                                                                       | 3/20 [00:00<00:05,  3.17it/s, loss=0.0341]"
     ]
    },
    {
     "name": "stdout",
     "output_type": "stream",
     "text": [
      "Before compressing images: torch.Size([64, 3, 128, 128])\n"
     ]
    },
    {
     "name": "stderr",
     "output_type": "stream",
     "text": [
      "Epoch 22/30:  20%|████████████████████▌                                                                                  | 4/20 [00:01<00:05,  3.17it/s, loss=0.0417]"
     ]
    },
    {
     "name": "stdout",
     "output_type": "stream",
     "text": [
      "Before compressing images: torch.Size([64, 3, 128, 128])\n"
     ]
    },
    {
     "name": "stderr",
     "output_type": "stream",
     "text": [
      "Epoch 22/30:  25%|█████████████████████████▊                                                                             | 5/20 [00:01<00:04,  3.17it/s, loss=0.0541]"
     ]
    },
    {
     "name": "stdout",
     "output_type": "stream",
     "text": [
      "Before compressing images: torch.Size([64, 3, 128, 128])\n"
     ]
    },
    {
     "name": "stderr",
     "output_type": "stream",
     "text": [
      "Epoch 22/30:  30%|███████████████████████████████▏                                                                        | 6/20 [00:01<00:04,  3.17it/s, loss=0.057]"
     ]
    },
    {
     "name": "stdout",
     "output_type": "stream",
     "text": [
      "Before compressing images: torch.Size([64, 3, 128, 128])\n"
     ]
    },
    {
     "name": "stderr",
     "output_type": "stream",
     "text": [
      "Epoch 22/30:  35%|████████████████████████████████████                                                                   | 7/20 [00:02<00:04,  3.17it/s, loss=0.0442]"
     ]
    },
    {
     "name": "stdout",
     "output_type": "stream",
     "text": [
      "Before compressing images: torch.Size([64, 3, 128, 128])\n"
     ]
    },
    {
     "name": "stderr",
     "output_type": "stream",
     "text": [
      "Epoch 22/30:  40%|█████████████████████████████████████████▌                                                              | 8/20 [00:02<00:03,  3.16it/s, loss=0.053]"
     ]
    },
    {
     "name": "stdout",
     "output_type": "stream",
     "text": [
      "Before compressing images: torch.Size([64, 3, 128, 128])\n"
     ]
    },
    {
     "name": "stderr",
     "output_type": "stream",
     "text": [
      "Epoch 22/30:  45%|██████████████████████████████████████████████▎                                                        | 9/20 [00:02<00:03,  3.16it/s, loss=0.0461]"
     ]
    },
    {
     "name": "stdout",
     "output_type": "stream",
     "text": [
      "Before compressing images: torch.Size([64, 3, 128, 128])\n"
     ]
    },
    {
     "name": "stderr",
     "output_type": "stream",
     "text": [
      "Epoch 22/30:  50%|███████████████████████████████████████████████████                                                   | 10/20 [00:03<00:03,  3.14it/s, loss=0.0444]"
     ]
    },
    {
     "name": "stdout",
     "output_type": "stream",
     "text": [
      "Before compressing images: torch.Size([64, 3, 128, 128])\n"
     ]
    },
    {
     "name": "stderr",
     "output_type": "stream",
     "text": [
      "Epoch 22/30:  55%|████████████████████████████████████████████████████████                                              | 11/20 [00:03<00:02,  3.14it/s, loss=0.0495]"
     ]
    },
    {
     "name": "stdout",
     "output_type": "stream",
     "text": [
      "Before compressing images: torch.Size([64, 3, 128, 128])\n"
     ]
    },
    {
     "name": "stderr",
     "output_type": "stream",
     "text": [
      "Epoch 22/30:  60%|█████████████████████████████████████████████████████████████▏                                        | 12/20 [00:03<00:02,  3.13it/s, loss=0.0652]"
     ]
    },
    {
     "name": "stdout",
     "output_type": "stream",
     "text": [
      "Before compressing images: torch.Size([64, 3, 128, 128])\n"
     ]
    },
    {
     "name": "stderr",
     "output_type": "stream",
     "text": [
      "Epoch 22/30:  65%|██████████████████████████████████████████████████████████████████▎                                   | 13/20 [00:04<00:02,  3.13it/s, loss=0.0337]"
     ]
    },
    {
     "name": "stdout",
     "output_type": "stream",
     "text": [
      "Before compressing images: torch.Size([64, 3, 128, 128])\n"
     ]
    },
    {
     "name": "stderr",
     "output_type": "stream",
     "text": [
      "Epoch 22/30:  70%|████████████████████████████████████████████████████████████████████████                               | 14/20 [00:04<00:01,  3.13it/s, loss=0.044]"
     ]
    },
    {
     "name": "stdout",
     "output_type": "stream",
     "text": [
      "Before compressing images: torch.Size([64, 3, 128, 128])\n"
     ]
    },
    {
     "name": "stderr",
     "output_type": "stream",
     "text": [
      "Epoch 22/30:  75%|████████████████████████████████████████████████████████████████████████████▌                         | 15/20 [00:04<00:01,  3.14it/s, loss=0.0346]"
     ]
    },
    {
     "name": "stdout",
     "output_type": "stream",
     "text": [
      "Before compressing images: torch.Size([64, 3, 128, 128])\n"
     ]
    },
    {
     "name": "stderr",
     "output_type": "stream",
     "text": [
      "Epoch 22/30:  80%|█████████████████████████████████████████████████████████████████████████████████▌                    | 16/20 [00:05<00:01,  3.15it/s, loss=0.0378]"
     ]
    },
    {
     "name": "stdout",
     "output_type": "stream",
     "text": [
      "Before compressing images: torch.Size([64, 3, 128, 128])\n"
     ]
    },
    {
     "name": "stderr",
     "output_type": "stream",
     "text": [
      "Epoch 22/30:  85%|██████████████████████████████████████████████████████████████████████████████████████▋               | 17/20 [00:05<00:00,  3.15it/s, loss=0.0599]"
     ]
    },
    {
     "name": "stdout",
     "output_type": "stream",
     "text": [
      "Before compressing images: torch.Size([64, 3, 128, 128])\n"
     ]
    },
    {
     "name": "stderr",
     "output_type": "stream",
     "text": [
      "Epoch 22/30:  90%|███████████████████████████████████████████████████████████████████████████████████████████▊          | 18/20 [00:05<00:00,  3.16it/s, loss=0.0503]"
     ]
    },
    {
     "name": "stdout",
     "output_type": "stream",
     "text": [
      "Before compressing images: torch.Size([64, 3, 128, 128])\n"
     ]
    },
    {
     "name": "stderr",
     "output_type": "stream",
     "text": [
      "Epoch 22/30:  95%|████████████████████████████████████████████████████████████████████████████████████████████████▉     | 19/20 [00:06<00:00,  3.16it/s, loss=0.0511]"
     ]
    },
    {
     "name": "stdout",
     "output_type": "stream",
     "text": [
      "Before compressing images: torch.Size([57, 3, 128, 128])\n"
     ]
    },
    {
     "name": "stderr",
     "output_type": "stream",
     "text": [
      "Epoch 22/30: 100%|██████████████████████████████████████████████████████████████████████████████████████████████████████| 20/20 [00:06<00:00,  3.16it/s, loss=0.0573]\n"
     ]
    },
    {
     "name": "stdout",
     "output_type": "stream",
     "text": [
      "Before compressing images: torch.Size([64, 3, 128, 128])\n",
      "Before compressing images: torch.Size([64, 3, 128, 128])\n",
      "Before compressing images: torch.Size([64, 3, 128, 128])\n",
      "Before compressing images: torch.Size([64, 3, 128, 128])\n",
      "Before compressing images: torch.Size([63, 3, 128, 128])\n",
      "Epoch [22/30] Train Loss: 0.0481 Val Loss: 0.045983127504587176\n"
     ]
    },
    {
     "name": "stderr",
     "output_type": "stream",
     "text": [
      "Epoch 23/30:   0%|                                                                                                                            | 0/20 [00:00<?, ?it/s]"
     ]
    },
    {
     "name": "stdout",
     "output_type": "stream",
     "text": [
      "Before compressing images: torch.Size([64, 3, 128, 128])\n"
     ]
    },
    {
     "name": "stderr",
     "output_type": "stream",
     "text": [
      "Epoch 23/30:   5%|█████▏                                                                                                  | 1/20 [00:00<00:05,  3.17it/s, loss=0.047]"
     ]
    },
    {
     "name": "stdout",
     "output_type": "stream",
     "text": [
      "Before compressing images: torch.Size([64, 3, 128, 128])\n"
     ]
    },
    {
     "name": "stderr",
     "output_type": "stream",
     "text": [
      "Epoch 23/30:  10%|██████████▎                                                                                            | 2/20 [00:00<00:05,  3.17it/s, loss=0.0414]"
     ]
    },
    {
     "name": "stdout",
     "output_type": "stream",
     "text": [
      "Before compressing images: torch.Size([64, 3, 128, 128])\n"
     ]
    },
    {
     "name": "stderr",
     "output_type": "stream",
     "text": [
      "Epoch 23/30:  15%|███████████████▍                                                                                       | 3/20 [00:00<00:05,  3.16it/s, loss=0.0397]"
     ]
    },
    {
     "name": "stdout",
     "output_type": "stream",
     "text": [
      "Before compressing images: torch.Size([64, 3, 128, 128])\n"
     ]
    },
    {
     "name": "stderr",
     "output_type": "stream",
     "text": [
      "Epoch 23/30:  20%|█████████████████████                                                                                    | 4/20 [00:01<00:05,  3.16it/s, loss=0.05]"
     ]
    },
    {
     "name": "stdout",
     "output_type": "stream",
     "text": [
      "Before compressing images: torch.Size([64, 3, 128, 128])\n"
     ]
    },
    {
     "name": "stderr",
     "output_type": "stream",
     "text": [
      "Epoch 23/30:  25%|█████████████████████████▊                                                                             | 5/20 [00:01<00:04,  3.17it/s, loss=0.0462]"
     ]
    },
    {
     "name": "stdout",
     "output_type": "stream",
     "text": [
      "Before compressing images: torch.Size([64, 3, 128, 128])\n"
     ]
    },
    {
     "name": "stderr",
     "output_type": "stream",
     "text": [
      "Epoch 23/30:  30%|███████████████████████████████▏                                                                        | 6/20 [00:01<00:04,  3.17it/s, loss=0.043]"
     ]
    },
    {
     "name": "stdout",
     "output_type": "stream",
     "text": [
      "Before compressing images: torch.Size([64, 3, 128, 128])\n"
     ]
    },
    {
     "name": "stderr",
     "output_type": "stream",
     "text": [
      "Epoch 23/30:  35%|████████████████████████████████████                                                                   | 7/20 [00:02<00:04,  3.16it/s, loss=0.0402]"
     ]
    },
    {
     "name": "stdout",
     "output_type": "stream",
     "text": [
      "Before compressing images: torch.Size([64, 3, 128, 128])\n"
     ]
    },
    {
     "name": "stderr",
     "output_type": "stream",
     "text": [
      "Epoch 23/30:  40%|█████████████████████████████████████████▏                                                             | 8/20 [00:02<00:03,  3.17it/s, loss=0.0282]"
     ]
    },
    {
     "name": "stdout",
     "output_type": "stream",
     "text": [
      "Before compressing images: torch.Size([64, 3, 128, 128])\n"
     ]
    },
    {
     "name": "stderr",
     "output_type": "stream",
     "text": [
      "Epoch 23/30:  45%|██████████████████████████████████████████████▎                                                        | 9/20 [00:02<00:03,  3.17it/s, loss=0.0691]"
     ]
    },
    {
     "name": "stdout",
     "output_type": "stream",
     "text": [
      "Before compressing images: torch.Size([64, 3, 128, 128])\n"
     ]
    },
    {
     "name": "stderr",
     "output_type": "stream",
     "text": [
      "Epoch 23/30:  50%|███████████████████████████████████████████████████                                                   | 10/20 [00:03<00:03,  3.17it/s, loss=0.0555]"
     ]
    },
    {
     "name": "stdout",
     "output_type": "stream",
     "text": [
      "Before compressing images: torch.Size([64, 3, 128, 128])\n"
     ]
    },
    {
     "name": "stderr",
     "output_type": "stream",
     "text": [
      "Epoch 23/30:  55%|████████████████████████████████████████████████████████                                              | 11/20 [00:03<00:02,  3.16it/s, loss=0.0401]"
     ]
    },
    {
     "name": "stdout",
     "output_type": "stream",
     "text": [
      "Before compressing images: torch.Size([64, 3, 128, 128])\n"
     ]
    },
    {
     "name": "stderr",
     "output_type": "stream",
     "text": [
      "Epoch 23/30:  60%|█████████████████████████████████████████████████████████████▏                                        | 12/20 [00:03<00:02,  3.15it/s, loss=0.0448]"
     ]
    },
    {
     "name": "stdout",
     "output_type": "stream",
     "text": [
      "Before compressing images: torch.Size([64, 3, 128, 128])\n"
     ]
    },
    {
     "name": "stderr",
     "output_type": "stream",
     "text": [
      "Epoch 23/30:  65%|██████████████████████████████████████████████████████████████████▉                                    | 13/20 [00:04<00:02,  3.15it/s, loss=0.045]"
     ]
    },
    {
     "name": "stdout",
     "output_type": "stream",
     "text": [
      "Before compressing images: torch.Size([64, 3, 128, 128])\n"
     ]
    },
    {
     "name": "stderr",
     "output_type": "stream",
     "text": [
      "Epoch 23/30:  70%|███████████████████████████████████████████████████████████████████████▍                              | 14/20 [00:04<00:01,  3.16it/s, loss=0.0368]"
     ]
    },
    {
     "name": "stdout",
     "output_type": "stream",
     "text": [
      "Before compressing images: torch.Size([64, 3, 128, 128])\n"
     ]
    },
    {
     "name": "stderr",
     "output_type": "stream",
     "text": [
      "Epoch 23/30:  75%|████████████████████████████████████████████████████████████████████████████▌                         | 15/20 [00:04<00:01,  3.16it/s, loss=0.0346]"
     ]
    },
    {
     "name": "stdout",
     "output_type": "stream",
     "text": [
      "Before compressing images: torch.Size([64, 3, 128, 128])\n"
     ]
    },
    {
     "name": "stderr",
     "output_type": "stream",
     "text": [
      "Epoch 23/30:  80%|█████████████████████████████████████████████████████████████████████████████████▌                    | 16/20 [00:05<00:01,  3.16it/s, loss=0.0459]"
     ]
    },
    {
     "name": "stdout",
     "output_type": "stream",
     "text": [
      "Before compressing images: torch.Size([64, 3, 128, 128])\n"
     ]
    },
    {
     "name": "stderr",
     "output_type": "stream",
     "text": [
      "Epoch 23/30:  85%|██████████████████████████████████████████████████████████████████████████████████████▋               | 17/20 [00:05<00:00,  3.16it/s, loss=0.0404]"
     ]
    },
    {
     "name": "stdout",
     "output_type": "stream",
     "text": [
      "Before compressing images: torch.Size([64, 3, 128, 128])\n"
     ]
    },
    {
     "name": "stderr",
     "output_type": "stream",
     "text": [
      "Epoch 23/30:  90%|███████████████████████████████████████████████████████████████████████████████████████████▊          | 18/20 [00:05<00:00,  3.17it/s, loss=0.0428]"
     ]
    },
    {
     "name": "stdout",
     "output_type": "stream",
     "text": [
      "Before compressing images: torch.Size([64, 3, 128, 128])\n"
     ]
    },
    {
     "name": "stderr",
     "output_type": "stream",
     "text": [
      "Epoch 23/30:  95%|████████████████████████████████████████████████████████████████████████████████████████████████▉     | 19/20 [00:06<00:00,  3.17it/s, loss=0.0339]"
     ]
    },
    {
     "name": "stdout",
     "output_type": "stream",
     "text": [
      "Before compressing images: torch.Size([57, 3, 128, 128])\n"
     ]
    },
    {
     "name": "stderr",
     "output_type": "stream",
     "text": [
      "Epoch 23/30: 100%|██████████████████████████████████████████████████████████████████████████████████████████████████████| 20/20 [00:06<00:00,  3.17it/s, loss=0.0566]\n"
     ]
    },
    {
     "name": "stdout",
     "output_type": "stream",
     "text": [
      "Before compressing images: torch.Size([64, 3, 128, 128])\n",
      "Before compressing images: torch.Size([64, 3, 128, 128])\n",
      "Before compressing images: torch.Size([64, 3, 128, 128])\n",
      "Before compressing images: torch.Size([64, 3, 128, 128])\n",
      "Before compressing images: torch.Size([63, 3, 128, 128])\n",
      "Epoch [23/30] Train Loss: 0.0441 Val Loss: 0.047543229162693025\n"
     ]
    },
    {
     "name": "stderr",
     "output_type": "stream",
     "text": [
      "Epoch 24/30:   0%|                                                                                                                            | 0/20 [00:00<?, ?it/s]"
     ]
    },
    {
     "name": "stdout",
     "output_type": "stream",
     "text": [
      "Before compressing images: torch.Size([64, 3, 128, 128])\n"
     ]
    },
    {
     "name": "stderr",
     "output_type": "stream",
     "text": [
      "Epoch 24/30:   5%|█████▏                                                                                                 | 1/20 [00:00<00:05,  3.18it/s, loss=0.0442]"
     ]
    },
    {
     "name": "stdout",
     "output_type": "stream",
     "text": [
      "Before compressing images: torch.Size([64, 3, 128, 128])\n"
     ]
    },
    {
     "name": "stderr",
     "output_type": "stream",
     "text": [
      "Epoch 24/30:  10%|██████████▎                                                                                            | 2/20 [00:00<00:05,  3.18it/s, loss=0.0379]"
     ]
    },
    {
     "name": "stdout",
     "output_type": "stream",
     "text": [
      "Before compressing images: torch.Size([64, 3, 128, 128])\n"
     ]
    },
    {
     "name": "stderr",
     "output_type": "stream",
     "text": [
      "Epoch 24/30:  15%|███████████████▍                                                                                       | 3/20 [00:00<00:05,  3.18it/s, loss=0.0499]"
     ]
    },
    {
     "name": "stdout",
     "output_type": "stream",
     "text": [
      "Before compressing images: torch.Size([64, 3, 128, 128])\n"
     ]
    },
    {
     "name": "stderr",
     "output_type": "stream",
     "text": [
      "Epoch 24/30:  20%|████████████████████▌                                                                                  | 4/20 [00:01<00:05,  3.17it/s, loss=0.0447]"
     ]
    },
    {
     "name": "stdout",
     "output_type": "stream",
     "text": [
      "Before compressing images: torch.Size([64, 3, 128, 128])\n"
     ]
    },
    {
     "name": "stderr",
     "output_type": "stream",
     "text": [
      "Epoch 24/30:  25%|█████████████████████████▊                                                                             | 5/20 [00:01<00:04,  3.17it/s, loss=0.0375]"
     ]
    },
    {
     "name": "stdout",
     "output_type": "stream",
     "text": [
      "Before compressing images: torch.Size([64, 3, 128, 128])\n"
     ]
    },
    {
     "name": "stderr",
     "output_type": "stream",
     "text": [
      "Epoch 24/30:  30%|██████████████████████████████▉                                                                        | 6/20 [00:01<00:04,  3.16it/s, loss=0.0575]"
     ]
    },
    {
     "name": "stdout",
     "output_type": "stream",
     "text": [
      "Before compressing images: torch.Size([64, 3, 128, 128])\n"
     ]
    },
    {
     "name": "stderr",
     "output_type": "stream",
     "text": [
      "Epoch 24/30:  35%|████████████████████████████████████                                                                   | 7/20 [00:02<00:04,  3.16it/s, loss=0.0597]"
     ]
    },
    {
     "name": "stdout",
     "output_type": "stream",
     "text": [
      "Before compressing images: torch.Size([64, 3, 128, 128])\n"
     ]
    },
    {
     "name": "stderr",
     "output_type": "stream",
     "text": [
      "Epoch 24/30:  40%|█████████████████████████████████████████▏                                                             | 8/20 [00:02<00:03,  3.16it/s, loss=0.0437]"
     ]
    },
    {
     "name": "stdout",
     "output_type": "stream",
     "text": [
      "Before compressing images: torch.Size([64, 3, 128, 128])\n"
     ]
    },
    {
     "name": "stderr",
     "output_type": "stream",
     "text": [
      "Epoch 24/30:  45%|██████████████████████████████████████████████▎                                                        | 9/20 [00:02<00:03,  3.17it/s, loss=0.0435]"
     ]
    },
    {
     "name": "stdout",
     "output_type": "stream",
     "text": [
      "Before compressing images: torch.Size([64, 3, 128, 128])\n"
     ]
    },
    {
     "name": "stderr",
     "output_type": "stream",
     "text": [
      "Epoch 24/30:  50%|███████████████████████████████████████████████████                                                   | 10/20 [00:03<00:03,  3.16it/s, loss=0.0265]"
     ]
    },
    {
     "name": "stdout",
     "output_type": "stream",
     "text": [
      "Before compressing images: torch.Size([64, 3, 128, 128])\n"
     ]
    },
    {
     "name": "stderr",
     "output_type": "stream",
     "text": [
      "Epoch 24/30:  55%|████████████████████████████████████████████████████████                                              | 11/20 [00:03<00:02,  3.16it/s, loss=0.0395]"
     ]
    },
    {
     "name": "stdout",
     "output_type": "stream",
     "text": [
      "Before compressing images: torch.Size([64, 3, 128, 128])\n"
     ]
    },
    {
     "name": "stderr",
     "output_type": "stream",
     "text": [
      "Epoch 24/30:  60%|█████████████████████████████████████████████████████████████▏                                        | 12/20 [00:03<00:02,  3.17it/s, loss=0.0676]"
     ]
    },
    {
     "name": "stdout",
     "output_type": "stream",
     "text": [
      "Before compressing images: torch.Size([64, 3, 128, 128])\n"
     ]
    },
    {
     "name": "stderr",
     "output_type": "stream",
     "text": [
      "Epoch 24/30:  65%|██████████████████████████████████████████████████████████████████▎                                   | 13/20 [00:04<00:02,  3.17it/s, loss=0.0398]"
     ]
    },
    {
     "name": "stdout",
     "output_type": "stream",
     "text": [
      "Before compressing images: torch.Size([64, 3, 128, 128])\n"
     ]
    },
    {
     "name": "stderr",
     "output_type": "stream",
     "text": [
      "Epoch 24/30:  70%|███████████████████████████████████████████████████████████████████████▍                              | 14/20 [00:04<00:01,  3.18it/s, loss=0.0441]"
     ]
    },
    {
     "name": "stdout",
     "output_type": "stream",
     "text": [
      "Before compressing images: torch.Size([64, 3, 128, 128])\n"
     ]
    },
    {
     "name": "stderr",
     "output_type": "stream",
     "text": [
      "Epoch 24/30:  75%|████████████████████████████████████████████████████████████████████████████▌                         | 15/20 [00:04<00:01,  3.18it/s, loss=0.0456]"
     ]
    },
    {
     "name": "stdout",
     "output_type": "stream",
     "text": [
      "Before compressing images: torch.Size([64, 3, 128, 128])\n"
     ]
    },
    {
     "name": "stderr",
     "output_type": "stream",
     "text": [
      "Epoch 24/30:  80%|█████████████████████████████████████████████████████████████████████████████████▌                    | 16/20 [00:05<00:01,  3.18it/s, loss=0.0388]"
     ]
    },
    {
     "name": "stdout",
     "output_type": "stream",
     "text": [
      "Before compressing images: torch.Size([64, 3, 128, 128])\n"
     ]
    },
    {
     "name": "stderr",
     "output_type": "stream",
     "text": [
      "Epoch 24/30:  85%|██████████████████████████████████████████████████████████████████████████████████████▋               | 17/20 [00:05<00:00,  3.18it/s, loss=0.0475]"
     ]
    },
    {
     "name": "stdout",
     "output_type": "stream",
     "text": [
      "Before compressing images: torch.Size([64, 3, 128, 128])\n"
     ]
    },
    {
     "name": "stderr",
     "output_type": "stream",
     "text": [
      "Epoch 24/30:  90%|███████████████████████████████████████████████████████████████████████████████████████████▊          | 18/20 [00:05<00:00,  3.18it/s, loss=0.0462]"
     ]
    },
    {
     "name": "stdout",
     "output_type": "stream",
     "text": [
      "Before compressing images: torch.Size([64, 3, 128, 128])\n"
     ]
    },
    {
     "name": "stderr",
     "output_type": "stream",
     "text": [
      "Epoch 24/30:  95%|████████████████████████████████████████████████████████████████████████████████████████████████▉     | 19/20 [00:05<00:00,  3.17it/s, loss=0.0536]"
     ]
    },
    {
     "name": "stdout",
     "output_type": "stream",
     "text": [
      "Before compressing images: torch.Size([57, 3, 128, 128])\n"
     ]
    },
    {
     "name": "stderr",
     "output_type": "stream",
     "text": [
      "Epoch 24/30: 100%|██████████████████████████████████████████████████████████████████████████████████████████████████████| 20/20 [00:06<00:00,  3.18it/s, loss=0.0363]\n"
     ]
    },
    {
     "name": "stdout",
     "output_type": "stream",
     "text": [
      "Before compressing images: torch.Size([64, 3, 128, 128])\n",
      "Before compressing images: torch.Size([64, 3, 128, 128])\n",
      "Before compressing images: torch.Size([64, 3, 128, 128])\n",
      "Before compressing images: torch.Size([64, 3, 128, 128])\n",
      "Before compressing images: torch.Size([63, 3, 128, 128])\n",
      "Epoch [24/30] Train Loss: 0.0452 Val Loss: 0.044737161695957185\n"
     ]
    },
    {
     "name": "stderr",
     "output_type": "stream",
     "text": [
      "Epoch 25/30:   0%|                                                                                                                            | 0/20 [00:00<?, ?it/s]"
     ]
    },
    {
     "name": "stdout",
     "output_type": "stream",
     "text": [
      "Before compressing images: torch.Size([64, 3, 128, 128])\n"
     ]
    },
    {
     "name": "stderr",
     "output_type": "stream",
     "text": [
      "Epoch 25/30:   5%|█████▏                                                                                                  | 1/20 [00:00<00:05,  3.17it/s, loss=0.032]"
     ]
    },
    {
     "name": "stdout",
     "output_type": "stream",
     "text": [
      "Before compressing images: torch.Size([64, 3, 128, 128])\n"
     ]
    },
    {
     "name": "stderr",
     "output_type": "stream",
     "text": [
      "Epoch 25/30:  10%|██████████▎                                                                                            | 2/20 [00:00<00:05,  3.17it/s, loss=0.0412]"
     ]
    },
    {
     "name": "stdout",
     "output_type": "stream",
     "text": [
      "Before compressing images: torch.Size([64, 3, 128, 128])\n"
     ]
    },
    {
     "name": "stderr",
     "output_type": "stream",
     "text": [
      "Epoch 25/30:  15%|███████████████▍                                                                                       | 3/20 [00:00<00:05,  3.17it/s, loss=0.0413]"
     ]
    },
    {
     "name": "stdout",
     "output_type": "stream",
     "text": [
      "Before compressing images: torch.Size([64, 3, 128, 128])\n"
     ]
    },
    {
     "name": "stderr",
     "output_type": "stream",
     "text": [
      "Epoch 25/30:  20%|████████████████████▌                                                                                  | 4/20 [00:01<00:05,  3.17it/s, loss=0.0588]"
     ]
    },
    {
     "name": "stdout",
     "output_type": "stream",
     "text": [
      "Before compressing images: torch.Size([64, 3, 128, 128])\n"
     ]
    },
    {
     "name": "stderr",
     "output_type": "stream",
     "text": [
      "Epoch 25/30:  25%|█████████████████████████▊                                                                             | 5/20 [00:01<00:04,  3.17it/s, loss=0.0438]"
     ]
    },
    {
     "name": "stdout",
     "output_type": "stream",
     "text": [
      "Before compressing images: torch.Size([64, 3, 128, 128])\n"
     ]
    },
    {
     "name": "stderr",
     "output_type": "stream",
     "text": [
      "Epoch 25/30:  30%|██████████████████████████████▉                                                                        | 6/20 [00:01<00:04,  3.17it/s, loss=0.0563]"
     ]
    },
    {
     "name": "stdout",
     "output_type": "stream",
     "text": [
      "Before compressing images: torch.Size([64, 3, 128, 128])\n"
     ]
    },
    {
     "name": "stderr",
     "output_type": "stream",
     "text": [
      "Epoch 25/30:  35%|████████████████████████████████████                                                                   | 7/20 [00:02<00:04,  3.16it/s, loss=0.0294]"
     ]
    },
    {
     "name": "stdout",
     "output_type": "stream",
     "text": [
      "Before compressing images: torch.Size([64, 3, 128, 128])\n"
     ]
    },
    {
     "name": "stderr",
     "output_type": "stream",
     "text": [
      "Epoch 25/30:  40%|█████████████████████████████████████████▏                                                             | 8/20 [00:02<00:03,  3.17it/s, loss=0.0572]"
     ]
    },
    {
     "name": "stdout",
     "output_type": "stream",
     "text": [
      "Before compressing images: torch.Size([64, 3, 128, 128])\n"
     ]
    },
    {
     "name": "stderr",
     "output_type": "stream",
     "text": [
      "Epoch 25/30:  45%|██████████████████████████████████████████████▎                                                        | 9/20 [00:02<00:03,  3.16it/s, loss=0.0351]"
     ]
    },
    {
     "name": "stdout",
     "output_type": "stream",
     "text": [
      "Before compressing images: torch.Size([64, 3, 128, 128])\n"
     ]
    },
    {
     "name": "stderr",
     "output_type": "stream",
     "text": [
      "Epoch 25/30:  50%|███████████████████████████████████████████████████                                                   | 10/20 [00:03<00:03,  3.17it/s, loss=0.0298]"
     ]
    },
    {
     "name": "stdout",
     "output_type": "stream",
     "text": [
      "Before compressing images: torch.Size([64, 3, 128, 128])\n"
     ]
    },
    {
     "name": "stderr",
     "output_type": "stream",
     "text": [
      "Epoch 25/30:  55%|████████████████████████████████████████████████████████                                              | 11/20 [00:03<00:02,  3.17it/s, loss=0.0554]"
     ]
    },
    {
     "name": "stdout",
     "output_type": "stream",
     "text": [
      "Before compressing images: torch.Size([64, 3, 128, 128])\n"
     ]
    },
    {
     "name": "stderr",
     "output_type": "stream",
     "text": [
      "Epoch 25/30:  60%|█████████████████████████████████████████████████████████████▏                                        | 12/20 [00:03<00:02,  3.17it/s, loss=0.0331]"
     ]
    },
    {
     "name": "stdout",
     "output_type": "stream",
     "text": [
      "Before compressing images: torch.Size([64, 3, 128, 128])\n"
     ]
    },
    {
     "name": "stderr",
     "output_type": "stream",
     "text": [
      "Epoch 25/30:  65%|██████████████████████████████████████████████████████████████████▎                                   | 13/20 [00:04<00:02,  3.17it/s, loss=0.0658]"
     ]
    },
    {
     "name": "stdout",
     "output_type": "stream",
     "text": [
      "Before compressing images: torch.Size([64, 3, 128, 128])\n"
     ]
    },
    {
     "name": "stderr",
     "output_type": "stream",
     "text": [
      "Epoch 25/30:  70%|███████████████████████████████████████████████████████████████████████▍                              | 14/20 [00:04<00:01,  3.17it/s, loss=0.0387]"
     ]
    },
    {
     "name": "stdout",
     "output_type": "stream",
     "text": [
      "Before compressing images: torch.Size([64, 3, 128, 128])\n"
     ]
    },
    {
     "name": "stderr",
     "output_type": "stream",
     "text": [
      "Epoch 25/30:  75%|████████████████████████████████████████████████████████████████████████████▌                         | 15/20 [00:04<00:01,  3.17it/s, loss=0.0483]"
     ]
    },
    {
     "name": "stdout",
     "output_type": "stream",
     "text": [
      "Before compressing images: torch.Size([64, 3, 128, 128])\n"
     ]
    },
    {
     "name": "stderr",
     "output_type": "stream",
     "text": [
      "Epoch 25/30:  80%|█████████████████████████████████████████████████████████████████████████████████▌                    | 16/20 [00:05<00:01,  3.17it/s, loss=0.0507]"
     ]
    },
    {
     "name": "stdout",
     "output_type": "stream",
     "text": [
      "Before compressing images: torch.Size([64, 3, 128, 128])\n"
     ]
    },
    {
     "name": "stderr",
     "output_type": "stream",
     "text": [
      "Epoch 25/30:  85%|██████████████████████████████████████████████████████████████████████████████████████▋               | 17/20 [00:05<00:00,  3.16it/s, loss=0.0464]"
     ]
    },
    {
     "name": "stdout",
     "output_type": "stream",
     "text": [
      "Before compressing images: torch.Size([64, 3, 128, 128])\n"
     ]
    },
    {
     "name": "stderr",
     "output_type": "stream",
     "text": [
      "Epoch 25/30:  90%|███████████████████████████████████████████████████████████████████████████████████████████▊          | 18/20 [00:05<00:00,  3.16it/s, loss=0.0405]"
     ]
    },
    {
     "name": "stdout",
     "output_type": "stream",
     "text": [
      "Before compressing images: torch.Size([64, 3, 128, 128])\n"
     ]
    },
    {
     "name": "stderr",
     "output_type": "stream",
     "text": [
      "Epoch 25/30:  95%|██████████████████████████████████████████████████████████████████████████████████████████████████▊     | 19/20 [00:06<00:00,  3.16it/s, loss=0.04]"
     ]
    },
    {
     "name": "stdout",
     "output_type": "stream",
     "text": [
      "Before compressing images: torch.Size([57, 3, 128, 128])\n"
     ]
    },
    {
     "name": "stderr",
     "output_type": "stream",
     "text": [
      "Epoch 25/30: 100%|██████████████████████████████████████████████████████████████████████████████████████████████████████| 20/20 [00:06<00:00,  3.17it/s, loss=0.0502]\n"
     ]
    },
    {
     "name": "stdout",
     "output_type": "stream",
     "text": [
      "Before compressing images: torch.Size([64, 3, 128, 128])\n",
      "Before compressing images: torch.Size([64, 3, 128, 128])\n",
      "Before compressing images: torch.Size([64, 3, 128, 128])\n",
      "Before compressing images: torch.Size([64, 3, 128, 128])\n",
      "Before compressing images: torch.Size([63, 3, 128, 128])\n",
      "Epoch [25/30] Train Loss: 0.0447 Val Loss: 0.038928636163473126\n"
     ]
    },
    {
     "name": "stderr",
     "output_type": "stream",
     "text": [
      "Epoch 26/30:   0%|                                                                                                                            | 0/20 [00:00<?, ?it/s]"
     ]
    },
    {
     "name": "stdout",
     "output_type": "stream",
     "text": [
      "Before compressing images: torch.Size([64, 3, 128, 128])\n"
     ]
    },
    {
     "name": "stderr",
     "output_type": "stream",
     "text": [
      "Epoch 26/30:   5%|█████▏                                                                                                 | 1/20 [00:00<00:06,  3.16it/s, loss=0.0486]"
     ]
    },
    {
     "name": "stdout",
     "output_type": "stream",
     "text": [
      "Before compressing images: torch.Size([64, 3, 128, 128])\n"
     ]
    },
    {
     "name": "stderr",
     "output_type": "stream",
     "text": [
      "Epoch 26/30:  10%|██████████▎                                                                                            | 2/20 [00:00<00:05,  3.17it/s, loss=0.0495]"
     ]
    },
    {
     "name": "stdout",
     "output_type": "stream",
     "text": [
      "Before compressing images: torch.Size([64, 3, 128, 128])\n"
     ]
    },
    {
     "name": "stderr",
     "output_type": "stream",
     "text": [
      "Epoch 26/30:  15%|███████████████▍                                                                                       | 3/20 [00:00<00:05,  3.17it/s, loss=0.0382]"
     ]
    },
    {
     "name": "stdout",
     "output_type": "stream",
     "text": [
      "Before compressing images: torch.Size([64, 3, 128, 128])\n"
     ]
    },
    {
     "name": "stderr",
     "output_type": "stream",
     "text": [
      "Epoch 26/30:  20%|████████████████████▌                                                                                  | 4/20 [00:01<00:05,  3.17it/s, loss=0.0456]"
     ]
    },
    {
     "name": "stdout",
     "output_type": "stream",
     "text": [
      "Before compressing images: torch.Size([64, 3, 128, 128])\n"
     ]
    },
    {
     "name": "stderr",
     "output_type": "stream",
     "text": [
      "Epoch 26/30:  25%|██████████████████████████                                                                              | 5/20 [00:01<00:04,  3.17it/s, loss=0.053]"
     ]
    },
    {
     "name": "stdout",
     "output_type": "stream",
     "text": [
      "Before compressing images: torch.Size([64, 3, 128, 128])\n"
     ]
    },
    {
     "name": "stderr",
     "output_type": "stream",
     "text": [
      "Epoch 26/30:  30%|██████████████████████████████▉                                                                        | 6/20 [00:01<00:04,  3.17it/s, loss=0.0273]"
     ]
    },
    {
     "name": "stdout",
     "output_type": "stream",
     "text": [
      "Before compressing images: torch.Size([64, 3, 128, 128])\n"
     ]
    },
    {
     "name": "stderr",
     "output_type": "stream",
     "text": [
      "Epoch 26/30:  35%|████████████████████████████████████                                                                   | 7/20 [00:02<00:04,  3.17it/s, loss=0.0423]"
     ]
    },
    {
     "name": "stdout",
     "output_type": "stream",
     "text": [
      "Before compressing images: torch.Size([64, 3, 128, 128])\n"
     ]
    },
    {
     "name": "stderr",
     "output_type": "stream",
     "text": [
      "Epoch 26/30:  40%|█████████████████████████████████████████▏                                                             | 8/20 [00:02<00:03,  3.17it/s, loss=0.0564]"
     ]
    },
    {
     "name": "stdout",
     "output_type": "stream",
     "text": [
      "Before compressing images: torch.Size([64, 3, 128, 128])\n"
     ]
    },
    {
     "name": "stderr",
     "output_type": "stream",
     "text": [
      "Epoch 26/30:  45%|██████████████████████████████████████████████▊                                                         | 9/20 [00:02<00:03,  3.17it/s, loss=0.033]"
     ]
    },
    {
     "name": "stdout",
     "output_type": "stream",
     "text": [
      "Before compressing images: torch.Size([64, 3, 128, 128])\n"
     ]
    },
    {
     "name": "stderr",
     "output_type": "stream",
     "text": [
      "Epoch 26/30:  50%|███████████████████████████████████████████████████                                                   | 10/20 [00:03<00:03,  3.15it/s, loss=0.0533]"
     ]
    },
    {
     "name": "stdout",
     "output_type": "stream",
     "text": [
      "Before compressing images: torch.Size([64, 3, 128, 128])\n"
     ]
    },
    {
     "name": "stderr",
     "output_type": "stream",
     "text": [
      "Epoch 26/30:  55%|████████████████████████████████████████████████████████                                              | 11/20 [00:03<00:02,  3.15it/s, loss=0.0597]"
     ]
    },
    {
     "name": "stdout",
     "output_type": "stream",
     "text": [
      "Before compressing images: torch.Size([64, 3, 128, 128])\n"
     ]
    },
    {
     "name": "stderr",
     "output_type": "stream",
     "text": [
      "Epoch 26/30:  60%|█████████████████████████████████████████████████████████████▏                                        | 12/20 [00:03<00:02,  3.16it/s, loss=0.0336]"
     ]
    },
    {
     "name": "stdout",
     "output_type": "stream",
     "text": [
      "Before compressing images: torch.Size([64, 3, 128, 128])\n"
     ]
    },
    {
     "name": "stderr",
     "output_type": "stream",
     "text": [
      "Epoch 26/30:  65%|██████████████████████████████████████████████████████████████████▎                                   | 13/20 [00:04<00:02,  3.16it/s, loss=0.0463]"
     ]
    },
    {
     "name": "stdout",
     "output_type": "stream",
     "text": [
      "Before compressing images: torch.Size([64, 3, 128, 128])\n"
     ]
    },
    {
     "name": "stderr",
     "output_type": "stream",
     "text": [
      "Epoch 26/30:  70%|███████████████████████████████████████████████████████████████████████▍                              | 14/20 [00:04<00:01,  3.16it/s, loss=0.0476]"
     ]
    },
    {
     "name": "stdout",
     "output_type": "stream",
     "text": [
      "Before compressing images: torch.Size([64, 3, 128, 128])\n"
     ]
    },
    {
     "name": "stderr",
     "output_type": "stream",
     "text": [
      "Epoch 26/30:  75%|████████████████████████████████████████████████████████████████████████████▌                         | 15/20 [00:04<00:01,  3.16it/s, loss=0.0553]"
     ]
    },
    {
     "name": "stdout",
     "output_type": "stream",
     "text": [
      "Before compressing images: torch.Size([64, 3, 128, 128])\n"
     ]
    },
    {
     "name": "stderr",
     "output_type": "stream",
     "text": [
      "Epoch 26/30:  80%|█████████████████████████████████████████████████████████████████████████████████▌                    | 16/20 [00:05<00:01,  3.16it/s, loss=0.0349]"
     ]
    },
    {
     "name": "stdout",
     "output_type": "stream",
     "text": [
      "Before compressing images: torch.Size([64, 3, 128, 128])\n"
     ]
    },
    {
     "name": "stderr",
     "output_type": "stream",
     "text": [
      "Epoch 26/30:  85%|██████████████████████████████████████████████████████████████████████████████████████▋               | 17/20 [00:05<00:00,  3.16it/s, loss=0.0475]"
     ]
    },
    {
     "name": "stdout",
     "output_type": "stream",
     "text": [
      "Before compressing images: torch.Size([64, 3, 128, 128])\n"
     ]
    },
    {
     "name": "stderr",
     "output_type": "stream",
     "text": [
      "Epoch 26/30:  90%|███████████████████████████████████████████████████████████████████████████████████████████▊          | 18/20 [00:05<00:00,  3.16it/s, loss=0.0372]"
     ]
    },
    {
     "name": "stdout",
     "output_type": "stream",
     "text": [
      "Before compressing images: torch.Size([64, 3, 128, 128])\n"
     ]
    },
    {
     "name": "stderr",
     "output_type": "stream",
     "text": [
      "Epoch 26/30:  95%|████████████████████████████████████████████████████████████████████████████████████████████████▉     | 19/20 [00:06<00:00,  3.16it/s, loss=0.0556]"
     ]
    },
    {
     "name": "stdout",
     "output_type": "stream",
     "text": [
      "Before compressing images: torch.Size([57, 3, 128, 128])\n"
     ]
    },
    {
     "name": "stderr",
     "output_type": "stream",
     "text": [
      "Epoch 26/30: 100%|██████████████████████████████████████████████████████████████████████████████████████████████████████| 20/20 [00:06<00:00,  3.17it/s, loss=0.0498]\n"
     ]
    },
    {
     "name": "stdout",
     "output_type": "stream",
     "text": [
      "Before compressing images: torch.Size([64, 3, 128, 128])\n",
      "Before compressing images: torch.Size([64, 3, 128, 128])\n",
      "Before compressing images: torch.Size([64, 3, 128, 128])\n",
      "Before compressing images: torch.Size([64, 3, 128, 128])\n",
      "Before compressing images: torch.Size([63, 3, 128, 128])\n",
      "Epoch [26/30] Train Loss: 0.0457 Val Loss: 0.046536067873239516\n"
     ]
    },
    {
     "name": "stderr",
     "output_type": "stream",
     "text": [
      "Epoch 27/30:   0%|                                                                                                                            | 0/20 [00:00<?, ?it/s]"
     ]
    },
    {
     "name": "stdout",
     "output_type": "stream",
     "text": [
      "Before compressing images: torch.Size([64, 3, 128, 128])\n"
     ]
    },
    {
     "name": "stderr",
     "output_type": "stream",
     "text": [
      "Epoch 27/30:   5%|█████▏                                                                                                 | 1/20 [00:00<00:05,  3.17it/s, loss=0.0344]"
     ]
    },
    {
     "name": "stdout",
     "output_type": "stream",
     "text": [
      "Before compressing images: torch.Size([64, 3, 128, 128])\n"
     ]
    },
    {
     "name": "stderr",
     "output_type": "stream",
     "text": [
      "Epoch 27/30:  10%|██████████▎                                                                                            | 2/20 [00:00<00:05,  3.14it/s, loss=0.0424]"
     ]
    },
    {
     "name": "stdout",
     "output_type": "stream",
     "text": [
      "Before compressing images: torch.Size([64, 3, 128, 128])\n"
     ]
    },
    {
     "name": "stderr",
     "output_type": "stream",
     "text": [
      "Epoch 27/30:  15%|███████████████▍                                                                                       | 3/20 [00:00<00:05,  3.15it/s, loss=0.0379]"
     ]
    },
    {
     "name": "stdout",
     "output_type": "stream",
     "text": [
      "Before compressing images: torch.Size([64, 3, 128, 128])\n"
     ]
    },
    {
     "name": "stderr",
     "output_type": "stream",
     "text": [
      "Epoch 27/30:  20%|████████████████████▌                                                                                  | 4/20 [00:01<00:05,  3.15it/s, loss=0.0371]"
     ]
    },
    {
     "name": "stdout",
     "output_type": "stream",
     "text": [
      "Before compressing images: torch.Size([64, 3, 128, 128])\n"
     ]
    },
    {
     "name": "stderr",
     "output_type": "stream",
     "text": [
      "Epoch 27/30:  25%|█████████████████████████▊                                                                             | 5/20 [00:01<00:04,  3.16it/s, loss=0.0405]"
     ]
    },
    {
     "name": "stdout",
     "output_type": "stream",
     "text": [
      "Before compressing images: torch.Size([64, 3, 128, 128])\n"
     ]
    },
    {
     "name": "stderr",
     "output_type": "stream",
     "text": [
      "Epoch 27/30:  30%|██████████████████████████████▉                                                                        | 6/20 [00:01<00:04,  3.16it/s, loss=0.0433]"
     ]
    },
    {
     "name": "stdout",
     "output_type": "stream",
     "text": [
      "Before compressing images: torch.Size([64, 3, 128, 128])\n"
     ]
    },
    {
     "name": "stderr",
     "output_type": "stream",
     "text": [
      "Epoch 27/30:  35%|████████████████████████████████████                                                                   | 7/20 [00:02<00:04,  3.17it/s, loss=0.0493]"
     ]
    },
    {
     "name": "stdout",
     "output_type": "stream",
     "text": [
      "Before compressing images: torch.Size([64, 3, 128, 128])\n"
     ]
    },
    {
     "name": "stderr",
     "output_type": "stream",
     "text": [
      "Epoch 27/30:  40%|█████████████████████████████████████████▏                                                             | 8/20 [00:02<00:03,  3.17it/s, loss=0.0344]"
     ]
    },
    {
     "name": "stdout",
     "output_type": "stream",
     "text": [
      "Before compressing images: torch.Size([64, 3, 128, 128])\n"
     ]
    },
    {
     "name": "stderr",
     "output_type": "stream",
     "text": [
      "Epoch 27/30:  45%|██████████████████████████████████████████████▎                                                        | 9/20 [00:02<00:03,  3.17it/s, loss=0.0366]"
     ]
    },
    {
     "name": "stdout",
     "output_type": "stream",
     "text": [
      "Before compressing images: torch.Size([64, 3, 128, 128])\n"
     ]
    },
    {
     "name": "stderr",
     "output_type": "stream",
     "text": [
      "Epoch 27/30:  50%|███████████████████████████████████████████████████                                                   | 10/20 [00:03<00:03,  3.16it/s, loss=0.0446]"
     ]
    },
    {
     "name": "stdout",
     "output_type": "stream",
     "text": [
      "Before compressing images: torch.Size([64, 3, 128, 128])\n"
     ]
    },
    {
     "name": "stderr",
     "output_type": "stream",
     "text": [
      "Epoch 27/30:  55%|████████████████████████████████████████████████████████                                              | 11/20 [00:03<00:02,  3.16it/s, loss=0.0448]"
     ]
    },
    {
     "name": "stdout",
     "output_type": "stream",
     "text": [
      "Before compressing images: torch.Size([64, 3, 128, 128])\n"
     ]
    },
    {
     "name": "stderr",
     "output_type": "stream",
     "text": [
      "Epoch 27/30:  60%|█████████████████████████████████████████████████████████████▊                                         | 12/20 [00:03<00:02,  3.16it/s, loss=0.026]"
     ]
    },
    {
     "name": "stdout",
     "output_type": "stream",
     "text": [
      "Before compressing images: torch.Size([64, 3, 128, 128])\n"
     ]
    },
    {
     "name": "stderr",
     "output_type": "stream",
     "text": [
      "Epoch 27/30:  65%|██████████████████████████████████████████████████████████████████▎                                   | 13/20 [00:04<00:02,  3.15it/s, loss=0.0362]"
     ]
    },
    {
     "name": "stdout",
     "output_type": "stream",
     "text": [
      "Before compressing images: torch.Size([64, 3, 128, 128])\n"
     ]
    },
    {
     "name": "stderr",
     "output_type": "stream",
     "text": [
      "Epoch 27/30:  70%|███████████████████████████████████████████████████████████████████████▍                              | 14/20 [00:04<00:01,  3.16it/s, loss=0.0433]"
     ]
    },
    {
     "name": "stdout",
     "output_type": "stream",
     "text": [
      "Before compressing images: torch.Size([64, 3, 128, 128])\n"
     ]
    },
    {
     "name": "stderr",
     "output_type": "stream",
     "text": [
      "Epoch 27/30:  75%|████████████████████████████████████████████████████████████████████████████▌                         | 15/20 [00:04<00:01,  3.16it/s, loss=0.0484]"
     ]
    },
    {
     "name": "stdout",
     "output_type": "stream",
     "text": [
      "Before compressing images: torch.Size([64, 3, 128, 128])\n"
     ]
    },
    {
     "name": "stderr",
     "output_type": "stream",
     "text": [
      "Epoch 27/30:  80%|██████████████████████████████████████████████████████████████████████████████████▍                    | 16/20 [00:05<00:01,  3.15it/s, loss=0.039]"
     ]
    },
    {
     "name": "stdout",
     "output_type": "stream",
     "text": [
      "Before compressing images: torch.Size([64, 3, 128, 128])\n"
     ]
    },
    {
     "name": "stderr",
     "output_type": "stream",
     "text": [
      "Epoch 27/30:  85%|██████████████████████████████████████████████████████████████████████████████████████▋               | 17/20 [00:05<00:00,  3.15it/s, loss=0.0449]"
     ]
    },
    {
     "name": "stdout",
     "output_type": "stream",
     "text": [
      "Before compressing images: torch.Size([64, 3, 128, 128])\n"
     ]
    },
    {
     "name": "stderr",
     "output_type": "stream",
     "text": [
      "Epoch 27/30:  90%|███████████████████████████████████████████████████████████████████████████████████████████▊          | 18/20 [00:05<00:00,  3.15it/s, loss=0.0447]"
     ]
    },
    {
     "name": "stdout",
     "output_type": "stream",
     "text": [
      "Before compressing images: torch.Size([64, 3, 128, 128])\n"
     ]
    },
    {
     "name": "stderr",
     "output_type": "stream",
     "text": [
      "Epoch 27/30:  95%|████████████████████████████████████████████████████████████████████████████████████████████████▉     | 19/20 [00:06<00:00,  3.13it/s, loss=0.0326]"
     ]
    },
    {
     "name": "stdout",
     "output_type": "stream",
     "text": [
      "Before compressing images: torch.Size([57, 3, 128, 128])\n"
     ]
    },
    {
     "name": "stderr",
     "output_type": "stream",
     "text": [
      "Epoch 27/30: 100%|██████████████████████████████████████████████████████████████████████████████████████████████████████| 20/20 [00:06<00:00,  3.16it/s, loss=0.0366]\n"
     ]
    },
    {
     "name": "stdout",
     "output_type": "stream",
     "text": [
      "Before compressing images: torch.Size([64, 3, 128, 128])\n",
      "Before compressing images: torch.Size([64, 3, 128, 128])\n",
      "Before compressing images: torch.Size([64, 3, 128, 128])\n",
      "Before compressing images: torch.Size([64, 3, 128, 128])\n",
      "Before compressing images: torch.Size([63, 3, 128, 128])\n",
      "Epoch [27/30] Train Loss: 0.0399 Val Loss: 0.043532685935497285\n"
     ]
    },
    {
     "name": "stderr",
     "output_type": "stream",
     "text": [
      "Epoch 28/30:   0%|                                                                                                                            | 0/20 [00:00<?, ?it/s]"
     ]
    },
    {
     "name": "stdout",
     "output_type": "stream",
     "text": [
      "Before compressing images: torch.Size([64, 3, 128, 128])\n"
     ]
    },
    {
     "name": "stderr",
     "output_type": "stream",
     "text": [
      "Epoch 28/30:   5%|█████▏                                                                                                 | 1/20 [00:00<00:05,  3.18it/s, loss=0.0448]"
     ]
    },
    {
     "name": "stdout",
     "output_type": "stream",
     "text": [
      "Before compressing images: torch.Size([64, 3, 128, 128])\n"
     ]
    },
    {
     "name": "stderr",
     "output_type": "stream",
     "text": [
      "Epoch 28/30:  10%|██████████▎                                                                                            | 2/20 [00:00<00:05,  3.18it/s, loss=0.0374]"
     ]
    },
    {
     "name": "stdout",
     "output_type": "stream",
     "text": [
      "Before compressing images: torch.Size([64, 3, 128, 128])\n"
     ]
    },
    {
     "name": "stderr",
     "output_type": "stream",
     "text": [
      "Epoch 28/30:  15%|███████████████▍                                                                                       | 3/20 [00:00<00:05,  3.18it/s, loss=0.0328]"
     ]
    },
    {
     "name": "stdout",
     "output_type": "stream",
     "text": [
      "Before compressing images: torch.Size([64, 3, 128, 128])\n"
     ]
    },
    {
     "name": "stderr",
     "output_type": "stream",
     "text": [
      "Epoch 28/30:  20%|████████████████████▊                                                                                   | 4/20 [00:01<00:05,  3.18it/s, loss=0.035]"
     ]
    },
    {
     "name": "stdout",
     "output_type": "stream",
     "text": [
      "Before compressing images: torch.Size([64, 3, 128, 128])\n"
     ]
    },
    {
     "name": "stderr",
     "output_type": "stream",
     "text": [
      "Epoch 28/30:  25%|█████████████████████████▊                                                                             | 5/20 [00:01<00:04,  3.17it/s, loss=0.0351]"
     ]
    },
    {
     "name": "stdout",
     "output_type": "stream",
     "text": [
      "Before compressing images: torch.Size([64, 3, 128, 128])\n"
     ]
    },
    {
     "name": "stderr",
     "output_type": "stream",
     "text": [
      "Epoch 28/30:  30%|██████████████████████████████▉                                                                        | 6/20 [00:01<00:04,  3.15it/s, loss=0.0467]"
     ]
    },
    {
     "name": "stdout",
     "output_type": "stream",
     "text": [
      "Before compressing images: torch.Size([64, 3, 128, 128])\n"
     ]
    },
    {
     "name": "stderr",
     "output_type": "stream",
     "text": [
      "Epoch 28/30:  35%|████████████████████████████████████                                                                   | 7/20 [00:02<00:04,  3.16it/s, loss=0.0399]"
     ]
    },
    {
     "name": "stdout",
     "output_type": "stream",
     "text": [
      "Before compressing images: torch.Size([64, 3, 128, 128])\n"
     ]
    },
    {
     "name": "stderr",
     "output_type": "stream",
     "text": [
      "Epoch 28/30:  40%|█████████████████████████████████████████▏                                                             | 8/20 [00:02<00:03,  3.16it/s, loss=0.0478]"
     ]
    },
    {
     "name": "stdout",
     "output_type": "stream",
     "text": [
      "Before compressing images: torch.Size([64, 3, 128, 128])\n"
     ]
    },
    {
     "name": "stderr",
     "output_type": "stream",
     "text": [
      "Epoch 28/30:  45%|██████████████████████████████████████████████▎                                                        | 9/20 [00:02<00:03,  3.16it/s, loss=0.0367]"
     ]
    },
    {
     "name": "stdout",
     "output_type": "stream",
     "text": [
      "Before compressing images: torch.Size([64, 3, 128, 128])\n"
     ]
    },
    {
     "name": "stderr",
     "output_type": "stream",
     "text": [
      "Epoch 28/30:  50%|███████████████████████████████████████████████████                                                   | 10/20 [00:03<00:03,  3.17it/s, loss=0.0339]"
     ]
    },
    {
     "name": "stdout",
     "output_type": "stream",
     "text": [
      "Before compressing images: torch.Size([64, 3, 128, 128])\n"
     ]
    },
    {
     "name": "stderr",
     "output_type": "stream",
     "text": [
      "Epoch 28/30:  55%|████████████████████████████████████████████████████████                                              | 11/20 [00:03<00:02,  3.17it/s, loss=0.0462]"
     ]
    },
    {
     "name": "stdout",
     "output_type": "stream",
     "text": [
      "Before compressing images: torch.Size([64, 3, 128, 128])\n"
     ]
    },
    {
     "name": "stderr",
     "output_type": "stream",
     "text": [
      "Epoch 28/30:  60%|█████████████████████████████████████████████████████████████▏                                        | 12/20 [00:03<00:02,  3.17it/s, loss=0.0394]"
     ]
    },
    {
     "name": "stdout",
     "output_type": "stream",
     "text": [
      "Before compressing images: torch.Size([64, 3, 128, 128])\n"
     ]
    },
    {
     "name": "stderr",
     "output_type": "stream",
     "text": [
      "Epoch 28/30:  65%|██████████████████████████████████████████████████████████████████▎                                   | 13/20 [00:04<00:02,  3.17it/s, loss=0.0477]"
     ]
    },
    {
     "name": "stdout",
     "output_type": "stream",
     "text": [
      "Before compressing images: torch.Size([64, 3, 128, 128])\n"
     ]
    },
    {
     "name": "stderr",
     "output_type": "stream",
     "text": [
      "Epoch 28/30:  70%|███████████████████████████████████████████████████████████████████████▍                              | 14/20 [00:04<00:01,  3.17it/s, loss=0.0375]"
     ]
    },
    {
     "name": "stdout",
     "output_type": "stream",
     "text": [
      "Before compressing images: torch.Size([64, 3, 128, 128])\n"
     ]
    },
    {
     "name": "stderr",
     "output_type": "stream",
     "text": [
      "Epoch 28/30:  75%|████████████████████████████████████████████████████████████████████████████▌                         | 15/20 [00:04<00:01,  3.18it/s, loss=0.0415]"
     ]
    },
    {
     "name": "stdout",
     "output_type": "stream",
     "text": [
      "Before compressing images: torch.Size([64, 3, 128, 128])\n"
     ]
    },
    {
     "name": "stderr",
     "output_type": "stream",
     "text": [
      "Epoch 28/30:  80%|█████████████████████████████████████████████████████████████████████████████████▌                    | 16/20 [00:05<00:01,  3.17it/s, loss=0.0292]"
     ]
    },
    {
     "name": "stdout",
     "output_type": "stream",
     "text": [
      "Before compressing images: torch.Size([64, 3, 128, 128])\n"
     ]
    },
    {
     "name": "stderr",
     "output_type": "stream",
     "text": [
      "Epoch 28/30:  85%|██████████████████████████████████████████████████████████████████████████████████████▋               | 17/20 [00:05<00:00,  3.17it/s, loss=0.0562]"
     ]
    },
    {
     "name": "stdout",
     "output_type": "stream",
     "text": [
      "Before compressing images: torch.Size([64, 3, 128, 128])\n"
     ]
    },
    {
     "name": "stderr",
     "output_type": "stream",
     "text": [
      "Epoch 28/30:  90%|███████████████████████████████████████████████████████████████████████████████████████████▊          | 18/20 [00:05<00:00,  3.18it/s, loss=0.0519]"
     ]
    },
    {
     "name": "stdout",
     "output_type": "stream",
     "text": [
      "Before compressing images: torch.Size([64, 3, 128, 128])\n"
     ]
    },
    {
     "name": "stderr",
     "output_type": "stream",
     "text": [
      "Epoch 28/30:  95%|████████████████████████████████████████████████████████████████████████████████████████████████▉     | 19/20 [00:05<00:00,  3.17it/s, loss=0.0339]"
     ]
    },
    {
     "name": "stdout",
     "output_type": "stream",
     "text": [
      "Before compressing images: torch.Size([57, 3, 128, 128])\n"
     ]
    },
    {
     "name": "stderr",
     "output_type": "stream",
     "text": [
      "Epoch 28/30: 100%|███████████████████████████████████████████████████████████████████████████████████████████████████████| 20/20 [00:06<00:00,  3.18it/s, loss=0.055]\n"
     ]
    },
    {
     "name": "stdout",
     "output_type": "stream",
     "text": [
      "Before compressing images: torch.Size([64, 3, 128, 128])\n",
      "Before compressing images: torch.Size([64, 3, 128, 128])\n",
      "Before compressing images: torch.Size([64, 3, 128, 128])\n",
      "Before compressing images: torch.Size([64, 3, 128, 128])\n",
      "Before compressing images: torch.Size([63, 3, 128, 128])\n",
      "Epoch [28/30] Train Loss: 0.0414 Val Loss: 0.04710516855120659\n"
     ]
    },
    {
     "name": "stderr",
     "output_type": "stream",
     "text": [
      "Epoch 29/30:   0%|                                                                                                                            | 0/20 [00:00<?, ?it/s]"
     ]
    },
    {
     "name": "stdout",
     "output_type": "stream",
     "text": [
      "Before compressing images: torch.Size([64, 3, 128, 128])\n"
     ]
    },
    {
     "name": "stderr",
     "output_type": "stream",
     "text": [
      "Epoch 29/30:   5%|█████▏                                                                                                 | 1/20 [00:00<00:06,  3.16it/s, loss=0.0486]"
     ]
    },
    {
     "name": "stdout",
     "output_type": "stream",
     "text": [
      "Before compressing images: torch.Size([64, 3, 128, 128])\n"
     ]
    },
    {
     "name": "stderr",
     "output_type": "stream",
     "text": [
      "Epoch 29/30:  10%|██████████▎                                                                                            | 2/20 [00:00<00:05,  3.17it/s, loss=0.0342]"
     ]
    },
    {
     "name": "stdout",
     "output_type": "stream",
     "text": [
      "Before compressing images: torch.Size([64, 3, 128, 128])\n"
     ]
    },
    {
     "name": "stderr",
     "output_type": "stream",
     "text": [
      "Epoch 29/30:  15%|███████████████▍                                                                                       | 3/20 [00:00<00:05,  3.17it/s, loss=0.0512]"
     ]
    },
    {
     "name": "stdout",
     "output_type": "stream",
     "text": [
      "Before compressing images: torch.Size([64, 3, 128, 128])\n"
     ]
    },
    {
     "name": "stderr",
     "output_type": "stream",
     "text": [
      "Epoch 29/30:  20%|████████████████████▊                                                                                   | 4/20 [00:01<00:05,  3.17it/s, loss=0.035]"
     ]
    },
    {
     "name": "stdout",
     "output_type": "stream",
     "text": [
      "Before compressing images: torch.Size([64, 3, 128, 128])\n"
     ]
    },
    {
     "name": "stderr",
     "output_type": "stream",
     "text": [
      "Epoch 29/30:  25%|█████████████████████████▊                                                                             | 5/20 [00:01<00:04,  3.17it/s, loss=0.0361]"
     ]
    },
    {
     "name": "stdout",
     "output_type": "stream",
     "text": [
      "Before compressing images: torch.Size([64, 3, 128, 128])\n"
     ]
    },
    {
     "name": "stderr",
     "output_type": "stream",
     "text": [
      "Epoch 29/30:  30%|██████████████████████████████▉                                                                        | 6/20 [00:01<00:04,  3.16it/s, loss=0.0432]"
     ]
    },
    {
     "name": "stdout",
     "output_type": "stream",
     "text": [
      "Before compressing images: torch.Size([64, 3, 128, 128])\n"
     ]
    },
    {
     "name": "stderr",
     "output_type": "stream",
     "text": [
      "Epoch 29/30:  35%|████████████████████████████████████                                                                   | 7/20 [00:02<00:04,  3.17it/s, loss=0.0386]"
     ]
    },
    {
     "name": "stdout",
     "output_type": "stream",
     "text": [
      "Before compressing images: torch.Size([64, 3, 128, 128])\n"
     ]
    },
    {
     "name": "stderr",
     "output_type": "stream",
     "text": [
      "Epoch 29/30:  40%|█████████████████████████████████████████▏                                                             | 8/20 [00:02<00:03,  3.16it/s, loss=0.0383]"
     ]
    },
    {
     "name": "stdout",
     "output_type": "stream",
     "text": [
      "Before compressing images: torch.Size([64, 3, 128, 128])\n"
     ]
    },
    {
     "name": "stderr",
     "output_type": "stream",
     "text": [
      "Epoch 29/30:  45%|██████████████████████████████████████████████▎                                                        | 9/20 [00:02<00:03,  3.15it/s, loss=0.0369]"
     ]
    },
    {
     "name": "stdout",
     "output_type": "stream",
     "text": [
      "Before compressing images: torch.Size([64, 3, 128, 128])\n"
     ]
    },
    {
     "name": "stderr",
     "output_type": "stream",
     "text": [
      "Epoch 29/30:  50%|███████████████████████████████████████████████████                                                   | 10/20 [00:03<00:03,  3.15it/s, loss=0.0429]"
     ]
    },
    {
     "name": "stdout",
     "output_type": "stream",
     "text": [
      "Before compressing images: torch.Size([64, 3, 128, 128])\n"
     ]
    },
    {
     "name": "stderr",
     "output_type": "stream",
     "text": [
      "Epoch 29/30:  55%|████████████████████████████████████████████████████████                                              | 11/20 [00:03<00:02,  3.16it/s, loss=0.0389]"
     ]
    },
    {
     "name": "stdout",
     "output_type": "stream",
     "text": [
      "Before compressing images: torch.Size([64, 3, 128, 128])\n"
     ]
    },
    {
     "name": "stderr",
     "output_type": "stream",
     "text": [
      "Epoch 29/30:  60%|█████████████████████████████████████████████████████████████▏                                        | 12/20 [00:03<00:02,  3.15it/s, loss=0.0284]"
     ]
    },
    {
     "name": "stdout",
     "output_type": "stream",
     "text": [
      "Before compressing images: torch.Size([64, 3, 128, 128])\n"
     ]
    },
    {
     "name": "stderr",
     "output_type": "stream",
     "text": [
      "Epoch 29/30:  65%|██████████████████████████████████████████████████████████████████▎                                   | 13/20 [00:04<00:02,  3.16it/s, loss=0.0469]"
     ]
    },
    {
     "name": "stdout",
     "output_type": "stream",
     "text": [
      "Before compressing images: torch.Size([64, 3, 128, 128])\n"
     ]
    },
    {
     "name": "stderr",
     "output_type": "stream",
     "text": [
      "Epoch 29/30:  70%|███████████████████████████████████████████████████████████████████████▍                              | 14/20 [00:04<00:01,  3.16it/s, loss=0.0284]"
     ]
    },
    {
     "name": "stdout",
     "output_type": "stream",
     "text": [
      "Before compressing images: torch.Size([64, 3, 128, 128])\n"
     ]
    },
    {
     "name": "stderr",
     "output_type": "stream",
     "text": [
      "Epoch 29/30:  75%|█████████████████████████████████████████████████████████████████████████████▎                         | 15/20 [00:04<00:01,  3.17it/s, loss=0.037]"
     ]
    },
    {
     "name": "stdout",
     "output_type": "stream",
     "text": [
      "Before compressing images: torch.Size([64, 3, 128, 128])\n"
     ]
    },
    {
     "name": "stderr",
     "output_type": "stream",
     "text": [
      "Epoch 29/30:  80%|█████████████████████████████████████████████████████████████████████████████████▌                    | 16/20 [00:05<00:01,  3.17it/s, loss=0.0506]"
     ]
    },
    {
     "name": "stdout",
     "output_type": "stream",
     "text": [
      "Before compressing images: torch.Size([64, 3, 128, 128])\n"
     ]
    },
    {
     "name": "stderr",
     "output_type": "stream",
     "text": [
      "Epoch 29/30:  85%|██████████████████████████████████████████████████████████████████████████████████████▋               | 17/20 [00:05<00:00,  3.17it/s, loss=0.0393]"
     ]
    },
    {
     "name": "stdout",
     "output_type": "stream",
     "text": [
      "Before compressing images: torch.Size([64, 3, 128, 128])\n"
     ]
    },
    {
     "name": "stderr",
     "output_type": "stream",
     "text": [
      "Epoch 29/30:  90%|███████████████████████████████████████████████████████████████████████████████████████████▊          | 18/20 [00:05<00:00,  3.17it/s, loss=0.0337]"
     ]
    },
    {
     "name": "stdout",
     "output_type": "stream",
     "text": [
      "Before compressing images: torch.Size([64, 3, 128, 128])\n"
     ]
    },
    {
     "name": "stderr",
     "output_type": "stream",
     "text": [
      "Epoch 29/30:  95%|████████████████████████████████████████████████████████████████████████████████████████████████▉     | 19/20 [00:06<00:00,  3.17it/s, loss=0.0339]"
     ]
    },
    {
     "name": "stdout",
     "output_type": "stream",
     "text": [
      "Before compressing images: torch.Size([57, 3, 128, 128])\n"
     ]
    },
    {
     "name": "stderr",
     "output_type": "stream",
     "text": [
      "Epoch 29/30: 100%|██████████████████████████████████████████████████████████████████████████████████████████████████████| 20/20 [00:06<00:00,  3.17it/s, loss=0.0384]\n"
     ]
    },
    {
     "name": "stdout",
     "output_type": "stream",
     "text": [
      "Before compressing images: torch.Size([64, 3, 128, 128])\n",
      "Before compressing images: torch.Size([64, 3, 128, 128])\n",
      "Before compressing images: torch.Size([64, 3, 128, 128])\n",
      "Before compressing images: torch.Size([64, 3, 128, 128])\n",
      "Before compressing images: torch.Size([63, 3, 128, 128])\n",
      "Epoch [29/30] Train Loss: 0.0390 Val Loss: 0.04275396689772606\n"
     ]
    },
    {
     "name": "stderr",
     "output_type": "stream",
     "text": [
      "Epoch 30/30:   0%|                                                                                                                            | 0/20 [00:00<?, ?it/s]"
     ]
    },
    {
     "name": "stdout",
     "output_type": "stream",
     "text": [
      "Before compressing images: torch.Size([64, 3, 128, 128])\n"
     ]
    },
    {
     "name": "stderr",
     "output_type": "stream",
     "text": [
      "Epoch 30/30:   5%|█████▏                                                                                                 | 1/20 [00:00<00:05,  3.17it/s, loss=0.0324]"
     ]
    },
    {
     "name": "stdout",
     "output_type": "stream",
     "text": [
      "Before compressing images: torch.Size([64, 3, 128, 128])\n"
     ]
    },
    {
     "name": "stderr",
     "output_type": "stream",
     "text": [
      "Epoch 30/30:  10%|██████████▎                                                                                            | 2/20 [00:00<00:05,  3.18it/s, loss=0.0343]"
     ]
    },
    {
     "name": "stdout",
     "output_type": "stream",
     "text": [
      "Before compressing images: torch.Size([64, 3, 128, 128])\n"
     ]
    },
    {
     "name": "stderr",
     "output_type": "stream",
     "text": [
      "Epoch 30/30:  15%|███████████████▍                                                                                       | 3/20 [00:00<00:05,  3.18it/s, loss=0.0324]"
     ]
    },
    {
     "name": "stdout",
     "output_type": "stream",
     "text": [
      "Before compressing images: torch.Size([64, 3, 128, 128])\n"
     ]
    },
    {
     "name": "stderr",
     "output_type": "stream",
     "text": [
      "Epoch 30/30:  20%|████████████████████▌                                                                                  | 4/20 [00:01<00:05,  3.17it/s, loss=0.0351]"
     ]
    },
    {
     "name": "stdout",
     "output_type": "stream",
     "text": [
      "Before compressing images: torch.Size([64, 3, 128, 128])\n"
     ]
    },
    {
     "name": "stderr",
     "output_type": "stream",
     "text": [
      "Epoch 30/30:  25%|█████████████████████████▊                                                                             | 5/20 [00:01<00:04,  3.17it/s, loss=0.0392]"
     ]
    },
    {
     "name": "stdout",
     "output_type": "stream",
     "text": [
      "Before compressing images: torch.Size([64, 3, 128, 128])\n"
     ]
    },
    {
     "name": "stderr",
     "output_type": "stream",
     "text": [
      "Epoch 30/30:  30%|██████████████████████████████▉                                                                        | 6/20 [00:01<00:04,  3.17it/s, loss=0.0357]"
     ]
    },
    {
     "name": "stdout",
     "output_type": "stream",
     "text": [
      "Before compressing images: torch.Size([64, 3, 128, 128])\n"
     ]
    },
    {
     "name": "stderr",
     "output_type": "stream",
     "text": [
      "Epoch 30/30:  35%|████████████████████████████████████                                                                   | 7/20 [00:02<00:04,  3.17it/s, loss=0.0355]"
     ]
    },
    {
     "name": "stdout",
     "output_type": "stream",
     "text": [
      "Before compressing images: torch.Size([64, 3, 128, 128])\n"
     ]
    },
    {
     "name": "stderr",
     "output_type": "stream",
     "text": [
      "Epoch 30/30:  40%|█████████████████████████████████████████▏                                                             | 8/20 [00:02<00:03,  3.16it/s, loss=0.0544]"
     ]
    },
    {
     "name": "stdout",
     "output_type": "stream",
     "text": [
      "Before compressing images: torch.Size([64, 3, 128, 128])\n"
     ]
    },
    {
     "name": "stderr",
     "output_type": "stream",
     "text": [
      "Epoch 30/30:  45%|██████████████████████████████████████████████▎                                                        | 9/20 [00:02<00:03,  3.15it/s, loss=0.0423]"
     ]
    },
    {
     "name": "stdout",
     "output_type": "stream",
     "text": [
      "Before compressing images: torch.Size([64, 3, 128, 128])\n"
     ]
    },
    {
     "name": "stderr",
     "output_type": "stream",
     "text": [
      "Epoch 30/30:  50%|███████████████████████████████████████████████████                                                   | 10/20 [00:03<00:03,  3.16it/s, loss=0.0346]"
     ]
    },
    {
     "name": "stdout",
     "output_type": "stream",
     "text": [
      "Before compressing images: torch.Size([64, 3, 128, 128])\n"
     ]
    },
    {
     "name": "stderr",
     "output_type": "stream",
     "text": [
      "Epoch 30/30:  55%|████████████████████████████████████████████████████████                                              | 11/20 [00:03<00:02,  3.16it/s, loss=0.0346]"
     ]
    },
    {
     "name": "stdout",
     "output_type": "stream",
     "text": [
      "Before compressing images: torch.Size([64, 3, 128, 128])\n"
     ]
    },
    {
     "name": "stderr",
     "output_type": "stream",
     "text": [
      "Epoch 30/30:  60%|█████████████████████████████████████████████████████████████▏                                        | 12/20 [00:03<00:02,  3.17it/s, loss=0.0377]"
     ]
    },
    {
     "name": "stdout",
     "output_type": "stream",
     "text": [
      "Before compressing images: torch.Size([64, 3, 128, 128])\n"
     ]
    },
    {
     "name": "stderr",
     "output_type": "stream",
     "text": [
      "Epoch 30/30:  65%|██████████████████████████████████████████████████████████████████▎                                   | 13/20 [00:04<00:02,  3.16it/s, loss=0.0302]"
     ]
    },
    {
     "name": "stdout",
     "output_type": "stream",
     "text": [
      "Before compressing images: torch.Size([64, 3, 128, 128])\n"
     ]
    },
    {
     "name": "stderr",
     "output_type": "stream",
     "text": [
      "Epoch 30/30:  70%|███████████████████████████████████████████████████████████████████████▍                              | 14/20 [00:04<00:01,  3.16it/s, loss=0.0481]"
     ]
    },
    {
     "name": "stdout",
     "output_type": "stream",
     "text": [
      "Before compressing images: torch.Size([64, 3, 128, 128])\n"
     ]
    },
    {
     "name": "stderr",
     "output_type": "stream",
     "text": [
      "Epoch 30/30:  75%|████████████████████████████████████████████████████████████████████████████▌                         | 15/20 [00:04<00:01,  3.17it/s, loss=0.0356]"
     ]
    },
    {
     "name": "stdout",
     "output_type": "stream",
     "text": [
      "Before compressing images: torch.Size([64, 3, 128, 128])\n"
     ]
    },
    {
     "name": "stderr",
     "output_type": "stream",
     "text": [
      "Epoch 30/30:  80%|█████████████████████████████████████████████████████████████████████████████████▌                    | 16/20 [00:05<00:01,  3.17it/s, loss=0.0575]"
     ]
    },
    {
     "name": "stdout",
     "output_type": "stream",
     "text": [
      "Before compressing images: torch.Size([64, 3, 128, 128])\n"
     ]
    },
    {
     "name": "stderr",
     "output_type": "stream",
     "text": [
      "Epoch 30/30:  85%|██████████████████████████████████████████████████████████████████████████████████████▋               | 17/20 [00:05<00:00,  3.17it/s, loss=0.0307]"
     ]
    },
    {
     "name": "stdout",
     "output_type": "stream",
     "text": [
      "Before compressing images: torch.Size([64, 3, 128, 128])\n"
     ]
    },
    {
     "name": "stderr",
     "output_type": "stream",
     "text": [
      "Epoch 30/30:  90%|████████████████████████████████████████████████████████████████████████████████████████████▋          | 18/20 [00:05<00:00,  3.17it/s, loss=0.039]"
     ]
    },
    {
     "name": "stdout",
     "output_type": "stream",
     "text": [
      "Before compressing images: torch.Size([64, 3, 128, 128])\n"
     ]
    },
    {
     "name": "stderr",
     "output_type": "stream",
     "text": [
      "Epoch 30/30:  95%|████████████████████████████████████████████████████████████████████████████████████████████████▉     | 19/20 [00:06<00:00,  3.15it/s, loss=0.0364]"
     ]
    },
    {
     "name": "stdout",
     "output_type": "stream",
     "text": [
      "Before compressing images: torch.Size([57, 3, 128, 128])\n"
     ]
    },
    {
     "name": "stderr",
     "output_type": "stream",
     "text": [
      "Epoch 30/30: 100%|██████████████████████████████████████████████████████████████████████████████████████████████████████| 20/20 [00:06<00:00,  3.17it/s, loss=0.0373]\n"
     ]
    },
    {
     "name": "stdout",
     "output_type": "stream",
     "text": [
      "Before compressing images: torch.Size([64, 3, 128, 128])\n",
      "Before compressing images: torch.Size([64, 3, 128, 128])\n",
      "Before compressing images: torch.Size([64, 3, 128, 128])\n",
      "Before compressing images: torch.Size([64, 3, 128, 128])\n",
      "Before compressing images: torch.Size([63, 3, 128, 128])\n",
      "Epoch [30/30] Train Loss: 0.0381 Val Loss: 0.04897579252719879\n"
     ]
    }
   ],
   "source": [
    "epochs = config[\"training\"][\"epochs\"]\n",
    "lr = config[\"training\"][\"learning_rate\"]\n",
    "wandb_cfg = {\n",
    "    \"project\": config[\"wandb\"][\"project\"],\n",
    "    \"entity\": config[\"wandb\"][\"entity\"],\n",
    "    \"name\": config['wandb']['run_name'],\n",
    "    \"config\": config\n",
    "}\n",
    "\n",
    "train_losses, val_losses = model.train(\n",
    "    train_dataloader=train_dataloader,\n",
    "    val_dataloader=val_dataloader,\n",
    "    epochs=epochs,\n",
    "    lr=lr,\n",
    "    wandb_config=wandb_cfg,\n",
    ")"
   ]
  },
  {
   "cell_type": "code",
   "execution_count": 30,
   "metadata": {},
   "outputs": [
    {
     "data": {
      "text/plain": [
       "<src.diffusion.model_with_latents.LatentDiffusionModel at 0x7fa6297c7910>"
      ]
     },
     "execution_count": 30,
     "metadata": {},
     "output_type": "execute_result"
    }
   ],
   "source": [
    "model"
   ]
  },
  {
   "cell_type": "code",
   "execution_count": 31,
   "metadata": {},
   "outputs": [
    {
     "ename": "OutOfMemoryError",
     "evalue": "CUDA out of memory. Tried to allocate 16.00 GiB. GPU 0 has a total capacity of 31.74 GiB of which 5.92 GiB is free. Including non-PyTorch memory, this process has 25.82 GiB memory in use. Of the allocated memory 24.43 GiB is allocated by PyTorch, and 1.01 GiB is reserved by PyTorch but unallocated. If reserved but unallocated memory is large try setting PYTORCH_CUDA_ALLOC_CONF=expandable_segments:True to avoid fragmentation.  See documentation for Memory Management  (https://pytorch.org/docs/stable/notes/cuda.html#environment-variables)",
     "output_type": "error",
     "traceback": [
      "\u001b[0;31m---------------------------------------------------------------------------\u001b[0m",
      "\u001b[0;31mOutOfMemoryError\u001b[0m                          Traceback (most recent call last)",
      "Cell \u001b[0;32mIn[31], line 4\u001b[0m\n\u001b[1;32m      1\u001b[0m n_images \u001b[38;5;241m=\u001b[39m \u001b[38;5;241m8\u001b[39m\n\u001b[1;32m      2\u001b[0m num_inference_steps \u001b[38;5;241m=\u001b[39m \u001b[38;5;241m1000\u001b[39m\n\u001b[0;32m----> 4\u001b[0m sample \u001b[38;5;241m=\u001b[39m \u001b[43mmodel\u001b[49m\u001b[38;5;241;43m.\u001b[39;49m\u001b[43mgenerate_images\u001b[49m\u001b[43m(\u001b[49m\u001b[43mn_images\u001b[49m\u001b[43m,\u001b[49m\u001b[43m \u001b[49m\u001b[43mnum_inference_steps\u001b[49m\u001b[43m)\u001b[49m\n\u001b[1;32m      6\u001b[0m show_images(sample)\n",
      "File \u001b[0;32m~/DiffusionArcade/src/diffusion/model_with_latents.py:214\u001b[0m, in \u001b[0;36mLatentDiffusionModel.generate_images\u001b[0;34m(self, n_samples, num_inference_steps)\u001b[0m\n\u001b[1;32m    212\u001b[0m \u001b[38;5;250m\u001b[39m\u001b[38;5;124;03m\"\"\"Generate images by sampling latents then decoding\"\"\"\u001b[39;00m\n\u001b[1;32m    213\u001b[0m lat \u001b[38;5;241m=\u001b[39m \u001b[38;5;28mself\u001b[39m\u001b[38;5;241m.\u001b[39mgenerate_latents(n_samples, num_inference_steps)\n\u001b[0;32m--> 214\u001b[0m imgs \u001b[38;5;241m=\u001b[39m \u001b[38;5;28;43mself\u001b[39;49m\u001b[38;5;241;43m.\u001b[39;49m\u001b[43mdecode_latents\u001b[49m\u001b[43m(\u001b[49m\u001b[43mlat\u001b[49m\u001b[43m)\u001b[49m\n\u001b[1;32m    215\u001b[0m \u001b[38;5;28;01mreturn\u001b[39;00m imgs\n",
      "File \u001b[0;32m~/DiffusionArcade/src/diffusion/model_with_latents.py:202\u001b[0m, in \u001b[0;36mLatentDiffusionModel.decode_latents\u001b[0;34m(self, latents)\u001b[0m\n\u001b[1;32m    200\u001b[0m lat_scaled \u001b[38;5;241m=\u001b[39m latents \u001b[38;5;241m/\u001b[39m \u001b[38;5;28mself\u001b[39m\u001b[38;5;241m.\u001b[39mscale\n\u001b[1;32m    201\u001b[0m \u001b[38;5;28;01mwith\u001b[39;00m torch\u001b[38;5;241m.\u001b[39mno_grad():\n\u001b[0;32m--> 202\u001b[0m     imgs \u001b[38;5;241m=\u001b[39m \u001b[38;5;28;43mself\u001b[39;49m\u001b[38;5;241;43m.\u001b[39;49m\u001b[43mvae\u001b[49m\u001b[38;5;241;43m.\u001b[39;49m\u001b[43mdecode\u001b[49m\u001b[43m(\u001b[49m\u001b[43mlat_scaled\u001b[49m\u001b[43m)\u001b[49m\u001b[38;5;241m.\u001b[39msample\n\u001b[1;32m    203\u001b[0m \u001b[38;5;66;03m# imgs in [-1,1], convert to [0,1]\u001b[39;00m\n\u001b[1;32m    204\u001b[0m imgs \u001b[38;5;241m=\u001b[39m (imgs\u001b[38;5;241m.\u001b[39mclamp(\u001b[38;5;241m-\u001b[39m\u001b[38;5;241m1\u001b[39m,\u001b[38;5;241m1\u001b[39m) \u001b[38;5;241m+\u001b[39m \u001b[38;5;241m1\u001b[39m) \u001b[38;5;241m/\u001b[39m \u001b[38;5;241m2\u001b[39m\n",
      "File \u001b[0;32m~/miniconda3/envs/diffusion_arcade/lib/python3.10/site-packages/diffusers/utils/accelerate_utils.py:46\u001b[0m, in \u001b[0;36mapply_forward_hook.<locals>.wrapper\u001b[0;34m(self, *args, **kwargs)\u001b[0m\n\u001b[1;32m     44\u001b[0m \u001b[38;5;28;01mif\u001b[39;00m \u001b[38;5;28mhasattr\u001b[39m(\u001b[38;5;28mself\u001b[39m, \u001b[38;5;124m\"\u001b[39m\u001b[38;5;124m_hf_hook\u001b[39m\u001b[38;5;124m\"\u001b[39m) \u001b[38;5;129;01mand\u001b[39;00m \u001b[38;5;28mhasattr\u001b[39m(\u001b[38;5;28mself\u001b[39m\u001b[38;5;241m.\u001b[39m_hf_hook, \u001b[38;5;124m\"\u001b[39m\u001b[38;5;124mpre_forward\u001b[39m\u001b[38;5;124m\"\u001b[39m):\n\u001b[1;32m     45\u001b[0m     \u001b[38;5;28mself\u001b[39m\u001b[38;5;241m.\u001b[39m_hf_hook\u001b[38;5;241m.\u001b[39mpre_forward(\u001b[38;5;28mself\u001b[39m)\n\u001b[0;32m---> 46\u001b[0m \u001b[38;5;28;01mreturn\u001b[39;00m \u001b[43mmethod\u001b[49m\u001b[43m(\u001b[49m\u001b[38;5;28;43mself\u001b[39;49m\u001b[43m,\u001b[49m\u001b[43m \u001b[49m\u001b[38;5;241;43m*\u001b[39;49m\u001b[43margs\u001b[49m\u001b[43m,\u001b[49m\u001b[43m \u001b[49m\u001b[38;5;241;43m*\u001b[39;49m\u001b[38;5;241;43m*\u001b[39;49m\u001b[43mkwargs\u001b[49m\u001b[43m)\u001b[49m\n",
      "File \u001b[0;32m~/miniconda3/envs/diffusion_arcade/lib/python3.10/site-packages/diffusers/models/autoencoders/autoencoder_kl.py:323\u001b[0m, in \u001b[0;36mAutoencoderKL.decode\u001b[0;34m(self, z, return_dict, generator)\u001b[0m\n\u001b[1;32m    321\u001b[0m     decoded \u001b[38;5;241m=\u001b[39m torch\u001b[38;5;241m.\u001b[39mcat(decoded_slices)\n\u001b[1;32m    322\u001b[0m \u001b[38;5;28;01melse\u001b[39;00m:\n\u001b[0;32m--> 323\u001b[0m     decoded \u001b[38;5;241m=\u001b[39m \u001b[38;5;28;43mself\u001b[39;49m\u001b[38;5;241;43m.\u001b[39;49m\u001b[43m_decode\u001b[49m\u001b[43m(\u001b[49m\u001b[43mz\u001b[49m\u001b[43m)\u001b[49m\u001b[38;5;241m.\u001b[39msample\n\u001b[1;32m    325\u001b[0m \u001b[38;5;28;01mif\u001b[39;00m \u001b[38;5;129;01mnot\u001b[39;00m return_dict:\n\u001b[1;32m    326\u001b[0m     \u001b[38;5;28;01mreturn\u001b[39;00m (decoded,)\n",
      "File \u001b[0;32m~/miniconda3/envs/diffusion_arcade/lib/python3.10/site-packages/diffusers/models/autoencoders/autoencoder_kl.py:294\u001b[0m, in \u001b[0;36mAutoencoderKL._decode\u001b[0;34m(self, z, return_dict)\u001b[0m\n\u001b[1;32m    291\u001b[0m \u001b[38;5;28;01mif\u001b[39;00m \u001b[38;5;28mself\u001b[39m\u001b[38;5;241m.\u001b[39mpost_quant_conv \u001b[38;5;129;01mis\u001b[39;00m \u001b[38;5;129;01mnot\u001b[39;00m \u001b[38;5;28;01mNone\u001b[39;00m:\n\u001b[1;32m    292\u001b[0m     z \u001b[38;5;241m=\u001b[39m \u001b[38;5;28mself\u001b[39m\u001b[38;5;241m.\u001b[39mpost_quant_conv(z)\n\u001b[0;32m--> 294\u001b[0m dec \u001b[38;5;241m=\u001b[39m \u001b[38;5;28;43mself\u001b[39;49m\u001b[38;5;241;43m.\u001b[39;49m\u001b[43mdecoder\u001b[49m\u001b[43m(\u001b[49m\u001b[43mz\u001b[49m\u001b[43m)\u001b[49m\n\u001b[1;32m    296\u001b[0m \u001b[38;5;28;01mif\u001b[39;00m \u001b[38;5;129;01mnot\u001b[39;00m return_dict:\n\u001b[1;32m    297\u001b[0m     \u001b[38;5;28;01mreturn\u001b[39;00m (dec,)\n",
      "File \u001b[0;32m~/miniconda3/envs/diffusion_arcade/lib/python3.10/site-packages/torch/nn/modules/module.py:1751\u001b[0m, in \u001b[0;36mModule._wrapped_call_impl\u001b[0;34m(self, *args, **kwargs)\u001b[0m\n\u001b[1;32m   1749\u001b[0m     \u001b[38;5;28;01mreturn\u001b[39;00m \u001b[38;5;28mself\u001b[39m\u001b[38;5;241m.\u001b[39m_compiled_call_impl(\u001b[38;5;241m*\u001b[39margs, \u001b[38;5;241m*\u001b[39m\u001b[38;5;241m*\u001b[39mkwargs)  \u001b[38;5;66;03m# type: ignore[misc]\u001b[39;00m\n\u001b[1;32m   1750\u001b[0m \u001b[38;5;28;01melse\u001b[39;00m:\n\u001b[0;32m-> 1751\u001b[0m     \u001b[38;5;28;01mreturn\u001b[39;00m \u001b[38;5;28;43mself\u001b[39;49m\u001b[38;5;241;43m.\u001b[39;49m\u001b[43m_call_impl\u001b[49m\u001b[43m(\u001b[49m\u001b[38;5;241;43m*\u001b[39;49m\u001b[43margs\u001b[49m\u001b[43m,\u001b[49m\u001b[43m \u001b[49m\u001b[38;5;241;43m*\u001b[39;49m\u001b[38;5;241;43m*\u001b[39;49m\u001b[43mkwargs\u001b[49m\u001b[43m)\u001b[49m\n",
      "File \u001b[0;32m~/miniconda3/envs/diffusion_arcade/lib/python3.10/site-packages/torch/nn/modules/module.py:1762\u001b[0m, in \u001b[0;36mModule._call_impl\u001b[0;34m(self, *args, **kwargs)\u001b[0m\n\u001b[1;32m   1757\u001b[0m \u001b[38;5;66;03m# If we don't have any hooks, we want to skip the rest of the logic in\u001b[39;00m\n\u001b[1;32m   1758\u001b[0m \u001b[38;5;66;03m# this function, and just call forward.\u001b[39;00m\n\u001b[1;32m   1759\u001b[0m \u001b[38;5;28;01mif\u001b[39;00m \u001b[38;5;129;01mnot\u001b[39;00m (\u001b[38;5;28mself\u001b[39m\u001b[38;5;241m.\u001b[39m_backward_hooks \u001b[38;5;129;01mor\u001b[39;00m \u001b[38;5;28mself\u001b[39m\u001b[38;5;241m.\u001b[39m_backward_pre_hooks \u001b[38;5;129;01mor\u001b[39;00m \u001b[38;5;28mself\u001b[39m\u001b[38;5;241m.\u001b[39m_forward_hooks \u001b[38;5;129;01mor\u001b[39;00m \u001b[38;5;28mself\u001b[39m\u001b[38;5;241m.\u001b[39m_forward_pre_hooks\n\u001b[1;32m   1760\u001b[0m         \u001b[38;5;129;01mor\u001b[39;00m _global_backward_pre_hooks \u001b[38;5;129;01mor\u001b[39;00m _global_backward_hooks\n\u001b[1;32m   1761\u001b[0m         \u001b[38;5;129;01mor\u001b[39;00m _global_forward_hooks \u001b[38;5;129;01mor\u001b[39;00m _global_forward_pre_hooks):\n\u001b[0;32m-> 1762\u001b[0m     \u001b[38;5;28;01mreturn\u001b[39;00m \u001b[43mforward_call\u001b[49m\u001b[43m(\u001b[49m\u001b[38;5;241;43m*\u001b[39;49m\u001b[43margs\u001b[49m\u001b[43m,\u001b[49m\u001b[43m \u001b[49m\u001b[38;5;241;43m*\u001b[39;49m\u001b[38;5;241;43m*\u001b[39;49m\u001b[43mkwargs\u001b[49m\u001b[43m)\u001b[49m\n\u001b[1;32m   1764\u001b[0m result \u001b[38;5;241m=\u001b[39m \u001b[38;5;28;01mNone\u001b[39;00m\n\u001b[1;32m   1765\u001b[0m called_always_called_hooks \u001b[38;5;241m=\u001b[39m \u001b[38;5;28mset\u001b[39m()\n",
      "File \u001b[0;32m~/miniconda3/envs/diffusion_arcade/lib/python3.10/site-packages/diffusers/models/autoencoders/vae.py:305\u001b[0m, in \u001b[0;36mDecoder.forward\u001b[0;34m(self, sample, latent_embeds)\u001b[0m\n\u001b[1;32m    303\u001b[0m     \u001b[38;5;66;03m# up\u001b[39;00m\n\u001b[1;32m    304\u001b[0m     \u001b[38;5;28;01mfor\u001b[39;00m up_block \u001b[38;5;129;01min\u001b[39;00m \u001b[38;5;28mself\u001b[39m\u001b[38;5;241m.\u001b[39mup_blocks:\n\u001b[0;32m--> 305\u001b[0m         sample \u001b[38;5;241m=\u001b[39m \u001b[43mup_block\u001b[49m\u001b[43m(\u001b[49m\u001b[43msample\u001b[49m\u001b[43m,\u001b[49m\u001b[43m \u001b[49m\u001b[43mlatent_embeds\u001b[49m\u001b[43m)\u001b[49m\n\u001b[1;32m    307\u001b[0m \u001b[38;5;66;03m# post-process\u001b[39;00m\n\u001b[1;32m    308\u001b[0m \u001b[38;5;28;01mif\u001b[39;00m latent_embeds \u001b[38;5;129;01mis\u001b[39;00m \u001b[38;5;28;01mNone\u001b[39;00m:\n",
      "File \u001b[0;32m~/miniconda3/envs/diffusion_arcade/lib/python3.10/site-packages/torch/nn/modules/module.py:1751\u001b[0m, in \u001b[0;36mModule._wrapped_call_impl\u001b[0;34m(self, *args, **kwargs)\u001b[0m\n\u001b[1;32m   1749\u001b[0m     \u001b[38;5;28;01mreturn\u001b[39;00m \u001b[38;5;28mself\u001b[39m\u001b[38;5;241m.\u001b[39m_compiled_call_impl(\u001b[38;5;241m*\u001b[39margs, \u001b[38;5;241m*\u001b[39m\u001b[38;5;241m*\u001b[39mkwargs)  \u001b[38;5;66;03m# type: ignore[misc]\u001b[39;00m\n\u001b[1;32m   1750\u001b[0m \u001b[38;5;28;01melse\u001b[39;00m:\n\u001b[0;32m-> 1751\u001b[0m     \u001b[38;5;28;01mreturn\u001b[39;00m \u001b[38;5;28;43mself\u001b[39;49m\u001b[38;5;241;43m.\u001b[39;49m\u001b[43m_call_impl\u001b[49m\u001b[43m(\u001b[49m\u001b[38;5;241;43m*\u001b[39;49m\u001b[43margs\u001b[49m\u001b[43m,\u001b[49m\u001b[43m \u001b[49m\u001b[38;5;241;43m*\u001b[39;49m\u001b[38;5;241;43m*\u001b[39;49m\u001b[43mkwargs\u001b[49m\u001b[43m)\u001b[49m\n",
      "File \u001b[0;32m~/miniconda3/envs/diffusion_arcade/lib/python3.10/site-packages/torch/nn/modules/module.py:1762\u001b[0m, in \u001b[0;36mModule._call_impl\u001b[0;34m(self, *args, **kwargs)\u001b[0m\n\u001b[1;32m   1757\u001b[0m \u001b[38;5;66;03m# If we don't have any hooks, we want to skip the rest of the logic in\u001b[39;00m\n\u001b[1;32m   1758\u001b[0m \u001b[38;5;66;03m# this function, and just call forward.\u001b[39;00m\n\u001b[1;32m   1759\u001b[0m \u001b[38;5;28;01mif\u001b[39;00m \u001b[38;5;129;01mnot\u001b[39;00m (\u001b[38;5;28mself\u001b[39m\u001b[38;5;241m.\u001b[39m_backward_hooks \u001b[38;5;129;01mor\u001b[39;00m \u001b[38;5;28mself\u001b[39m\u001b[38;5;241m.\u001b[39m_backward_pre_hooks \u001b[38;5;129;01mor\u001b[39;00m \u001b[38;5;28mself\u001b[39m\u001b[38;5;241m.\u001b[39m_forward_hooks \u001b[38;5;129;01mor\u001b[39;00m \u001b[38;5;28mself\u001b[39m\u001b[38;5;241m.\u001b[39m_forward_pre_hooks\n\u001b[1;32m   1760\u001b[0m         \u001b[38;5;129;01mor\u001b[39;00m _global_backward_pre_hooks \u001b[38;5;129;01mor\u001b[39;00m _global_backward_hooks\n\u001b[1;32m   1761\u001b[0m         \u001b[38;5;129;01mor\u001b[39;00m _global_forward_hooks \u001b[38;5;129;01mor\u001b[39;00m _global_forward_pre_hooks):\n\u001b[0;32m-> 1762\u001b[0m     \u001b[38;5;28;01mreturn\u001b[39;00m \u001b[43mforward_call\u001b[49m\u001b[43m(\u001b[49m\u001b[38;5;241;43m*\u001b[39;49m\u001b[43margs\u001b[49m\u001b[43m,\u001b[49m\u001b[43m \u001b[49m\u001b[38;5;241;43m*\u001b[39;49m\u001b[38;5;241;43m*\u001b[39;49m\u001b[43mkwargs\u001b[49m\u001b[43m)\u001b[49m\n\u001b[1;32m   1764\u001b[0m result \u001b[38;5;241m=\u001b[39m \u001b[38;5;28;01mNone\u001b[39;00m\n\u001b[1;32m   1765\u001b[0m called_always_called_hooks \u001b[38;5;241m=\u001b[39m \u001b[38;5;28mset\u001b[39m()\n",
      "File \u001b[0;32m~/miniconda3/envs/diffusion_arcade/lib/python3.10/site-packages/diffusers/models/unets/unet_2d_blocks.py:2643\u001b[0m, in \u001b[0;36mUpDecoderBlock2D.forward\u001b[0;34m(self, hidden_states, temb)\u001b[0m\n\u001b[1;32m   2641\u001b[0m \u001b[38;5;28;01mif\u001b[39;00m \u001b[38;5;28mself\u001b[39m\u001b[38;5;241m.\u001b[39mupsamplers \u001b[38;5;129;01mis\u001b[39;00m \u001b[38;5;129;01mnot\u001b[39;00m \u001b[38;5;28;01mNone\u001b[39;00m:\n\u001b[1;32m   2642\u001b[0m     \u001b[38;5;28;01mfor\u001b[39;00m upsampler \u001b[38;5;129;01min\u001b[39;00m \u001b[38;5;28mself\u001b[39m\u001b[38;5;241m.\u001b[39mupsamplers:\n\u001b[0;32m-> 2643\u001b[0m         hidden_states \u001b[38;5;241m=\u001b[39m \u001b[43mupsampler\u001b[49m\u001b[43m(\u001b[49m\u001b[43mhidden_states\u001b[49m\u001b[43m)\u001b[49m\n\u001b[1;32m   2645\u001b[0m \u001b[38;5;28;01mreturn\u001b[39;00m hidden_states\n",
      "File \u001b[0;32m~/miniconda3/envs/diffusion_arcade/lib/python3.10/site-packages/torch/nn/modules/module.py:1751\u001b[0m, in \u001b[0;36mModule._wrapped_call_impl\u001b[0;34m(self, *args, **kwargs)\u001b[0m\n\u001b[1;32m   1749\u001b[0m     \u001b[38;5;28;01mreturn\u001b[39;00m \u001b[38;5;28mself\u001b[39m\u001b[38;5;241m.\u001b[39m_compiled_call_impl(\u001b[38;5;241m*\u001b[39margs, \u001b[38;5;241m*\u001b[39m\u001b[38;5;241m*\u001b[39mkwargs)  \u001b[38;5;66;03m# type: ignore[misc]\u001b[39;00m\n\u001b[1;32m   1750\u001b[0m \u001b[38;5;28;01melse\u001b[39;00m:\n\u001b[0;32m-> 1751\u001b[0m     \u001b[38;5;28;01mreturn\u001b[39;00m \u001b[38;5;28;43mself\u001b[39;49m\u001b[38;5;241;43m.\u001b[39;49m\u001b[43m_call_impl\u001b[49m\u001b[43m(\u001b[49m\u001b[38;5;241;43m*\u001b[39;49m\u001b[43margs\u001b[49m\u001b[43m,\u001b[49m\u001b[43m \u001b[49m\u001b[38;5;241;43m*\u001b[39;49m\u001b[38;5;241;43m*\u001b[39;49m\u001b[43mkwargs\u001b[49m\u001b[43m)\u001b[49m\n",
      "File \u001b[0;32m~/miniconda3/envs/diffusion_arcade/lib/python3.10/site-packages/torch/nn/modules/module.py:1762\u001b[0m, in \u001b[0;36mModule._call_impl\u001b[0;34m(self, *args, **kwargs)\u001b[0m\n\u001b[1;32m   1757\u001b[0m \u001b[38;5;66;03m# If we don't have any hooks, we want to skip the rest of the logic in\u001b[39;00m\n\u001b[1;32m   1758\u001b[0m \u001b[38;5;66;03m# this function, and just call forward.\u001b[39;00m\n\u001b[1;32m   1759\u001b[0m \u001b[38;5;28;01mif\u001b[39;00m \u001b[38;5;129;01mnot\u001b[39;00m (\u001b[38;5;28mself\u001b[39m\u001b[38;5;241m.\u001b[39m_backward_hooks \u001b[38;5;129;01mor\u001b[39;00m \u001b[38;5;28mself\u001b[39m\u001b[38;5;241m.\u001b[39m_backward_pre_hooks \u001b[38;5;129;01mor\u001b[39;00m \u001b[38;5;28mself\u001b[39m\u001b[38;5;241m.\u001b[39m_forward_hooks \u001b[38;5;129;01mor\u001b[39;00m \u001b[38;5;28mself\u001b[39m\u001b[38;5;241m.\u001b[39m_forward_pre_hooks\n\u001b[1;32m   1760\u001b[0m         \u001b[38;5;129;01mor\u001b[39;00m _global_backward_pre_hooks \u001b[38;5;129;01mor\u001b[39;00m _global_backward_hooks\n\u001b[1;32m   1761\u001b[0m         \u001b[38;5;129;01mor\u001b[39;00m _global_forward_hooks \u001b[38;5;129;01mor\u001b[39;00m _global_forward_pre_hooks):\n\u001b[0;32m-> 1762\u001b[0m     \u001b[38;5;28;01mreturn\u001b[39;00m \u001b[43mforward_call\u001b[49m\u001b[43m(\u001b[49m\u001b[38;5;241;43m*\u001b[39;49m\u001b[43margs\u001b[49m\u001b[43m,\u001b[49m\u001b[43m \u001b[49m\u001b[38;5;241;43m*\u001b[39;49m\u001b[38;5;241;43m*\u001b[39;49m\u001b[43mkwargs\u001b[49m\u001b[43m)\u001b[49m\n\u001b[1;32m   1764\u001b[0m result \u001b[38;5;241m=\u001b[39m \u001b[38;5;28;01mNone\u001b[39;00m\n\u001b[1;32m   1765\u001b[0m called_always_called_hooks \u001b[38;5;241m=\u001b[39m \u001b[38;5;28mset\u001b[39m()\n",
      "File \u001b[0;32m~/miniconda3/envs/diffusion_arcade/lib/python3.10/site-packages/diffusers/models/upsampling.py:188\u001b[0m, in \u001b[0;36mUpsample2D.forward\u001b[0;34m(self, hidden_states, output_size, *args, **kwargs)\u001b[0m\n\u001b[1;32m    186\u001b[0m \u001b[38;5;28;01mif\u001b[39;00m \u001b[38;5;28mself\u001b[39m\u001b[38;5;241m.\u001b[39muse_conv:\n\u001b[1;32m    187\u001b[0m     \u001b[38;5;28;01mif\u001b[39;00m \u001b[38;5;28mself\u001b[39m\u001b[38;5;241m.\u001b[39mname \u001b[38;5;241m==\u001b[39m \u001b[38;5;124m\"\u001b[39m\u001b[38;5;124mconv\u001b[39m\u001b[38;5;124m\"\u001b[39m:\n\u001b[0;32m--> 188\u001b[0m         hidden_states \u001b[38;5;241m=\u001b[39m \u001b[38;5;28;43mself\u001b[39;49m\u001b[38;5;241;43m.\u001b[39;49m\u001b[43mconv\u001b[49m\u001b[43m(\u001b[49m\u001b[43mhidden_states\u001b[49m\u001b[43m)\u001b[49m\n\u001b[1;32m    189\u001b[0m     \u001b[38;5;28;01melse\u001b[39;00m:\n\u001b[1;32m    190\u001b[0m         hidden_states \u001b[38;5;241m=\u001b[39m \u001b[38;5;28mself\u001b[39m\u001b[38;5;241m.\u001b[39mConv2d_0(hidden_states)\n",
      "File \u001b[0;32m~/miniconda3/envs/diffusion_arcade/lib/python3.10/site-packages/torch/nn/modules/module.py:1751\u001b[0m, in \u001b[0;36mModule._wrapped_call_impl\u001b[0;34m(self, *args, **kwargs)\u001b[0m\n\u001b[1;32m   1749\u001b[0m     \u001b[38;5;28;01mreturn\u001b[39;00m \u001b[38;5;28mself\u001b[39m\u001b[38;5;241m.\u001b[39m_compiled_call_impl(\u001b[38;5;241m*\u001b[39margs, \u001b[38;5;241m*\u001b[39m\u001b[38;5;241m*\u001b[39mkwargs)  \u001b[38;5;66;03m# type: ignore[misc]\u001b[39;00m\n\u001b[1;32m   1750\u001b[0m \u001b[38;5;28;01melse\u001b[39;00m:\n\u001b[0;32m-> 1751\u001b[0m     \u001b[38;5;28;01mreturn\u001b[39;00m \u001b[38;5;28;43mself\u001b[39;49m\u001b[38;5;241;43m.\u001b[39;49m\u001b[43m_call_impl\u001b[49m\u001b[43m(\u001b[49m\u001b[38;5;241;43m*\u001b[39;49m\u001b[43margs\u001b[49m\u001b[43m,\u001b[49m\u001b[43m \u001b[49m\u001b[38;5;241;43m*\u001b[39;49m\u001b[38;5;241;43m*\u001b[39;49m\u001b[43mkwargs\u001b[49m\u001b[43m)\u001b[49m\n",
      "File \u001b[0;32m~/miniconda3/envs/diffusion_arcade/lib/python3.10/site-packages/torch/nn/modules/module.py:1762\u001b[0m, in \u001b[0;36mModule._call_impl\u001b[0;34m(self, *args, **kwargs)\u001b[0m\n\u001b[1;32m   1757\u001b[0m \u001b[38;5;66;03m# If we don't have any hooks, we want to skip the rest of the logic in\u001b[39;00m\n\u001b[1;32m   1758\u001b[0m \u001b[38;5;66;03m# this function, and just call forward.\u001b[39;00m\n\u001b[1;32m   1759\u001b[0m \u001b[38;5;28;01mif\u001b[39;00m \u001b[38;5;129;01mnot\u001b[39;00m (\u001b[38;5;28mself\u001b[39m\u001b[38;5;241m.\u001b[39m_backward_hooks \u001b[38;5;129;01mor\u001b[39;00m \u001b[38;5;28mself\u001b[39m\u001b[38;5;241m.\u001b[39m_backward_pre_hooks \u001b[38;5;129;01mor\u001b[39;00m \u001b[38;5;28mself\u001b[39m\u001b[38;5;241m.\u001b[39m_forward_hooks \u001b[38;5;129;01mor\u001b[39;00m \u001b[38;5;28mself\u001b[39m\u001b[38;5;241m.\u001b[39m_forward_pre_hooks\n\u001b[1;32m   1760\u001b[0m         \u001b[38;5;129;01mor\u001b[39;00m _global_backward_pre_hooks \u001b[38;5;129;01mor\u001b[39;00m _global_backward_hooks\n\u001b[1;32m   1761\u001b[0m         \u001b[38;5;129;01mor\u001b[39;00m _global_forward_hooks \u001b[38;5;129;01mor\u001b[39;00m _global_forward_pre_hooks):\n\u001b[0;32m-> 1762\u001b[0m     \u001b[38;5;28;01mreturn\u001b[39;00m \u001b[43mforward_call\u001b[49m\u001b[43m(\u001b[49m\u001b[38;5;241;43m*\u001b[39;49m\u001b[43margs\u001b[49m\u001b[43m,\u001b[49m\u001b[43m \u001b[49m\u001b[38;5;241;43m*\u001b[39;49m\u001b[38;5;241;43m*\u001b[39;49m\u001b[43mkwargs\u001b[49m\u001b[43m)\u001b[49m\n\u001b[1;32m   1764\u001b[0m result \u001b[38;5;241m=\u001b[39m \u001b[38;5;28;01mNone\u001b[39;00m\n\u001b[1;32m   1765\u001b[0m called_always_called_hooks \u001b[38;5;241m=\u001b[39m \u001b[38;5;28mset\u001b[39m()\n",
      "File \u001b[0;32m~/miniconda3/envs/diffusion_arcade/lib/python3.10/site-packages/torch/nn/modules/conv.py:554\u001b[0m, in \u001b[0;36mConv2d.forward\u001b[0;34m(self, input)\u001b[0m\n\u001b[1;32m    553\u001b[0m \u001b[38;5;28;01mdef\u001b[39;00m\u001b[38;5;250m \u001b[39m\u001b[38;5;21mforward\u001b[39m(\u001b[38;5;28mself\u001b[39m, \u001b[38;5;28minput\u001b[39m: Tensor) \u001b[38;5;241m-\u001b[39m\u001b[38;5;241m>\u001b[39m Tensor:\n\u001b[0;32m--> 554\u001b[0m     \u001b[38;5;28;01mreturn\u001b[39;00m \u001b[38;5;28;43mself\u001b[39;49m\u001b[38;5;241;43m.\u001b[39;49m\u001b[43m_conv_forward\u001b[49m\u001b[43m(\u001b[49m\u001b[38;5;28;43minput\u001b[39;49m\u001b[43m,\u001b[49m\u001b[43m \u001b[49m\u001b[38;5;28;43mself\u001b[39;49m\u001b[38;5;241;43m.\u001b[39;49m\u001b[43mweight\u001b[49m\u001b[43m,\u001b[49m\u001b[43m \u001b[49m\u001b[38;5;28;43mself\u001b[39;49m\u001b[38;5;241;43m.\u001b[39;49m\u001b[43mbias\u001b[49m\u001b[43m)\u001b[49m\n",
      "File \u001b[0;32m~/miniconda3/envs/diffusion_arcade/lib/python3.10/site-packages/torch/nn/modules/conv.py:549\u001b[0m, in \u001b[0;36mConv2d._conv_forward\u001b[0;34m(self, input, weight, bias)\u001b[0m\n\u001b[1;32m    537\u001b[0m \u001b[38;5;28;01mif\u001b[39;00m \u001b[38;5;28mself\u001b[39m\u001b[38;5;241m.\u001b[39mpadding_mode \u001b[38;5;241m!=\u001b[39m \u001b[38;5;124m\"\u001b[39m\u001b[38;5;124mzeros\u001b[39m\u001b[38;5;124m\"\u001b[39m:\n\u001b[1;32m    538\u001b[0m     \u001b[38;5;28;01mreturn\u001b[39;00m F\u001b[38;5;241m.\u001b[39mconv2d(\n\u001b[1;32m    539\u001b[0m         F\u001b[38;5;241m.\u001b[39mpad(\n\u001b[1;32m    540\u001b[0m             \u001b[38;5;28minput\u001b[39m, \u001b[38;5;28mself\u001b[39m\u001b[38;5;241m.\u001b[39m_reversed_padding_repeated_twice, mode\u001b[38;5;241m=\u001b[39m\u001b[38;5;28mself\u001b[39m\u001b[38;5;241m.\u001b[39mpadding_mode\n\u001b[0;32m   (...)\u001b[0m\n\u001b[1;32m    547\u001b[0m         \u001b[38;5;28mself\u001b[39m\u001b[38;5;241m.\u001b[39mgroups,\n\u001b[1;32m    548\u001b[0m     )\n\u001b[0;32m--> 549\u001b[0m \u001b[38;5;28;01mreturn\u001b[39;00m \u001b[43mF\u001b[49m\u001b[38;5;241;43m.\u001b[39;49m\u001b[43mconv2d\u001b[49m\u001b[43m(\u001b[49m\n\u001b[1;32m    550\u001b[0m \u001b[43m    \u001b[49m\u001b[38;5;28;43minput\u001b[39;49m\u001b[43m,\u001b[49m\u001b[43m \u001b[49m\u001b[43mweight\u001b[49m\u001b[43m,\u001b[49m\u001b[43m \u001b[49m\u001b[43mbias\u001b[49m\u001b[43m,\u001b[49m\u001b[43m \u001b[49m\u001b[38;5;28;43mself\u001b[39;49m\u001b[38;5;241;43m.\u001b[39;49m\u001b[43mstride\u001b[49m\u001b[43m,\u001b[49m\u001b[43m \u001b[49m\u001b[38;5;28;43mself\u001b[39;49m\u001b[38;5;241;43m.\u001b[39;49m\u001b[43mpadding\u001b[49m\u001b[43m,\u001b[49m\u001b[43m \u001b[49m\u001b[38;5;28;43mself\u001b[39;49m\u001b[38;5;241;43m.\u001b[39;49m\u001b[43mdilation\u001b[49m\u001b[43m,\u001b[49m\u001b[43m \u001b[49m\u001b[38;5;28;43mself\u001b[39;49m\u001b[38;5;241;43m.\u001b[39;49m\u001b[43mgroups\u001b[49m\n\u001b[1;32m    551\u001b[0m \u001b[43m\u001b[49m\u001b[43m)\u001b[49m\n",
      "\u001b[0;31mOutOfMemoryError\u001b[0m: CUDA out of memory. Tried to allocate 16.00 GiB. GPU 0 has a total capacity of 31.74 GiB of which 5.92 GiB is free. Including non-PyTorch memory, this process has 25.82 GiB memory in use. Of the allocated memory 24.43 GiB is allocated by PyTorch, and 1.01 GiB is reserved by PyTorch but unallocated. If reserved but unallocated memory is large try setting PYTORCH_CUDA_ALLOC_CONF=expandable_segments:True to avoid fragmentation.  See documentation for Memory Management  (https://pytorch.org/docs/stable/notes/cuda.html#environment-variables)"
     ]
    }
   ],
   "source": [
    "n_images = 8\n",
    "num_inference_steps = 1000\n",
    "\n",
    "sample = model.generate_images(n_images, num_inference_steps)\n",
    "\n",
    "show_images(sample)"
   ]
  },
  {
   "cell_type": "markdown",
   "metadata": {},
   "source": [
    "## References\n",
    "\n",
    "1. **Hugging Face Diffusion Course, Unit 0: Introduction to Diffusion Models**  \n",
    "   Available online: [https://huggingface.co/learn/diffusion-course/en/unit0/1](https://huggingface.co/learn/diffusion-course/en/unit0/1)\n",
    "\n",
    "2. **Ho, J., Jain, A., & Abbeel, P.** (2020). *Denoising Diffusion Probabilistic Models*.  \n",
    "   arXiv preprint arXiv:2006.11239. [PDF](https://arxiv.org/pdf/2006.11239)\n",
    "\n",
    "3. **Rombach, R., Blattmann, A., Lorenz, D., Esser, P., & Ommer, B.** (2022). *High-Resolution Image Synthesis with Latent Diffusion Models*.  \n",
    "   arXiv preprint arXiv:2208.11970. [PDF](https://arxiv.org/pdf/2208.11970)\n"
   ]
  }
 ],
 "metadata": {
  "kernelspec": {
   "display_name": "Python (diffusion_arcade)",
   "language": "python",
   "name": "diffusion_arcade"
  },
  "language_info": {
   "codemirror_mode": {
    "name": "ipython",
    "version": 3
   },
   "file_extension": ".py",
   "mimetype": "text/x-python",
   "name": "python",
   "nbconvert_exporter": "python",
   "pygments_lexer": "ipython3",
   "version": "3.10.16"
  }
 },
 "nbformat": 4,
 "nbformat_minor": 4
}
