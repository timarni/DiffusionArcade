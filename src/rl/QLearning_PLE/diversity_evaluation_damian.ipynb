{
 "cells": [
  {
   "cell_type": "code",
   "execution_count": 1,
   "id": "d9155410",
   "metadata": {},
   "outputs": [],
   "source": [
    "# ================================================\n",
    "# 🧹 1. Load CSV with Efficient Memory Usage\n",
    "# ================================================\n",
    "import pandas as pd\n",
    "import numpy as np\n",
    "import matplotlib.pyplot as plt\n",
    "import seaborn as sns\n",
    "import os\n",
    "import hashlib\n",
    "import matplotlib.pyplot as plt\n",
    "from collections import defaultdict\n",
    "from PIL import Image\n",
    "from sklearn.decomposition import PCA\n",
    "from sklearn.manifold import TSNE\n",
    "from sklearn.preprocessing import StandardScaler\n",
    "from scipy.spatial.distance import pdist, squareform\n",
    "import warnings\n",
    "warnings.filterwarnings('ignore')\n"
   ]
  },
  {
   "cell_type": "code",
   "execution_count": 2,
   "id": "0b86f4c8",
   "metadata": {},
   "outputs": [
    {
     "name": "stdout",
     "output_type": "stream",
     "text": [
      "Loaded dataset with 723728 steps\n"
     ]
    },
    {
     "data": {
      "text/html": [
       "<div>\n",
       "<style scoped>\n",
       "    .dataframe tbody tr th:only-of-type {\n",
       "        vertical-align: middle;\n",
       "    }\n",
       "\n",
       "    .dataframe tbody tr th {\n",
       "        vertical-align: top;\n",
       "    }\n",
       "\n",
       "    .dataframe thead th {\n",
       "        text-align: right;\n",
       "    }\n",
       "</style>\n",
       "<table border=\"1\" class=\"dataframe\">\n",
       "  <thead>\n",
       "    <tr style=\"text-align: right;\">\n",
       "      <th></th>\n",
       "      <th>episode</th>\n",
       "      <th>step</th>\n",
       "      <th>player_y</th>\n",
       "      <th>player_vel</th>\n",
       "      <th>cpu_y</th>\n",
       "      <th>ball_x</th>\n",
       "      <th>ball_y</th>\n",
       "      <th>ball_vel_x</th>\n",
       "      <th>ball_vel_y</th>\n",
       "      <th>reward</th>\n",
       "      <th>action</th>\n",
       "    </tr>\n",
       "  </thead>\n",
       "  <tbody>\n",
       "    <tr>\n",
       "      <th>0</th>\n",
       "      <td>4501</td>\n",
       "      <td>0</td>\n",
       "      <td>24.000000</td>\n",
       "      <td>0.000000</td>\n",
       "      <td>24.004</td>\n",
       "      <td>31.968000</td>\n",
       "      <td>24.011843</td>\n",
       "      <td>-0.96</td>\n",
       "      <td>0.355285</td>\n",
       "      <td>0.000000e+00</td>\n",
       "      <td>2</td>\n",
       "    </tr>\n",
       "    <tr>\n",
       "      <th>1</th>\n",
       "      <td>4501</td>\n",
       "      <td>20</td>\n",
       "      <td>26.612345</td>\n",
       "      <td>0.189739</td>\n",
       "      <td>24.004</td>\n",
       "      <td>31.327999</td>\n",
       "      <td>24.248699</td>\n",
       "      <td>-0.96</td>\n",
       "      <td>0.355285</td>\n",
       "      <td>-1.868216e-07</td>\n",
       "      <td>1</td>\n",
       "    </tr>\n",
       "    <tr>\n",
       "      <th>2</th>\n",
       "      <td>4501</td>\n",
       "      <td>40</td>\n",
       "      <td>30.724733</td>\n",
       "      <td>0.212807</td>\n",
       "      <td>24.004</td>\n",
       "      <td>30.688000</td>\n",
       "      <td>24.485556</td>\n",
       "      <td>-0.96</td>\n",
       "      <td>0.355285</td>\n",
       "      <td>-2.124526e-07</td>\n",
       "      <td>1</td>\n",
       "    </tr>\n",
       "    <tr>\n",
       "      <th>3</th>\n",
       "      <td>4501</td>\n",
       "      <td>60</td>\n",
       "      <td>31.970043</td>\n",
       "      <td>-0.117560</td>\n",
       "      <td>24.004</td>\n",
       "      <td>30.048000</td>\n",
       "      <td>24.722414</td>\n",
       "      <td>-0.96</td>\n",
       "      <td>0.355285</td>\n",
       "      <td>-1.066227e-07</td>\n",
       "      <td>0</td>\n",
       "    </tr>\n",
       "    <tr>\n",
       "      <th>4</th>\n",
       "      <td>4501</td>\n",
       "      <td>80</td>\n",
       "      <td>32.002453</td>\n",
       "      <td>-0.073161</td>\n",
       "      <td>24.004</td>\n",
       "      <td>29.408001</td>\n",
       "      <td>24.959270</td>\n",
       "      <td>-0.96</td>\n",
       "      <td>0.355285</td>\n",
       "      <td>-5.729037e-08</td>\n",
       "      <td>0</td>\n",
       "    </tr>\n",
       "  </tbody>\n",
       "</table>\n",
       "</div>"
      ],
      "text/plain": [
       "   episode  step   player_y  player_vel   cpu_y     ball_x     ball_y  \\\n",
       "0     4501     0  24.000000    0.000000  24.004  31.968000  24.011843   \n",
       "1     4501    20  26.612345    0.189739  24.004  31.327999  24.248699   \n",
       "2     4501    40  30.724733    0.212807  24.004  30.688000  24.485556   \n",
       "3     4501    60  31.970043   -0.117560  24.004  30.048000  24.722414   \n",
       "4     4501    80  32.002453   -0.073161  24.004  29.408001  24.959270   \n",
       "\n",
       "   ball_vel_x  ball_vel_y        reward  action  \n",
       "0       -0.96    0.355285  0.000000e+00       2  \n",
       "1       -0.96    0.355285 -1.868216e-07       1  \n",
       "2       -0.96    0.355285 -2.124526e-07       1  \n",
       "3       -0.96    0.355285 -1.066227e-07       0  \n",
       "4       -0.96    0.355285 -5.729037e-08       0  "
      ]
     },
     "execution_count": 2,
     "metadata": {},
     "output_type": "execute_result"
    }
   ],
   "source": [
    "# Use appropriate dtypes to reduce memory usage\n",
    "dtypes = {\n",
    "    'player_y': 'float32',\n",
    "    'player_vel': 'float32',\n",
    "    'cpu_y': 'float32',\n",
    "    'ball_x': 'float32',\n",
    "    'ball_y': 'float32',\n",
    "    'ball_vel_x': 'float32',\n",
    "    'ball_vel_y': 'float32',\n",
    "    'reward': 'float32',\n",
    "    'action': 'int8'\n",
    "}\n",
    "\n",
    "df = pd.read_csv('logs/pong_states_2025-05-15_20-17-57.csv', dtype=dtypes)\n",
    "\n",
    "print(f\"Loaded dataset with {len(df)} steps\")\n",
    "df.head()"
   ]
  },
  {
   "cell_type": "code",
   "execution_count": 3,
   "id": "da96f9df",
   "metadata": {},
   "outputs": [
    {
     "name": "stdout",
     "output_type": "stream",
     "text": [
      "Unique states: 723728\n",
      "Total steps: 723728\n",
      "State coverage ratio: 1.0\n"
     ]
    }
   ],
   "source": [
    "state_cols = [\"player_y\", \"player_vel\", \"cpu_y\", \"ball_x\", \"ball_y\", \"ball_vel_x\", \"ball_vel_y\"]\n",
    "unique_states = df[state_cols].drop_duplicates()\n",
    "print(\"Unique states:\", len(unique_states))\n",
    "print(\"Total steps:\", len(df))\n",
    "print(\"State coverage ratio:\", len(unique_states) / len(df))"
   ]
  },
  {
   "cell_type": "code",
   "execution_count": 4,
   "id": "5ad62ecf",
   "metadata": {},
   "outputs": [
    {
     "name": "stdout",
     "output_type": "stream",
     "text": [
      "Values of player_y: min=3.5, max=44.5\n",
      "Values of player_vel: min=-0.21599523723125458, max=0.21599653363227844\n",
      "Values of cpu_y: min=3.4839999675750732, max=44.51599884033203\n",
      "Values of ball_x: min=0.004800000227987766, max=63.98720169067383\n",
      "Values of ball_y: min=1.0000035762786865, max=46.99991989135742\n",
      "Values of ball_vel_x: min=-1.0080000162124634, max=0.9599999785423279\n",
      "Values of ball_vel_y: min=-1.065068244934082, max=1.0758265256881714\n",
      "Discretized unique states: 647139\n",
      "Total steps: 723728\n",
      "State coverage ratio: 0.8941743306877722\n"
     ]
    }
   ],
   "source": [
    "import numpy as np\n",
    "\n",
    "state_cols = [\"player_y\", \"player_vel\", \"cpu_y\", \"ball_x\", \"ball_y\", \"ball_vel_x\", \"ball_vel_y\"]\n",
    "\n",
    "# Define bin resolution (e.g., 50 bins per dimension)\n",
    "n_bins = 50\n",
    "\n",
    "# Discretize each column\n",
    "df_discrete = df[state_cols].copy()\n",
    "for col in state_cols:\n",
    "    col_min = df_discrete[col].min()\n",
    "    col_max = df_discrete[col].max()\n",
    "    print(f\"Values of {col}: min={col_min}, max={col_max}\")\n",
    "    # Normalize to [0, 1], then scale to bin indices\n",
    "    df_discrete[col] = ((df_discrete[col] - col_min) / (col_max - col_min + 1e-8) * (n_bins - 1)).astype(int)\n",
    "\n",
    "# Now count unique states after discretization\n",
    "unique_states = df_discrete.drop_duplicates()\n",
    "print(\"Discretized unique states:\", len(unique_states))\n",
    "print(\"Total steps:\", len(df))\n",
    "print(\"State coverage ratio:\", len(unique_states) / len(df))\n"
   ]
  },
  {
   "cell_type": "code",
   "execution_count": 5,
   "id": "2c98045d",
   "metadata": {},
   "outputs": [],
   "source": [
    "def collect_frame_hashes(folder_paths):\n",
    "    frame_hashes = set()\n",
    "    total_frames = 0\n",
    "    for folder in folder_paths:\n",
    "        for fname in sorted(os.listdir(folder)):\n",
    "            if fname.endswith(('.png', '.jpg')):\n",
    "                img_path = os.path.join(folder, fname)\n",
    "                img = Image.open(img_path).convert('L')\n",
    "                arr = np.array(img)\n",
    "                h = hashlib.sha256(arr.tobytes()).hexdigest()\n",
    "                frame_hashes.add(h)\n",
    "                total_frames += 1\n",
    "    return len(frame_hashes), total_frames\n",
    "\n",
    "def compute_global_ufr(folder_paths):\n",
    "    unique, total = collect_frame_hashes(folder_paths)\n",
    "    print(f\"Unique frames: {unique}, Total frames: {total}\")\n",
    "    return unique / total"
   ]
  },
  {
   "cell_type": "code",
   "execution_count": 6,
   "id": "0c26d241",
   "metadata": {},
   "outputs": [
    {
     "name": "stdout",
     "output_type": "stream",
     "text": [
      "Unique frames: 18039, Total frames: 27235\n",
      "Combined UFR: 0.6623\n"
     ]
    }
   ],
   "source": [
    "folders = [\"screens/images/damian_screens_01/\", \"screens/images/damian_screens_02/\", \"screens/images/damian_screens_03/\"]\n",
    "ufr = compute_global_ufr(folders)\n",
    "print(f\"Combined UFR: {ufr:.4f}\")"
   ]
  },
  {
   "cell_type": "code",
   "execution_count": 7,
   "id": "1014428a",
   "metadata": {},
   "outputs": [],
   "source": [
    "import os\n",
    "import hashlib\n",
    "from PIL import Image\n",
    "from collections import defaultdict\n",
    "import matplotlib.pyplot as plt\n",
    "\n",
    "def hash_frame(img_path):\n",
    "    img = Image.open(img_path).convert(\"RGB\")\n",
    "    return hashlib.sha256(img.tobytes()).hexdigest()\n",
    "\n",
    "def collect_frames_by_episode(subfolders):\n",
    "    episodes = defaultdict(list)\n",
    "    \n",
    "    for folder in subfolders:\n",
    "        for fname in os.listdir(folder):\n",
    "            if fname.endswith(\".jpg\") and \"ep\" in fname and \"step\" in fname:\n",
    "                ep_part = fname.split(\"_\")[0]  # 'epXXXX'\n",
    "                ep_id = int(ep_part[2:])  # XXXX -> convert to int\n",
    "                full_path = os.path.join(folder, fname)\n",
    "                episodes[ep_id].append(full_path)\n",
    "    \n",
    "    return dict(sorted(episodes.items()))"
   ]
  },
  {
   "cell_type": "code",
   "execution_count": 8,
   "id": "a9b2717c",
   "metadata": {},
   "outputs": [],
   "source": [
    "def compute_cumulative_ufr(episodes):\n",
    "    seen_hashes = set()\n",
    "    total_frames_so_far = 0\n",
    "    unique_frames_so_far = 0\n",
    "    cum_ufrs = {}\n",
    "\n",
    "    for ep_id, paths in sorted(episodes.items()):\n",
    "        for path in paths:\n",
    "            try:\n",
    "                h = hash_frame(path)\n",
    "                if h not in seen_hashes:\n",
    "                    seen_hashes.add(h)\n",
    "                    unique_frames_so_far += 1\n",
    "                total_frames_so_far += 1\n",
    "            except Exception as e:\n",
    "                print(f\"Error reading {path}: {e}\")\n",
    "        \n",
    "        cum_ufrs[ep_id] = unique_frames_so_far / total_frames_so_far if total_frames_so_far else 0\n",
    "\n",
    "    return cum_ufrs\n",
    "\n",
    "def plot_cumulative_ufr(cum_ufrs):\n",
    "    episodes = list(cum_ufrs.keys())\n",
    "    ufr_values = list(cum_ufrs.values())\n",
    "\n",
    "    plt.figure(figsize=(12, 6))\n",
    "    plt.plot(episodes, ufr_values, marker='o', color='orange')\n",
    "    plt.xlabel(\"Episode\")\n",
    "    plt.ylabel(\"Cumulative Unique Frame Ratio\")\n",
    "    plt.title(\"Cumulative UFR Over Training Episodes\")\n",
    "    plt.grid(True)\n",
    "\n",
    "    # Ensure only integer ticks on the x-axis\n",
    "    plt.xticks(ticks=range(min(episodes), max(episodes)+1), rotation=45)\n",
    "\n",
    "    plt.tight_layout()\n",
    "    plt.show()"
   ]
  },
  {
   "cell_type": "code",
   "execution_count": 9,
   "id": "d28a1eaf",
   "metadata": {},
   "outputs": [
    {
     "data": {
      "image/png": "[encoded data removed]",
      "text/plain": [
       "<Figure size 1200x600 with 1 Axes>"
      ]
     },
     "metadata": {},
     "output_type": "display_data"
    }
   ],
   "source": [
    "subfolders = [\"screens/images/damian_screens_01/\", \"screens/images/damian_screens_02/\", \"screens/images/damian_screens_03/\"]\n",
    "episodes = collect_frames_by_episode(subfolders)\n",
    "ep_ufrs = compute_cumulative_ufr(episodes)\n",
    "\n",
    "# save data to disk\n",
    "ufs_values = list(ep_ufrs.values())\n",
    "\n",
    "np_episodes = np.array(list(ep_ufrs.keys()))\n",
    "np_ufrs = np.array(list(ep_ufrs.values()))\n",
    "\n",
    "np.save(\"ufr_damian_episodes.npy\", np_episodes)\n",
    "np.save(\"ufr_damian_values.npy\", np_ufrs)\n",
    "\n",
    "plot_cumulative_ufr(ep_ufrs)"
   ]
  },
  {
   "cell_type": "code",
   "execution_count": null,
   "id": "4a7d602e",
   "metadata": {},
   "outputs": [],
   "source": []
  }
 ],
 "metadata": {
  "kernelspec": {
   "display_name": "dis",
   "language": "python",
   "name": "python3"
  },
  "language_info": {
   "codemirror_mode": {
    "name": "ipython",
    "version": 3
   },
   "file_extension": ".py",
   "mimetype": "text/x-python",
   "name": "python",
   "nbconvert_exporter": "python",
   "pygments_lexer": "ipython3",
   "version": "3.11.11"
  }
 },
 "nbformat": 4,
 "nbformat_minor": 5
}
